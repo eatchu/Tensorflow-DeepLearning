{
 "cells": [
  {
   "cell_type": "markdown",
   "metadata": {},
   "source": [
    "1. 텍스트 벡터화\n",
    " - 텍스트를 숫자형 백터로 변환\n",
    " - 작업절차\n",
    "   단계1 : 토큰 생성 : 텍스트 -> 토큰 (단어 or 문장)\n",
    "   단계2 : 정수 인덱스 : 토큰에 중복되지 않는 고유숫자 할당\n",
    "   단계3 : 인코딩 : 정수 인덱스 -> 숫자형 백터 할당\n",
    "2. 인코딩 방법 : one-hot(sparse matrix), word embedding "
   ]
  },
  {
   "cell_type": "code",
   "execution_count": 1,
   "metadata": {},
   "outputs": [
    {
     "name": "stdout",
     "output_type": "stream",
     "text": [
      "{'the': 1, 'dog': 2, 'sat': 3, 'on': 4, 'table': 5, 'is': 6, 'my': 7, 'poodle': 8}\n",
      "[[1, 2, 3, 4, 1, 5], [1, 2, 6, 7, 8]]\n",
      "[[1 2 3 4 1 5]\n",
      " [0 1 2 6 7 8]]\n"
     ]
    },
    {
     "data": {
      "text/plain": [
       "'\\n[[1 2 3 4 1 5]\\n [0 1 2 6 7 8]] -> 0 padding\\n'"
      ]
     },
     "execution_count": 1,
     "metadata": {},
     "output_type": "execute_result"
    }
   ],
   "source": [
    "\n",
    "import tensorflow as tf \n",
    "from tensorflow.keras.preprocessing.text import Tokenizer # token 생성\n",
    "from tensorflow.keras.preprocessing.sequence import pad_sequences # padding\n",
    "from tensorflow.keras.utils import to_categorical # one-hot-encoding\n",
    "\n",
    "\n",
    "# 토큰 생성기\n",
    "tokenizer = Tokenizer()\n",
    "\n",
    "texts = ['The dog sat on the table,', 'The dog is my poodle']\n",
    "\n",
    "# 1. 토큰 생성\n",
    "tokenizer.fit_on_texts(texts) # 텍스트 적용\n",
    "token = tokenizer.word_index # 토큰 반환 : 정수 인덱스 생성\n",
    "print(token) # {word : int index} : 중복 x\n",
    "# {'the': 1, 'dog': 2, 'sat': 3, 'on': 4, 'table': 5, 'is': 6, 'my': 7, 'poodle': 8}\n",
    "\n",
    "\n",
    "# 2. 정수 인덱스 : 토큰 -> 정수인덱스(단어 순서 인덱스)\n",
    "seq_index = tokenizer.texts_to_sequences(texts)\n",
    "print(seq_index)\n",
    "# [[1, 2, 3, 4, 1, 5], [1, 2, 6, 7, 8]]\n",
    "\n",
    "\n",
    "# 3. 패딩(padding) : 정수 인덱스 길이 맞춤\n",
    "padding = pad_sequences(seq_index)\n",
    "print(padding)\n",
    "'''\n",
    "[[1 2 3 4 1 5]\n",
    " [0 1 2 6 7 8]] -> 0 padding\n",
    "'''\n"
   ]
  },
  {
   "cell_type": "code",
   "execution_count": 2,
   "metadata": {},
   "outputs": [
    {
     "name": "stdout",
     "output_type": "stream",
     "text": [
      "[[[0. 1. 0. 0. 0. 0. 0. 0. 0.]\n",
      "  [0. 0. 1. 0. 0. 0. 0. 0. 0.]\n",
      "  [0. 0. 0. 1. 0. 0. 0. 0. 0.]\n",
      "  [0. 0. 0. 0. 1. 0. 0. 0. 0.]\n",
      "  [0. 1. 0. 0. 0. 0. 0. 0. 0.]\n",
      "  [0. 0. 0. 0. 0. 1. 0. 0. 0.]]\n",
      "\n",
      " [[1. 0. 0. 0. 0. 0. 0. 0. 0.]\n",
      "  [0. 1. 0. 0. 0. 0. 0. 0. 0.]\n",
      "  [0. 0. 1. 0. 0. 0. 0. 0. 0.]\n",
      "  [0. 0. 0. 0. 0. 0. 1. 0. 0.]\n",
      "  [0. 0. 0. 0. 0. 0. 0. 1. 0.]\n",
      "  [0. 0. 0. 0. 0. 0. 0. 0. 1.]]]\n"
     ]
    },
    {
     "data": {
      "text/plain": [
       "(2, 6, 9)"
      ]
     },
     "execution_count": 2,
     "metadata": {},
     "output_type": "execute_result"
    }
   ],
   "source": [
    "# 4. 인코딩(one-hot encoding) : true(1) vs false(0)\n",
    "one_hot = to_categorical(padding)\n",
    "print(one_hot)\n",
    "\n",
    "\n",
    "one_hot.shape"
   ]
  }
 ],
 "metadata": {
  "kernelspec": {
   "display_name": "Python 3",
   "language": "python",
   "name": "python3"
  },
  "language_info": {
   "codemirror_mode": {
    "name": "ipython",
    "version": 3
   },
   "file_extension": ".py",
   "mimetype": "text/x-python",
   "name": "python",
   "nbconvert_exporter": "python",
   "pygments_lexer": "ipython3",
   "version": "3.7.7"
  }
 },
 "nbformat": 4,
 "nbformat_minor": 4
}
