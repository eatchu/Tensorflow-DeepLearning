{
 "cells": [
  {
   "cell_type": "markdown",
   "metadata": {},
   "source": [
    "# Tensorflow 변수 유형\n",
    " 1. 초기값을 갖는 변수\n",
    "     - 변수 = tf.Variable(초기값)\n",
    " 2. 초기값이 없는 변수 : Feed 방식\n",
    "     - 변수 = tf.placeholder(dtype, shape) : 들어오는 값에 따라 shape 자동 결정   "
   ]
  },
  {
   "cell_type": "code",
   "execution_count": 1,
   "metadata": {},
   "outputs": [
    {
     "name": "stdout",
     "output_type": "stream",
     "text": [
      "WARNING:tensorflow:From C:\\Users\\user\\anaconda3\\lib\\site-packages\\tensorflow_core\\python\\compat\\v2_compat.py:65: disable_resource_variables (from tensorflow.python.ops.variable_scope) is deprecated and will be removed in a future version.\n",
      "Instructions for updating:\n",
      "non-resource variables are not supported in the long term\n"
     ]
    }
   ],
   "source": [
    "import tensorflow.compat.v1 as tf\n",
    "tf.disable_v2_behavior()"
   ]
  },
  {
   "cell_type": "code",
   "execution_count": 2,
   "metadata": {},
   "outputs": [],
   "source": [
    "\n",
    "# 상수 정의\n",
    "x = tf.constant(100.0)\n",
    "y = tf.constant(50.0)\n",
    "\n",
    "# 식 정의\n",
    "add = tf.add(x,y) # 150\n",
    "\n",
    "# 변수 정의\n",
    "var1 = tf.Variable(add) # Fetch방식 : 초기값\n",
    "var2 = tf.placeholder(dtype = tf.float32) # Feed방식 : 초기값(x)\n",
    "\n",
    "# 변수 참조하는 식\n",
    "mul = tf.multiply(x,var1)\n",
    "mul2 = tf.multiply(x,var2)"
   ]
  },
  {
   "cell_type": "code",
   "execution_count": 3,
   "metadata": {},
   "outputs": [
    {
     "name": "stdout",
     "output_type": "stream",
     "text": [
      "add= 150.0\n",
      "var1= 150.0\n",
      "var2= 150.0\n",
      "mul_re= 15000.0\n",
      "mul2= [150. 250. 350.]\n"
     ]
    }
   ],
   "source": [
    "\n",
    "with tf.Session() as sess:\n",
    "    print(\"add=\",sess.run(add)) # 식 실행 : add = 150\n",
    "    sess.run(tf.global_variables_initializer()) # fetch방식 변수 초기화 : feed방식 적용 x\n",
    "    print(\"var1=\", sess.run(var1)) # 변수 생성\n",
    "    print(\"var2=\", sess.run(var2, feed_dict={var2:150})) # 데이터 공급 -> 실수형 변환\n",
    "   \n",
    "    mul_re = sess.run(mul) # 상수(100)와 변수(150) 참조\n",
    "    print(\"mul_re=\",mul_re) # 15000.0\n",
    "    \n",
    "    # feed 방식의 식 연산 수행\n",
    "    mul_re2 = sess.run(mul2, feed_dict={var2:[1.5, 2.5, 3.5]})\n",
    "    print('mul2=',mul_re2) # mul2= [150. 250. 350.]\n",
    "    \n",
    "    "
   ]
  }
 ],
 "metadata": {
  "kernelspec": {
   "display_name": "Python 3",
   "language": "python",
   "name": "python3"
  },
  "language_info": {
   "codemirror_mode": {
    "name": "ipython",
    "version": 3
   },
   "file_extension": ".py",
   "mimetype": "text/x-python",
   "name": "python",
   "nbconvert_exporter": "python",
   "pygments_lexer": "ipython3",
   "version": "3.7.7"
  }
 },
 "nbformat": 4,
 "nbformat_minor": 4
}
