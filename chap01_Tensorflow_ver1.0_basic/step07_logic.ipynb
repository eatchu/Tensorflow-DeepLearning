{
 "cells": [
  {
   "cell_type": "markdown",
   "metadata": {},
   "source": [
    "# if, while 형식"
   ]
  },
  {
   "cell_type": "code",
   "execution_count": 1,
   "metadata": {},
   "outputs": [
    {
     "name": "stdout",
     "output_type": "stream",
     "text": [
      "WARNING:tensorflow:From C:\\Users\\user\\anaconda3\\lib\\site-packages\\tensorflow_core\\python\\compat\\v2_compat.py:65: disable_resource_variables (from tensorflow.python.ops.variable_scope) is deprecated and will be removed in a future version.\n",
      "Instructions for updating:\n",
      "non-resource variables are not supported in the long term\n"
     ]
    }
   ],
   "source": [
    "\n",
    "import tensorflow.compat.v1 as tf\n",
    "tf.disable_v2_behavior()\n",
    "\n"
   ]
  },
  {
   "cell_type": "code",
   "execution_count": 4,
   "metadata": {},
   "outputs": [
    {
     "name": "stdout",
     "output_type": "stream",
     "text": [
      "y= 20\n"
     ]
    }
   ],
   "source": [
    "# 1. if문\n",
    "x = tf.constant(10) # x=10\n",
    "\n",
    "\n",
    "def true_fn():\n",
    "    return tf.multiply(x,10) # x * 10\n",
    "\n",
    "def false_fn():\n",
    "    return tf.add(x,10) # x + 10\n",
    "\n",
    "y = tf.cond(x > 100, true_fn, false_fn) # false -> tf.add(x,10)\n",
    "'''\n",
    "pred : 조건식\n",
    "true_fn : 조건식이 참인 경우 수행하는 함수(인수x)\n",
    "false_fn : 조건식이 거짓인 경우 수행하는 함수(인수x)\n",
    "'''\n",
    "\n",
    "sess = tf.Session()\n",
    "\n",
    "print(\"y=\",sess.run(y))"
   ]
  },
  {
   "cell_type": "code",
   "execution_count": 5,
   "metadata": {},
   "outputs": [
    {
     "name": "stdout",
     "output_type": "stream",
     "text": [
      "loop= 100\n"
     ]
    }
   ],
   "source": [
    "# 2. while문\n",
    "i = tf.constant(0) # i = 0 : 반복변수\n",
    "\n",
    "def cond(i):\n",
    "    return tf.less(i,100) # i < 100\n",
    "\n",
    "def body(i):\n",
    "    return tf.add(i,1) # i += 1\n",
    "\n",
    "\n",
    "loop = tf.while_loop(cond, body, (i,))\n",
    "'''\n",
    "cond : 조건식(호출가능한 함수 정의)\n",
    "body : 반복문(호출가능한 함수 정의)\n",
    "loop_vars : 반복변수(tuple or list)\n",
    "'''\n",
    "print(\"loop=\",sess.run(loop)) "
   ]
  }
 ],
 "metadata": {
  "kernelspec": {
   "display_name": "Python 3",
   "language": "python",
   "name": "python3"
  },
  "language_info": {
   "codemirror_mode": {
    "name": "ipython",
    "version": 3
   },
   "file_extension": ".py",
   "mimetype": "text/x-python",
   "name": "python",
   "nbconvert_exporter": "python",
   "pygments_lexer": "ipython3",
   "version": "3.7.7"
  }
 },
 "nbformat": 4,
 "nbformat_minor": 4
}
