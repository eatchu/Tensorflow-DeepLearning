{
 "cells": [
  {
   "cell_type": "markdown",
   "metadata": {},
   "source": [
    "# Tensorboard & 사칙연산 함수\n",
    "1. Tensorboard : tensorflow 시각화 도구\n",
    "2. 사칙연산 함수\n",
    "   - tf.add(x,y,name)\n",
    "   - tf.subtract(x,y,name)\n",
    "   - tf.div(x,y,name)\n",
    "   - tf.multiply(x,y,name)"
   ]
  },
  {
   "cell_type": "code",
   "execution_count": 1,
   "metadata": {
    "scrolled": false
   },
   "outputs": [
    {
     "name": "stdout",
     "output_type": "stream",
     "text": [
      "WARNING:tensorflow:From C:\\Users\\user\\anaconda3\\lib\\site-packages\\tensorflow_core\\python\\compat\\v2_compat.py:65: disable_resource_variables (from tensorflow.python.ops.variable_scope) is deprecated and will be removed in a future version.\n",
      "Instructions for updating:\n",
      "non-resource variables are not supported in the long term\n"
     ]
    }
   ],
   "source": [
    "\n",
    "import tensorflow.compat.v1 as tf\n",
    "tf.disable_v2_behavior()\n",
    "\n",
    "\n",
    "# tensorboard 초기화\n",
    "tf.reset_default_graph()\n"
   ]
  },
  {
   "cell_type": "code",
   "execution_count": 2,
   "metadata": {
    "scrolled": true
   },
   "outputs": [
    {
     "name": "stdout",
     "output_type": "stream",
     "text": [
      "WARNING:tensorflow:From <ipython-input-2-6c43c37618fc>:13: div (from tensorflow.python.ops.math_ops) is deprecated and will be removed in a future version.\n",
      "Instructions for updating:\n",
      "Deprecated in favor of operator or tf.math.divide.\n",
      "115\n"
     ]
    }
   ],
   "source": [
    "\n",
    "# 상수 정의\n",
    "x = tf.constant(1, name='x')\n",
    "y = tf.constant(2, name='y')\n",
    "\n",
    "\n",
    "\n",
    "# 사칙연산 : 식 정의\n",
    "# name : 공백, 특수문자, 한글 사용 불가능\n",
    "a = tf.add(1,2,name=\"a\")\n",
    "b = tf.multiply(a,6,name=\"b\")\n",
    "\n",
    "c = tf.subtract(20,10,name=\"c\")\n",
    "d = tf.div(c,2,name=\"d\")\n",
    "\n",
    "g = tf.add(b,d,name=\"g\")\n",
    "h = tf.multiply(g,d,name=\"h\")\n",
    "\n",
    "\n",
    "# sess = tf.Session()\n",
    "with tf.Session() as sess:\n",
    "    print(sess.run(h)) # h = 115\n",
    "    tf.summary.merge_all() # tensor 모으는 역할\n",
    "    writer = tf.summary.FileWriter(\"C:/IITT/6_Tensorflow/graph\",sess.graph)\n",
    "    writer.close()\n",
    "    # cmd 창에 tensorboard --logdir=c:\\ncs\\tensorflow\\graph\n",
    "    \n",
    "    \n",
    "    "
   ]
  },
  {
   "cell_type": "code",
   "execution_count": null,
   "metadata": {},
   "outputs": [],
   "source": [
    "\"\"\"\n",
    "name_scope이용 : 영역별 tensorflow 시각화\n",
    " - model 생성 -> model 오차 -> model 평가\n",
    "\"\"\"\n",
    "\n",
    "# tensorboard 초기화\n",
    "tf.reset_default_graph()\n",
    "\n",
    "# 상수 정의 : X, a, b, Y\n",
    "X = tf.constant(5.0,name=\"x_data\")\n",
    "a = tf.constant(10.0,name=\"a\")\n",
    "b = tf.constant(4.45,name=\"b\")\n",
    "Y = tf.constant(55.0,name=\"Y\")\n",
    "\n",
    "\n",
    "# name_scope\n",
    "with tf.name_scope(\"Regress_model\") as scope :\n",
    "    model = (X * a) + b # y 예측치\n",
    "\n",
    "with tf.name_scope(\"Model_error\") as scope : \n",
    "    model_err = tf.abs(tf.subtract(Y,model)) # 부호 절댓값\n",
    "\n",
    "with tf.name_scope(\"Model_evaluation\") as scope :\n",
    "    # mse : error구하기 -> 제곱 -> 전체 평균\n",
    "    square = tf.square(model_err)\n",
    "    mse = tf.reduce_mean(square)\n",
    "\n",
    "with tf.Session() as sess :\n",
    "    tf.summary.merge_all()\n",
    "    writer = tf.summary.FileWriter(\"C:/IITT/6_Tensorflow/graph\", sess.graph)\n",
    "    writer.close()\n",
    "    print(\"x=\", sess.run(X))\n",
    "    print(\"y=\", sess.run(Y))\n",
    "    print(\"y pred=\", sess.run(model))\n",
    "    print(\"err=\", sess.run(model_err))\n",
    "    print(\"mse=\", sess.run(mse))"
   ]
  }
 ],
 "metadata": {
  "kernelspec": {
   "display_name": "Python 3",
   "language": "python",
   "name": "python3"
  },
  "language_info": {
   "codemirror_mode": {
    "name": "ipython",
    "version": 3
   },
   "file_extension": ".py",
   "mimetype": "text/x-python",
   "name": "python",
   "nbconvert_exporter": "python",
   "pygments_lexer": "ipython3",
   "version": "3.7.7"
  }
 },
 "nbformat": 4,
 "nbformat_minor": 4
}
