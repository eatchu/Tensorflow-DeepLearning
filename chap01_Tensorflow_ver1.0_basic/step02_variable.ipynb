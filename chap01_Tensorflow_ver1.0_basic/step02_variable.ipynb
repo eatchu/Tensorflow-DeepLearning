{
 "cells": [
  {
   "cell_type": "markdown",
   "metadata": {},
   "source": [
    "# 변수 정의와 초기화\n",
    "\n",
    "- 상수 vs 변수\n",
    "    - 상수 : 수정 불가, 초기화 필요 없음\n",
    "    - 변수 : 수정 가능, 초기화 필요"
   ]
  },
  {
   "cell_type": "code",
   "execution_count": 1,
   "metadata": {},
   "outputs": [
    {
     "name": "stdout",
     "output_type": "stream",
     "text": [
      "WARNING:tensorflow:From C:\\Users\\user\\anaconda3\\lib\\site-packages\\tensorflow_core\\python\\compat\\v2_compat.py:65: disable_resource_variables (from tensorflow.python.ops.variable_scope) is deprecated and will be removed in a future version.\n",
      "Instructions for updating:\n",
      "non-resource variables are not supported in the long term\n"
     ]
    }
   ],
   "source": [
    "\n",
    "import tensorflow.compat.v1 as tf \n",
    "tf.disable_v2_behavior()\n"
   ]
  },
  {
   "cell_type": "code",
   "execution_count": 2,
   "metadata": {},
   "outputs": [
    {
     "name": "stdout",
     "output_type": "stream",
     "text": [
      "Tensor(\"x:0\", shape=(3,), dtype=float32)\n",
      "<tf.Variable 'y:0' shape=(3,) dtype=float32_ref>\n"
     ]
    }
   ],
   "source": [
    "''' 프로그램 정의 영역 '''\n",
    "# 상수 정의\n",
    "x = tf.constant([1.5,2.5,3.5], name='x') # 1차원 : 수정 불가\n",
    "print(x) # Tensor(\"x:0\", shape=(3,), dtype=float32)\n",
    "\n",
    "\n",
    "# 변수 정의\n",
    "y = tf.Variable([1.0,2.0,3.0], name='y') # 1차원 : 수정 가능\n",
    "print(y) # <tf.Variable 'y_1:0' shape=(3,) dtype=float32_ref>\n",
    "\n",
    "\n",
    "# 식 정의\n",
    "mul = x * y # 상수 * 변수 \n",
    "# graph = node(연산자:+-*/) + edge(데이터:x,y)\n",
    "# tensor : 데이터의 자료구조 (scala(0), vector(1), matrix(2), array(3), n-array)\n",
    "\n",
    "sess = tf.Session()\n",
    "\n",
    "# 변수 초기화 object 생성\n",
    "init = tf.global_variables_initializer()\n"
   ]
  },
  {
   "cell_type": "code",
   "execution_count": 3,
   "metadata": {},
   "outputs": [
    {
     "name": "stdout",
     "output_type": "stream",
     "text": [
      "[1.5 2.5 3.5]\n",
      "[1. 2. 3.]\n",
      "[ 1.5  5.  10.5]\n",
      "17.0\n"
     ]
    }
   ],
   "source": [
    "\n",
    "''' 프로그램 실행 영역 '''\n",
    "print(sess.run(x)) # [1.5 2.5 3.5]\n",
    "# print(sess.run(y)) -> error : 변수 초기화 해줘야함\n",
    "\n",
    "sess.run(init) # 변수 값 초기화\n",
    "print(sess.run(y)) # [1. 2. 3.]\n",
    "\n",
    "# 식 할당\n",
    "mul_re = sess.run(mul)\n",
    "print(mul_re) # array([ 1.5,  5. , 10.5], dtype=float32)\n",
    "type(mul_re) # numpy.ndarray\n",
    "print(mul_re.sum()) # sum = 17.0\n",
    "\n",
    "\n",
    "\n",
    "sess.close()\n"
   ]
  }
 ],
 "metadata": {
  "kernelspec": {
   "display_name": "Python 3",
   "language": "python",
   "name": "python3"
  },
  "language_info": {
   "codemirror_mode": {
    "name": "ipython",
    "version": 3
   },
   "file_extension": ".py",
   "mimetype": "text/x-python",
   "name": "python",
   "nbconvert_exporter": "python",
   "pygments_lexer": "ipython3",
   "version": "3.7.7"
  }
 },
 "nbformat": 4,
 "nbformat_minor": 4
}
