{
 "cells": [
  {
   "cell_type": "markdown",
   "metadata": {},
   "source": [
    "# numpy vs tensorflow\n",
    "1. 상수 생성 함수\n",
    "2. 차원축소 수학 연산"
   ]
  },
  {
   "cell_type": "code",
   "execution_count": 1,
   "metadata": {},
   "outputs": [],
   "source": [
    "import tensorflow as tf # ver1.x"
   ]
  },
  {
   "cell_type": "markdown",
   "metadata": {},
   "source": [
    "1. 상수 생성 함수\n",
    " - tf.constant(value, dtype, shape) : 지정한 값(value)으로 상수 텐서 생성   \n",
    " - tf.zeros(shape, dtype) : 모양과 타입으로 모든 원소가 0으로 초기화된 텐서 생성 \n",
    " - tf.ones(shape, dtype) : 모양과 타입으로 모든 원소가 1로 초기화된 텐서 생성\n",
    " - tf.identity(input) : 내용과 모양이 동일한 텐서 생성   \n",
    " - tf.fill(dims, value) : 주어진 scalar값으로 초기화된 텐서 생성 \n",
    " - tf.tuple(tensor) : 여러 개의 tensor list로 묶기 \n",
    " - tf.linspace(start, stop, num) : start~stop 범위에서 num수 만큼 텐서 생성  \n",
    " - tf.range(start, limit, delta) : 시작점, 종료점, 차이 이용 텐서 생성 "
   ]
  },
  {
   "cell_type": "code",
   "execution_count": 2,
   "metadata": {
    "scrolled": false
   },
   "outputs": [
    {
     "name": "stdout",
     "output_type": "stream",
     "text": [
      "tf.Tensor(\n",
      "[[0. 0. 0.]\n",
      " [0. 0. 0.]], shape=(2, 3), dtype=float32)\n",
      "tf.Tensor(\n",
      "[[1. 1. 1.]\n",
      " [1. 1. 1.]], shape=(2, 3), dtype=float32)\n",
      "tf.Tensor(\n",
      "[[5 5 5]\n",
      " [5 5 5]], shape=(2, 3), dtype=int32)\n",
      "tf.Tensor(\n",
      "[[10 10 10]\n",
      " [10 10 10]], shape=(2, 3), dtype=int32)\n",
      "tf.Tensor([15.2   16.975 18.75  20.525 22.3  ], shape=(5,), dtype=float32)\n",
      "tf.Tensor([10.   7.5  5.   2.5], shape=(4,), dtype=float32)\n"
     ]
    }
   ],
   "source": [
    "a = tf.zeros( (2, 3) )\n",
    "print(a) # sess.run()\n",
    "\n",
    "\n",
    "b = tf.ones( (2, 3) )\n",
    "print(b)\n",
    "\n",
    "c = tf.fill((2, 3), 5) # (shape, value) -> (2,3)행렬을 5로 초기화\n",
    "print(c) # sess.run(c)\n",
    "\n",
    "d = tf.constant(10, tf.int32, (2, 3))\n",
    "print(d)\n",
    "\n",
    "e = tf.linspace(15.2, 22.3, 5)\n",
    "print(e) \n",
    "\n",
    "f = tf.range(10, 1.5, -2.5)\n",
    "print(f)"
   ]
  },
  {
   "cell_type": "markdown",
   "metadata": {},
   "source": [
    "2. 차원축소 수학 연산\n",
    " - tf.reduce_sum(input_tensor, reduction_indices) : 지정한 차원을 대상으로 원소들 덧셈\n",
    " - tf.reduce_mean(input_tensor, reduction_indices) : 지정한 차원을 대상으로 원소들 평균\n",
    " - tf.reduce_prod(input_tensor, reduction_indices) : 지정한 차원을 대상으로 원소들 곱셈\n",
    " - tf.reduce_min(input_tensor, reduction_indices) : 지정한 차원을 대상으로 최솟값 계산\n",
    " - tf.reduce_max(input_tensor, reduction_indices) : 지정한 차원을 대상으로 최댓값 계산\n",
    " - tf.reduce_all(input_tensor) : tensor 원소가 전부 True -> True 반환\n",
    " - tf.reduce_any(input_tensro) : tensor 원소가 하나라도 True -> True 반환  "
   ]
  },
  {
   "cell_type": "code",
   "execution_count": 4,
   "metadata": {},
   "outputs": [
    {
     "name": "stdout",
     "output_type": "stream",
     "text": [
      "tf.Tensor([10 10 10], shape=(3,), dtype=int32)\n",
      "tf.Tensor([15 15], shape=(2,), dtype=int32)\n",
      "tf.Tensor(1.5, shape=(), dtype=float32)\n",
      "tf.Tensor(2.0, shape=(), dtype=float32)\n",
      "tf.Tensor(False, shape=(), dtype=bool)\n",
      "tf.Tensor(True, shape=(), dtype=bool)\n"
     ]
    }
   ],
   "source": [
    "print(tf.reduce_sum(c, axis=0)) # 행축 합계:열 단위  \n",
    "print(tf.reduce_sum(c, axis=1)) # 열축 합계:행 단위   \n",
    "\n",
    "data = [[1., 1.], [2., 2.]]\n",
    "x = tf.constant(data)\n",
    "print(tf.reduce_mean(x)) # 1.5\n",
    "print(tf.reduce_max(x)) # 2.0 \n",
    "\n",
    "bool_data = [[True, True], [False, False]] \n",
    "print(tf.reduce_all(bool_data)) \n",
    "print(tf.reduce_any(bool_data)) "
   ]
  }
 ],
 "metadata": {
  "kernelspec": {
   "display_name": "Python 3",
   "language": "python",
   "name": "python3"
  },
  "language_info": {
   "codemirror_mode": {
    "name": "ipython",
    "version": 3
   },
   "file_extension": ".py",
   "mimetype": "text/x-python",
   "name": "python",
   "nbconvert_exporter": "python",
   "pygments_lexer": "ipython3",
   "version": "3.7.7"
  }
 },
 "nbformat": 4,
 "nbformat_minor": 4
}
