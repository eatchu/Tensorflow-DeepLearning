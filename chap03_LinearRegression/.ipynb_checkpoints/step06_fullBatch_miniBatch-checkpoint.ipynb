{
 "cells": [
  {
   "cell_type": "code",
   "execution_count": 1,
   "metadata": {},
   "outputs": [
    {
     "name": "stdout",
     "output_type": "stream",
     "text": [
      "WARNING:tensorflow:From C:\\Users\\user\\anaconda3\\lib\\site-packages\\tensorflow_core\\python\\compat\\v2_compat.py:65: disable_resource_variables (from tensorflow.python.ops.variable_scope) is deprecated and will be removed in a future version.\n",
      "Instructions for updating:\n",
      "non-resource variables are not supported in the long term\n"
     ]
    }
   ],
   "source": [
    "import numpy as np # log()\n",
    "from sklearn.datasets import fetch_california_housing\n",
    "from sklearn.preprocessing import minmax_scale # 정규화\n",
    "from sklearn.metrics import mean_absolute_error, mean_squared_error\n",
    "from sklearn.model_selection import train_test_split\n",
    "import tensorflow.compat.v1 as tf # ver1.x\n",
    "tf.disable_v2_behavior() # ver2.0 사용안함\n",
    "import time # 실행 시간 측정 "
   ]
  },
  {
   "cell_type": "code",
   "execution_count": 2,
   "metadata": {},
   "outputs": [
    {
     "name": "stdout",
     "output_type": "stream",
     "text": [
      "(20640, 8)\n",
      "(15480, 8)\n",
      "(5160, 8)\n"
     ]
    }
   ],
   "source": [
    "\n",
    "# Hyper parameter\n",
    "learning_rate = 0.01 # 학습율 \n",
    "iter_size = 100 # 학습횟수 \n",
    "batch_size = 5000 # 1회 공급 data\n",
    "\n",
    "# 1. dataset load\n",
    "X, y = fetch_california_housing(return_X_y=True)\n",
    "\n",
    "# x data 정규화 \n",
    "print(X.shape) # (20640, 8)\n",
    "x_data = minmax_scale(X) # 정규화 \n",
    "\n",
    "# y data 편향 제거\n",
    "y_data = np.log(y)  \n",
    "\n",
    "# 2. train/test split\n",
    "x_train, x_test, y_train, y_test = train_test_split(\n",
    "        x_data, y_data, random_state=123) # test_size = 0.25\n",
    "print(x_train.shape) # (15480, 8)\n",
    "print(x_test.shape) # (5160, 8)\n",
    "\n",
    "# X, Y변수 : 공급형 \n",
    "X = tf.placeholder(tf.float32, [None, 8]) # x변수:2차원\n",
    "Y = tf.placeholder(tf.float32, [None]) # y변수 : 1차원   \n",
    "\n",
    "# a,b변수 : 0 초기화 or 난수  \n",
    "a = tf.Variable(tf.zeros([8, 1])) # a행, X열 - 수 일치 \n",
    "b = tf.Variable(tf.zeros([1]))\n",
    "\n",
    "# a와 X 행렬곱 \n",
    "y_pred = tf.matmul(X, a) + b # a행, X열 - 수 일치 \n",
    "\n",
    "# 비용함수(손실 함수) 작성 : \n",
    "cost = tf.reduce_mean(tf.square(y_pred - Y))\n",
    "\n",
    "# 경사항강법 최적화 수행 : 0.1(0.01-속도 느림)\n",
    "optimizer = tf.train.GradientDescentOptimizer(learning_rate=0.01)\n",
    "\n",
    "# 비용 최소화를 목적으로 한 학습\n",
    "train = optimizer.minimize(cost)\n",
    "\n"
   ]
  },
  {
   "cell_type": "code",
   "execution_count": 4,
   "metadata": {},
   "outputs": [
    {
     "name": "stdout",
     "output_type": "stream",
     "text": [
      "step= 10  cost val= 0.502539\n",
      "step= 20  cost val= 0.41457674\n",
      "step= 30  cost val= 0.37040043\n",
      "step= 40  cost val= 0.3482064\n",
      "step= 50  cost val= 0.3370484\n",
      "step= 60  cost val= 0.33143127\n",
      "step= 70  cost val= 0.3285961\n",
      "step= 80  cost val= 0.32715777\n",
      "step= 90  cost val= 0.32642108\n",
      "step= 100  cost val= 0.32603693\n",
      "*** model 평가(test set) ***\n",
      "MSE = 0.32020\n",
      "MAE = 0.45852\n",
      "예측값 평균= 0.5545497\n",
      "실제값 평균= 0.56379884\n",
      "==============================\n",
      "실행시간 :  108.08769750595093\n"
     ]
    }
   ],
   "source": [
    "\n",
    "# 세션 생성하고 초기화\n",
    "with tf.Session() as sess:\n",
    "    sess.run(tf.global_variables_initializer()) # 변수 초기화    \n",
    "    \n",
    "    # full batch : full data 공급 \n",
    "    feed_data = {X: x_train, Y: y_train} # full data\n",
    "    \n",
    "    # model 학습(train set) : 100번 수행   \n",
    "    chktime=time.time()\n",
    "    for step in range(iter_size): \n",
    "        # full data 공급 \n",
    "        _, cost_val = sess.run([train, cost], feed_dict = feed_data)\n",
    "        \n",
    "        # mini batch : 1step당 3회 학습결과 반영 \n",
    "        '''\n",
    "        for i in range(3) : # 0~2[0~5000, 5000~10000, 10000~15000]\n",
    "            start = i * batch_size # 0 > 5000 > 10000\n",
    "            end = (start) + batch_size # 5000 >  10000 > 15000\n",
    "            print(' start=', start, 'end=', end)\n",
    "            # mini data 공급             \n",
    "            feed_data = {X: x_train[start:end], Y: y_train[start:end]}\n",
    "            _, cost_val = sess.run([train, cost], feed_dict = feed_data)\n",
    "        '''         \n",
    "        # 1step 학습 후 cost 출력 \n",
    "        if (step+1)%10 == 0:\n",
    "            print('step=', step+1, ' cost val=', cost_val)\n",
    "    \n",
    "    # 최적화 model 평가\n",
    "    print('*** model 평가(test set) ***')\n",
    "    feed_data2 = {X: x_test, Y: y_test} # test set - full data \n",
    "    y_pred_re = sess.run(y_pred, feed_dict = feed_data2) \n",
    "    y_true = sess.run(Y, feed_dict = feed_data2)\n",
    "    print(\"MSE = %.5f\" % mean_squared_error(y_true, y_pred_re))    \n",
    "    print(\"MAE = %.5f\" % mean_absolute_error(y_true, y_pred_re))\n",
    "    \n",
    "    # 실제값 vs 예측값 평균 비교 \n",
    "    print('예측값 평균=', y_pred_re.mean()) \n",
    "    print('실제값 평균=', y_true.mean()) \n",
    "    \n",
    "    print(\"=\"*30)\n",
    "    chktime=time.time()-chktime\n",
    "    print(\"실행시간 : \",chktime)"
   ]
  }
 ],
 "metadata": {
  "kernelspec": {
   "display_name": "Python 3",
   "language": "python",
   "name": "python3"
  },
  "language_info": {
   "codemirror_mode": {
    "name": "ipython",
    "version": 3
   },
   "file_extension": ".py",
   "mimetype": "text/x-python",
   "name": "python",
   "nbconvert_exporter": "python",
   "pygments_lexer": "ipython3",
   "version": "3.7.7"
  }
 },
 "nbformat": 4,
 "nbformat_minor": 4
}
