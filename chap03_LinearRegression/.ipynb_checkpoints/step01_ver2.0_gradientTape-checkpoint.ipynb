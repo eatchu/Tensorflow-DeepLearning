{
 "cells": [
  {
   "cell_type": "markdown",
   "metadata": {},
   "source": [
    "# gradientTape\n",
    "1. 미분(gradient)계수 자동 계산   \n",
    " - u자 곡선에서 접선의 기울기\n",
    " - tf.GradientTape : 미분계수 자동 계산 클래스 -> 최적의 기울기, 절편 update\n",
    " \n",
    "2. 저수준 API vs 고수준 API\n",
    "  - 저수준(low level) API : model, layer 작성 어렵다. -> code 어려움(원리 이해) \n",
    "  - 고수준(high level) API : model, layer 작성 쉽다. -> code 쉬움 "
   ]
  },
  {
   "cell_type": "code",
   "execution_count": 1,
   "metadata": {},
   "outputs": [
    {
     "data": {
      "text/plain": [
       "True"
      ]
     },
     "execution_count": 1,
     "metadata": {},
     "output_type": "execute_result"
    }
   ],
   "source": [
    "import tensorflow as tf\n",
    "tf.executing_eagerly()"
   ]
  },
  {
   "cell_type": "code",
   "execution_count": 4,
   "metadata": {},
   "outputs": [
    {
     "name": "stdout",
     "output_type": "stream",
     "text": [
      "outputs = [1.25]\n",
      "y_pred = [1.5]\n",
      "손실값 = 0.0625\n",
      "미분계수 = [0.625]\n"
     ]
    }
   ],
   "source": [
    "######################################\n",
    "# 미분(gradient)계수 자동 계산\n",
    "######################################\n",
    "\n",
    "### 1차 ###\n",
    "\n",
    "# 1. input/output 변수 정의 \n",
    "inputs = tf.Variable([1.0]) # x변수 \n",
    "outputs = tf.Variable([1.25]) # y변수 : 1.25 > 1.9 > 2.8\n",
    "print(\"outputs =\", outputs.numpy())   \n",
    "\n",
    "# 2. model : 예측치 반환 \n",
    "def model(inputs) :    \n",
    "    y_pred = inputs * 1.0 + 0.5 # 회귀방정식    \n",
    "    print(\"y_pred =\", y_pred.numpy()) \n",
    "    return y_pred  \n",
    " \n",
    "# 3. 손실 함수 : 오차 반환 \n",
    "def loss(model, inputs, outputs):\n",
    "  err = model(inputs) - outputs # 예측치 - 정답 \n",
    "  return tf.reduce_mean(tf.square(err)) # MSE\n",
    "\n",
    "\n",
    "# 4. 미분계수(기울기) 계산  \n",
    "with tf.GradientTape() as tape:\n",
    "    loss_value = loss(model, inputs, outputs) # 손실함수 호출  \n",
    "    print(\"손실값 =\", loss_value.numpy())\n",
    "    grad = tape.gradient(loss_value, inputs, outputs) \n",
    "    print(\"미분계수 =\", grad.numpy())  \n",
    "   "
   ]
  },
  {
   "cell_type": "code",
   "execution_count": 5,
   "metadata": {
    "scrolled": true
   },
   "outputs": [
    {
     "name": "stdout",
     "output_type": "stream",
     "text": [
      "outputs = [1.9]\n",
      "y_pred = [1.5]\n",
      "손실값 = 0.15999998\n",
      "미분계수 = [-1.5199999]\n"
     ]
    }
   ],
   "source": [
    "\n",
    "### 2차 ###\n",
    "\n",
    "# input/output 변수 정의 \n",
    "inputs = tf.Variable([1.0]) # x변수 \n",
    "outputs = tf.Variable([1.9]) # y변수 : 1.25 > 1.9 > 2.8\n",
    "print(\"outputs =\", outputs.numpy())   \n",
    "\n",
    "# 미분계수(기울기) 계산  \n",
    "with tf.GradientTape() as tape:\n",
    "    loss_value = loss(model, inputs, outputs) # 손실함수 호출  \n",
    "    print(\"손실값 =\", loss_value.numpy())\n",
    "    grad = tape.gradient(loss_value, inputs, outputs) \n",
    "    print(\"미분계수 =\", grad.numpy())  "
   ]
  },
  {
   "cell_type": "code",
   "execution_count": 6,
   "metadata": {},
   "outputs": [
    {
     "name": "stdout",
     "output_type": "stream",
     "text": [
      "outputs = [2.8]\n",
      "y_pred = [1.5]\n",
      "손실값 = 1.6899998\n",
      "미분계수 = [-7.2799997]\n"
     ]
    }
   ],
   "source": [
    "\n",
    "### 3차 ###\n",
    "\n",
    "# input/output 변수 정의 \n",
    "inputs = tf.Variable([1.0]) # x변수 \n",
    "outputs = tf.Variable([2.8]) # y변수 : 1.25 > 1.9 > 2.8\n",
    "print(\"outputs =\", outputs.numpy())   \n",
    "\n",
    "# 미분계수(기울기) 계산  \n",
    "with tf.GradientTape() as tape:\n",
    "    loss_value = loss(model, inputs, outputs) # 손실함수 호출  \n",
    "    print(\"손실값 =\", loss_value.numpy())\n",
    "    grad = tape.gradient(loss_value, inputs, outputs) \n",
    "    print(\"미분계수 =\", grad.numpy())  "
   ]
  }
 ],
 "metadata": {
  "kernelspec": {
   "display_name": "Python 3",
   "language": "python",
   "name": "python3"
  },
  "language_info": {
   "codemirror_mode": {
    "name": "ipython",
    "version": 3
   },
   "file_extension": ".py",
   "mimetype": "text/x-python",
   "name": "python",
   "nbconvert_exporter": "python",
   "pygments_lexer": "ipython3",
   "version": "3.7.7"
  }
 },
 "nbformat": 4,
 "nbformat_minor": 4
}
