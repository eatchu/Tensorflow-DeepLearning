{
 "cells": [
  {
   "cell_type": "markdown",
   "metadata": {},
   "source": [
    "# tf.GradientTape + regression model(iris)\n",
    "\n",
    "- x : 2~4\n",
    "- y : 1\n",
    "- model : 최적화알고리즘 adam"
   ]
  },
  {
   "cell_type": "code",
   "execution_count": 1,
   "metadata": {},
   "outputs": [],
   "source": [
    "from sklearn.datasets import load_iris\n",
    "from sklearn.model_selection import train_test_split\n",
    "from sklearn.metrics import mean_squared_error,r2_score\n",
    "import tensorflow as tf"
   ]
  },
  {
   "cell_type": "code",
   "execution_count": 2,
   "metadata": {
    "scrolled": true
   },
   "outputs": [
    {
     "name": "stdout",
     "output_type": "stream",
     "text": [
      "WARNING:tensorflow:Layer model is casting an input tensor from dtype float64 to the layer's dtype of float32, which is new behavior in TensorFlow 2.  The layer has dtype float32 because it's dtype defaults to floatx.\n",
      "\n",
      "If you intended to run this layer in float32, you can safely ignore this warning. If in doubt, this warning is likely only an issue if you are porting a TensorFlow 1.X model to TensorFlow 2.\n",
      "\n",
      "To change all layers to have dtype float64 by default, call `tf.keras.backend.set_floatx('float64')`. To change just this layer, pass dtype='float64' to the layer constructor. If you are the author of this layer, you can disable autocasting by passing autocast=False to the base Layer constructor.\n",
      "\n",
      "mse= 9.171882\n",
      "grad= [<tf.Tensor: id=71, shape=(3, 1), dtype=float32, numpy=\n",
      "array([[ 9.5348  ],\n",
      "       [20.96312 ],\n",
      "       [ 7.407364]], dtype=float32)>, <tf.Tensor: id=70, shape=(1,), dtype=float32, numpy=array([3.3674488], dtype=float32)>]\n",
      "최초 손실값 : 9.081059\n",
      "w : [[ 0.50307643]\n",
      " [ 1.893989  ]\n",
      " [-1.1997063 ]], b : [0.31022277]\n"
     ]
    }
   ],
   "source": [
    "\n",
    "# 1. input/output 변수 정의\n",
    "iris = load_iris()\n",
    "inputs = iris.data[:,1:]\n",
    "outputs = iris.data[:,0]\n",
    "inputs.shape # (150,3)\n",
    "outputs.shape # (150,)\n",
    "\n",
    "x_train, x_test, y_train, y_test = train_test_split(inputs, outputs, test_size=0.3, random_state=123)\n",
    "\n",
    "\n",
    "# 2. model : class 정의 \n",
    "class Model(tf.keras.Model):\n",
    "    def __init__(self):\n",
    "        super().__init__() # 부모생성자 호출\n",
    "        self.W = tf.Variable(tf.random.normal([3,1])) # 기울기\n",
    "        self.B = tf.Variable(tf.random.normal([1])) # 절편\n",
    "    def call(self, inputs): # 메서드 재정의\n",
    "        # cast() : float64 -> float32 자료형 변경\n",
    "        return tf.matmul(tf.cast(inputs,tf.float32),self.W) + self.B # 회귀방정식 (예측치 반환)\n",
    "\n",
    " \n",
    "# 3. 손실 함수 : 오차 반환 \n",
    "def loss(model, inputs, outputs):\n",
    "  err = model(inputs) - outputs # 예측치 - 정답 \n",
    "  return tf.reduce_mean(tf.square(err)) # MSE\n",
    "\n",
    "\n",
    "# 4. 미분계수(기울기) 계산  \n",
    "def gradient(model, inputs, outputs) :\n",
    "    with tf.GradientTape() as tape:\n",
    "        loss_value = loss(model, inputs, outputs) # 손실함수 호출  \n",
    "        grad = tape.gradient(loss_value, [model.W, model.B]) \n",
    "        # 미분계수 -> 기울기와 절편 업데이트\n",
    "    return grad # 업데이트 결과 반환\n",
    "\n",
    "\n",
    "\n",
    "# 5. model 생성\n",
    "model = Model() # 생성자\n",
    "\n",
    "mse = loss(model, inputs, outputs)\n",
    "print(\"mse=\", mse.numpy())\n",
    "\n",
    "grad = gradient(model, inputs, outputs)\n",
    "print(\"grad=\",grad)\n",
    "\n",
    "\n",
    "\n",
    "# 6. model 최적화 객체\n",
    "opt = tf.keras.optimizers.SGD(learning_rate=0.01)\n",
    "\n",
    "print(\"최초 손실값 : {:.6f}\".format(loss(model, x_train, y_train)))\n",
    "print(\"w : {}, b : {}\".format(model.W.numpy(), model.B.numpy()))\n",
    "\n",
    "\n"
   ]
  },
  {
   "cell_type": "code",
   "execution_count": 4,
   "metadata": {},
   "outputs": [
    {
     "name": "stdout",
     "output_type": "stream",
     "text": [
      "step100 : loss = 0.875066\n",
      "step200 : loss = 0.866358\n",
      "step300 : loss = 0.858061\n",
      "최종 손실값 : 0.858061\n",
      "w : [[ 1.2139646]\n",
      " [ 0.7457372]\n",
      " [-1.3661919]], b : [0.9512013]\n",
      "0.689744733324828\n",
      "0.1384360057102466\n"
     ]
    }
   ],
   "source": [
    "\n",
    "# 7. 반복학습\n",
    "for step in range(300):\n",
    "        grad = gradient(model, x_train, y_train)  # 기울기 계산\n",
    "        # 기울기 -> 최적화객체 반영\n",
    "        opt.apply_gradients(zip(grad, [model.W, model.B]))\n",
    "        \n",
    "        if (step+1) % 100 == 0:\n",
    "            print(\"step{} : loss = {:.6f}\".format(step+1, loss(model, x_train, y_train)))\n",
    "\n",
    "# model 최적화\n",
    "print(\"최종 손실값 : {:.6f}\".format(loss(model,  x_train, y_train)))\n",
    "print(\"w : {}, b : {}\".format(model.W.numpy(), model.B.numpy()))\n",
    "    \n",
    "\n",
    "# model test\n",
    "y_pred = model.call(x_test)\n",
    "\n",
    "mse = mean_squared_error(y_test,y_pred)\n",
    "print(mse)\n",
    "\n",
    "r2 = r2_score(y_test,y_pred)\n",
    "print(r2)\n"
   ]
  }
 ],
 "metadata": {
  "kernelspec": {
   "display_name": "Python 3",
   "language": "python",
   "name": "python3"
  },
  "language_info": {
   "codemirror_mode": {
    "name": "ipython",
    "version": 3
   },
   "file_extension": ".py",
   "mimetype": "text/x-python",
   "name": "python",
   "nbconvert_exporter": "python",
   "pygments_lexer": "ipython3",
   "version": "3.7.7"
  }
 },
 "nbformat": 4,
 "nbformat_minor": 4
}
