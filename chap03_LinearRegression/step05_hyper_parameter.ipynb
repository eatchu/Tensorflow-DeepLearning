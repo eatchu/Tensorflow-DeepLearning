{
 "cells": [
  {
   "cell_type": "markdown",
   "metadata": {},
   "source": [
    "# Hyper parameter : 사용자 지정\n",
    " - learning rate : model 학습율(0 ~ 1)\n",
    " - iteration size : model 반복학습 횟수\n",
    " - batch size : model 공급 데이터 크기  "
   ]
  },
  {
   "cell_type": "code",
   "execution_count": 1,
   "metadata": {},
   "outputs": [
    {
     "name": "stdout",
     "output_type": "stream",
     "text": [
      "WARNING:tensorflow:From C:\\Users\\user\\anaconda3\\lib\\site-packages\\tensorflow_core\\python\\compat\\v2_compat.py:65: disable_resource_variables (from tensorflow.python.ops.variable_scope) is deprecated and will be removed in a future version.\n",
      "Instructions for updating:\n",
      "non-resource variables are not supported in the long term\n"
     ]
    }
   ],
   "source": [
    "import matplotlib.pyplot as plt\n",
    "import tensorflow.compat.v1 as tf # ver1.x\n",
    "tf.disable_v2_behavior() # ver2.0 사용안함\n",
    "from sklearn.datasets import load_iris"
   ]
  },
  {
   "cell_type": "code",
   "execution_count": 2,
   "metadata": {},
   "outputs": [],
   "source": [
    "\n",
    "iris = load_iris() # 0-1에 근사한 변수 선택\n",
    "X = iris.data\n",
    "y_data = X[:, 2] # 꽃잎 길이(3)\n",
    "x_data = X[:, 3] # 꽃잎 넓이(4)\n",
    "\n",
    "\n",
    "# Hyper parameter\n",
    "learning_rate = 0.1 # 학습율 0.01 > 0.1\n",
    "iter_size = 50 # 학습횟수 : 50 > 500\n",
    "\n",
    "X = tf.placeholder(dtype=tf.float32, shape=[None])\n",
    "y = tf.placeholder(dtype=tf.float32, shape=[None])\n",
    "a = tf.Variable(tf.random_normal(shape=[1], seed=123))\n",
    "b = tf.Variable(tf.random_normal(shape=[1], seed=123))\n",
    "\n",
    "# 단순 선형회귀모델 \n",
    "model_output = tf.add(tf.multiply(X, a), b)\n",
    "\n",
    "'''cost function'''\n",
    "cost_l1 = tf.reduce_mean(tf.abs(y - model_output)) #  L1\n",
    "cost_l2 = tf.reduce_mean(tf.square(y - model_output)) # L2\n",
    "\n",
    "# L1 cost 최적화 \n",
    "opt_l1 = tf.train.GradientDescentOptimizer(learning_rate=learning_rate)\n",
    "train_l1 = opt_l1.minimize(cost_l1)\n",
    "\n",
    "# L2 cost 최적화 \n",
    "opt_l2 = tf.train.GradientDescentOptimizer(learning_rate=learning_rate)\n",
    "train_l2 = opt_l1.minimize(cost_l2)\n",
    "\n",
    "sess = tf.Session()\n",
    "sess.run(tf.global_variables_initializer())\n",
    "\n",
    "cost_l1_val = [] # L1 cost value\n",
    "cost_l2_val = [] # L2 cost value\n"
   ]
  },
  {
   "cell_type": "code",
   "execution_count": 3,
   "metadata": {},
   "outputs": [
    {
     "name": "stdout",
     "output_type": "stream",
     "text": [
      "cost values\n",
      "[0.3643758, 0.36420596, 0.36415836, 0.3640154, 0.36449903]\n",
      "[0.22582622, 0.22587164, 0.22586639, 0.22597788, 0.2259681]\n"
     ]
    },
    {
     "data": {
      "image/png": "[encoded data removed]",
      "text/plain": [
       "<Figure size 432x288 with 1 Axes>"
      ]
     },
     "metadata": {
      "needs_background": "light"
     },
     "output_type": "display_data"
    }
   ],
   "source": [
    "for i in range(iter_size) :     \n",
    "    ''' model train '''\n",
    "    feed_data = {X : x_data, y : y_data} # full data\n",
    "    sess.run([train_l1, train_l2], feed_dict = feed_data)\n",
    "    \n",
    "    ''' cost value save '''\n",
    "    cost_l1_re, cost_l2_re = sess.run([cost_l1, cost_l2], \n",
    "                                        feed_dict = feed_data)\n",
    "    cost_l1_val.append(cost_l1_re)\n",
    "    cost_l2_val.append(cost_l2_re)\n",
    "\n",
    "''' cost values '''\n",
    "print('cost values')\n",
    "print(cost_l1_val[-5:])\n",
    "print(cost_l2_val[-5:])\n",
    "\n",
    "'''L1,L2 cost, learning rate, iteration '''\n",
    "plt.plot(cost_l1_val, '-', label='cost L1')\n",
    "plt.plot(cost_l2_val, '--', label='cost L2')\n",
    "plt.title('cost L1 vs L2 per Generation')\n",
    "plt.xlabel('Generation')\n",
    "plt.ylabel('Cost values')\n",
    "plt.legend(loc='best')\n",
    "plt.show()"
   ]
  }
 ],
 "metadata": {
  "kernelspec": {
   "display_name": "Python 3",
   "language": "python",
   "name": "python3"
  },
  "language_info": {
   "codemirror_mode": {
    "name": "ipython",
    "version": 3
   },
   "file_extension": ".py",
   "mimetype": "text/x-python",
   "name": "python",
   "nbconvert_exporter": "python",
   "pygments_lexer": "ipython3",
   "version": "3.7.7"
  }
 },
 "nbformat": 4,
 "nbformat_minor": 4
}
