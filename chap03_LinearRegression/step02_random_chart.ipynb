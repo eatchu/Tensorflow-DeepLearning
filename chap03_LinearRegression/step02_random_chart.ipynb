{
 "cells": [
  {
   "cell_type": "markdown",
   "metadata": {},
   "source": [
    "# 1. 난수 생성 함수\n",
    "\n",
    "- tf.random_normal(shape, mean, stddev) : 평균,표준편차 적용 정규분포\n",
    "   - -> ver2.0 : tf.random.normal(shape, mean, stddev)\n",
    "- tf.truncated_normal(shape, mean, stddev) : 표준편차의 2배 수보다 큰 값은 제거하여 정규분포 생성 \n",
    "   - -> ver2.0 : tf.truncated.normal(shape, mean, stddev) \n",
    "- tf.random_uniform(shape, minval, maxval) : 균등분포 난수 생성\n",
    "   - -> ver2.0 : tf.random.uniform(shape, minval, maxval) \n",
    "- tf.random_shuffle(value) : 첫 번째 차원을 기준으로 텐서의 원소 섞기\n",
    "   - -> ver2.0 : tf.random.shuffle(value)\n",
    "- tf.set_random_seed(seed) : 난수 seed값 설정 \n",
    "   - -> tf.random.set_seed(seed)"
   ]
  },
  {
   "cell_type": "code",
   "execution_count": 2,
   "metadata": {},
   "outputs": [],
   "source": [
    "import tensorflow as tf # ver1.x\n",
    "\n",
    "import matplotlib.pyplot as plt # chart\n"
   ]
  },
  {
   "cell_type": "code",
   "execution_count": 3,
   "metadata": {
    "scrolled": false
   },
   "outputs": [
    {
     "name": "stdout",
     "output_type": "stream",
     "text": [
      "tf.Tensor(\n",
      "[[ 0.6240473   1.7013947   1.0370853 ]\n",
      " [-0.27061692  0.50119925  0.6247357 ]], shape=(2, 3), dtype=float32)\n",
      "tf.Tensor(\n",
      "[[ 0.51340485 -0.255814    0.6519913 ]\n",
      " [ 1.3923638   0.37256798  0.20336303]], shape=(2, 3), dtype=float32)\n",
      "tf.Tensor(\n",
      "[[ 0.6240473   1.7013947   1.0370853 ]\n",
      " [-0.27061692  0.50119925  0.6247357 ]], shape=(2, 3), dtype=float32)\n",
      "tf.Tensor(\n",
      "[[ 0.51340485 -0.255814    0.6519913 ]\n",
      " [ 1.3923638   0.37256798  0.20336303]], shape=(2, 3), dtype=float32)\n",
      "tf.Tensor(\n",
      "[[3 4]\n",
      " [5 6]\n",
      " [1 2]], shape=(3, 2), dtype=int32)\n"
     ]
    }
   ],
   "source": [
    "# 2행3열 구조의 표준정규분포를 따르는 난수 생성  \n",
    "norm = tf.random.normal([2,3], mean=0, stddev=1)\n",
    "print(norm) # 객체 보기 \n",
    "\n",
    "#help(tf.random_normal) # mean, stddev 생략 시 default : 0과 1\n",
    "norm2 = tf.random.normal([2,3], seed=1234) # 항상 동일한 난수 생성 \n",
    "print(norm2) # 객체 보기 \n",
    "\n",
    "matrix = [[1,2], [3,4], [5,6]] # # (3, 2)\n",
    "cont = tf.constant(matrix)\n",
    "shuff = tf.random.shuffle(cont)\n",
    "\n",
    "ㅠ\n",
    "print(shuff) # 첫번째 차원(3행 단위로 섞음) \n"
   ]
  },
  {
   "cell_type": "markdown",
   "metadata": {},
   "source": [
    "# 2. 정규분포, 균등분포 차트 시각화"
   ]
  },
  {
   "cell_type": "code",
   "execution_count": 10,
   "metadata": {},
   "outputs": [
    {
     "name": "stderr",
     "output_type": "stream",
     "text": [
      "C:\\Users\\user\\anaconda3\\lib\\site-packages\\ipykernel_launcher.py:3: MatplotlibDeprecationWarning: \n",
      "The 'normed' kwarg was deprecated in Matplotlib 2.1 and will be removed in 3.1. Use 'density' instead.\n",
      "  This is separate from the ipykernel package so we can avoid doing imports until\n"
     ]
    },
    {
     "data": {
      "image/png": "[encoded data removed]",
      "text/plain": [
       "<Figure size 432x288 with 1 Axes>"
      ]
     },
     "metadata": {
      "needs_background": "light"
     },
     "output_type": "display_data"
    },
    {
     "name": "stderr",
     "output_type": "stream",
     "text": [
      "C:\\Users\\user\\anaconda3\\lib\\site-packages\\ipykernel_launcher.py:8: MatplotlibDeprecationWarning: \n",
      "The 'normed' kwarg was deprecated in Matplotlib 2.1 and will be removed in 3.1. Use 'density' instead.\n",
      "  \n"
     ]
    },
    {
     "data": {
      "image/png": "[encoded data removed]",
      "text/plain": [
       "<Figure size 432x288 with 1 Axes>"
      ]
     },
     "metadata": {
      "needs_background": "light"
     },
     "output_type": "display_data"
    },
    {
     "name": "stdout",
     "output_type": "stream",
     "text": [
      "a = [0.51074135]\n",
      "b = [0.34576285]\n"
     ]
    }
   ],
   "source": [
    "# 정규분포(평균:0, 표준편차:2) \n",
    "norm = tf.random.normal([100], mean=0, stddev=2) \n",
    "plt.hist(norm, normed=True)\n",
    "plt.show()\n",
    " \n",
    "# 균등분포(0~1) \n",
    "uniform = tf.random.uniform([100], minval=0,maxval=1) \n",
    "plt.hist(uniform, normed=True)\n",
    "plt.show() \n",
    "\n",
    "\n",
    "# seed 유무에 따른 난수 생성  \n",
    "a = tf.random.uniform([1], seed=123) # seed 있음  \n",
    "b = tf.random.uniform([1]) # seed 없음 \n",
    "\n",
    "print(\"a = {}\".format(a)) \n",
    "print(\"b = {}\".format(b)) \n"
   ]
  }
 ],
 "metadata": {
  "kernelspec": {
   "display_name": "Python 3",
   "language": "python",
   "name": "python3"
  },
  "language_info": {
   "codemirror_mode": {
    "name": "ipython",
    "version": 3
   },
   "file_extension": ".py",
   "mimetype": "text/x-python",
   "name": "python",
   "nbconvert_exporter": "python",
   "pygments_lexer": "ipython3",
   "version": "3.7.7"
  }
 },
 "nbformat": 4,
 "nbformat_minor": 4
}
