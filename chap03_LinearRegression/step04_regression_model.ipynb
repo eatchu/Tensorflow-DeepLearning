{
 "cells": [
  {
   "cell_type": "markdown",
   "metadata": {},
   "source": [
    "# regression model : ver 1.0\n",
    "\n",
    " - X(1) -> Y\n",
    " - 손실함수(loss function) : 오차 반환 함수\n",
    " - 모델 최적화 알고리즘 : 경사하강법 알고리즘(GD, Adam) \n",
    "   - 모델 학습 : 최적의 기울기, 절편 -> loss값이 0에 수렴"
   ]
  },
  {
   "cell_type": "code",
   "execution_count": 1,
   "metadata": {},
   "outputs": [
    {
     "name": "stdout",
     "output_type": "stream",
     "text": [
      "WARNING:tensorflow:From C:\\Users\\user\\anaconda3\\lib\\site-packages\\tensorflow_core\\python\\compat\\v2_compat.py:65: disable_resource_variables (from tensorflow.python.ops.variable_scope) is deprecated and will be removed in a future version.\n",
      "Instructions for updating:\n",
      "non-resource variables are not supported in the long term\n"
     ]
    }
   ],
   "source": [
    "# version 1 사용\n",
    "import tensorflow.compat.v1 as tf\n",
    "tf.disable_v2_behavior()\n",
    "import numpy as np\n"
   ]
  },
  {
   "cell_type": "code",
   "execution_count": 2,
   "metadata": {},
   "outputs": [],
   "source": [
    "\n",
    "# 1. X, Y data 생성\n",
    "# x_data = np.array([1,2,3])\n",
    "# y_data = np.array([2,4,6])\n",
    "\n",
    "# x변수 값이 큰 경우 : inf\n",
    "x_data = np.array([1,2,3,125]) # data 정규화\n",
    "y_data = np.array([2,4,6,256]) # data 정규화\n",
    "\n",
    "# 0 ~ 1\n",
    "x_data = x_data/x_data.max() # [0.0078125, 0.015625 , 0.0234375, 1.       ]\n",
    "# np.log\n",
    "y_data = np.log(y_data) # [-0.36651292,  0.32663426,  0.58319808,  1.71292862]\n",
    "\n",
    "\n",
    "# 2. X, Y 변수 정의\n",
    "X = tf.placeholder(dtype=tf.float32, shape=[None]) # x_data 공급\n",
    "Y = tf.placeholder(dtype=tf.float32, shape=[None]) # y_data 공급\n",
    "\n",
    "# 3. a, b 변수 정의\n",
    "a = tf.Variable(tf.random_normal([1])) # 기울기\n",
    "b = tf.Variable(tf.random_normal([1])) # 절편\n",
    "\n",
    "# 4. 식 정의\n",
    "model = tf.multiply(X,a) + b # y_pred : 회귀방정식\n",
    "\n",
    "err = Y - model # 오차\n",
    "\n",
    "loss = tf.reduce_mean(tf.square(err)) # 손실함수\n",
    "\n",
    "# 5. 최적화 객체\n",
    "optimizer = tf.train.GradientDescentOptimizer(0.1) # 학습율 : 0.1\n",
    "train = optimizer.minimize(loss) # 손실함수 최소화 : 최적의 기울기와 절편 추출\n",
    "\n",
    "init = tf.global_variables_initializer()"
   ]
  },
  {
   "cell_type": "code",
   "execution_count": 14,
   "metadata": {
    "scrolled": true
   },
   "outputs": [
    {
     "name": "stdout",
     "output_type": "stream",
     "text": [
      "최초 기울기와 절편\n",
      "a = [0.1223039], b = [0.63285536]\n",
      "step =  10 \n",
      " loss =  1.520682\n",
      "step =  20 \n",
      " loss =  0.8135233\n",
      "step =  30 \n",
      " loss =  0.47816792\n",
      "step =  40 \n",
      " loss =  0.3088615\n",
      "step =  50 \n",
      " loss =  0.22330247\n",
      "y_pred =  [1.5158052]\n"
     ]
    }
   ],
   "source": [
    "# 6. 반복학습\n",
    "with tf.Session() as sess:\n",
    "    sess.run(init) # 변수 초기화\n",
    "    a_val, b_val = sess.run([a,b])\n",
    "    print(\"최초 기울기와 절편\")\n",
    "    print(\"a = {}, b = {}\".format(a_val,b_val))\n",
    "    \n",
    "    feed_data = {X:x_data, Y:y_data}\n",
    "    \n",
    "    # 반복학습 50회\n",
    "    for step in range(50):\n",
    "        _, loss_val = sess.run([train, loss], feed_dict = feed_data)\n",
    "        if (step+1)%10 == 0:\n",
    "            print(\"step = \", (step+1), \"\\n loss = \",loss_val)\n",
    "        \n",
    "    # model test\n",
    "    y_pred = sess.run(model, feed_dict={X:[0.024]}) # 2.5\n",
    "    print(\"y_pred = \",y_pred)\n",
    "    \n"
   ]
  },
  {
   "cell_type": "markdown",
   "metadata": {},
   "source": [
    " - y변수 : 1칼럼\n",
    " - x변수 : 2~4칼럼\n",
    " - model 최적화 알고리즘 : GD -> Adam\n",
    " - model 평가 : MSE"
   ]
  },
  {
   "cell_type": "code",
   "execution_count": 15,
   "metadata": {},
   "outputs": [],
   "source": [
    "import pandas as pd\n",
    "from sklearn.model_selection import train_test_split\n",
    "from sklearn.metrics import mean_squared_error\n"
   ]
  },
  {
   "cell_type": "code",
   "execution_count": 16,
   "metadata": {},
   "outputs": [],
   "source": [
    "# 1. 공급 data 생성\n",
    "iris = pd.read_csv(\"C:/IITT/6_Tensorflow/data/iris.csv\")\n",
    "cols = list(iris.columns)\n",
    "x_data = iris[cols[1:4]]\n",
    "y_data = iris[cols[0]]\n",
    "x_data.shape # (150,3)\n",
    "\n",
    "x_train,x_test,y_train,y_test = train_test_split(x_data,y_data,test_size=0.3)\n",
    "\n",
    "\n",
    "# 2. X,Y 변수 정의\n",
    "X = tf.placeholder(dtype=tf.float32, shape=[None,3])\n",
    "Y = tf.placeholder(dtype=tf.float32, shape=[None])\n",
    "\n",
    "\n",
    "# 3. a(w), b 변수 정의 : 난수 초기값\n",
    "a = tf.Variable(tf.random_normal(shape=[3,1]))\n",
    "b = tf.Variable(tf.random_normal(shape=[1]))\n",
    "\n",
    "\n",
    "# 4. model 생성\n",
    "model = tf.matmul(X,a) + b\n",
    "err = Y - model\n",
    "loss = tf.reduce_mean(tf.square(err))\n",
    "opt = tf.train.AdamOptimizer(0.5)\n",
    "train = opt.minimize(loss) # loss 최소화 객체\n"
   ]
  },
  {
   "cell_type": "code",
   "execution_count": 17,
   "metadata": {},
   "outputs": [
    {
     "name": "stdout",
     "output_type": "stream",
     "text": [
      "수정된 기울기 : [[ 0.7078158 ]\n",
      " [ 0.26032847]\n",
      " [-0.38143966]], 절편 : [3.144752] \n",
      "MSE =  0.51447624\n"
     ]
    }
   ],
   "source": [
    "\n",
    "# 5. model 학습 -> model 최적화(최적의 a,b update됨)\n",
    "with tf.Session() as sess:\n",
    "    sess.run(tf.global_variables_initializer()) # a,b 초기화\n",
    "    feed_data = {X:x_train, Y:y_train}\n",
    "    \n",
    "    # 반복학습 100회\n",
    "    for step in range(100):\n",
    "        _, loss_val = sess.run([train,loss], feed_dict=feed_data)\n",
    "       # print(\"step = {}, loss = {:.5f}\".format(step+1,loss_val))\n",
    "    \n",
    "    # model 최적화 : 최적화된 기울기와 절편 설정\n",
    "    a_up, b_up = sess.run([a,b])\n",
    "    print(\"수정된 기울기 : {}, 절편 : {} \".format(a_up, b_up))\n",
    "    \n",
    "    # 테스트용 공급 data\n",
    "    feed_data_test = {X:x_test, Y:y_test}\n",
    "        \n",
    "    # Y(정답) vs model(예측치) -> model의 a,b가 최적화되어 있는 상태\n",
    "    y_true = sess.run(Y, feed_dict={Y:y_test}) # 정답\n",
    "    y_pred = sess.run(model, feed_dict={X:x_test}) # 예측치\n",
    "    mse = mean_squared_error(y_true, y_pred)\n",
    "    \n",
    "    print(\"MSE = \",mse)\n",
    "    "
   ]
  }
 ],
 "metadata": {
  "kernelspec": {
   "display_name": "Python 3",
   "language": "python",
   "name": "python3"
  },
  "language_info": {
   "codemirror_mode": {
    "name": "ipython",
    "version": 3
   },
   "file_extension": ".py",
   "mimetype": "text/x-python",
   "name": "python",
   "nbconvert_exporter": "python",
   "pygments_lexer": "ipython3",
   "version": "3.7.7"
  }
 },
 "nbformat": 4,
 "nbformat_minor": 4
}
