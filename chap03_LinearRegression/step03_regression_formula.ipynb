{
 "cells": [
  {
   "cell_type": "markdown",
   "metadata": {},
   "source": [
    "# 단순 선형회귀방정식 : X(1) -> Y\n",
    "\n",
    " - y_pred = X * a(기울기) + b(절편)\n",
    " - err = Y - y_pred\n",
    " - loss function(cost function) : 정답과 예측치 간의 오차 반환 함수\n",
    "   - function(Y,y_pred) -> 오차(손실 or 비용)반환 : MSE"
   ]
  },
  {
   "cell_type": "code",
   "execution_count": 1,
   "metadata": {},
   "outputs": [],
   "source": [
    "import tensorflow as tf\n",
    "\n",
    "# a(기울기), b(절편) 변수 정의\n",
    "a = tf.Variable(0.5)  \n",
    "b = tf.Variable(1.5) \n",
    "\n",
    "# 회귀모델 함수\n",
    "def linear_model(X): # X 입력\n",
    "    y_pred = tf.math.multiply(X,a) + b #(X * a) + b : 회귀방정식 \n",
    "    return y_pred\n",
    "\n",
    "# 모델 오차 \n",
    "def model_err(X,Y):\n",
    "    y_pred = linear_model(X)\n",
    "    err = tf.math.subtract(Y,y_pred) # Y - y_pred \n",
    "    return err\n",
    "\n",
    "# 손실함수(Loss function) : (정답,예측치) -> 오차반환(MSE)\n",
    "def loss_function(X,Y):\n",
    "    err = model_err(X,Y)\n",
    "    mse = tf.reduce_mean(tf.square(err))\n",
    "    return mse\n"
   ]
  },
  {
   "cell_type": "code",
   "execution_count": 4,
   "metadata": {
    "scrolled": true
   },
   "outputs": [
    {
     "name": "stdout",
     "output_type": "stream",
     "text": [
      "최초 기울기(a)와 절편(b)\n",
      "a = 0.5, b = 1.5\n",
      "y_true = 5.199999809265137, \n",
      " y_pred = 4.75\n",
      "model error=  0.4499998\n",
      "loss function=  0.20249982\n"
     ]
    }
   ],
   "source": [
    "# X,Y 변수 정의\n",
    "X = tf.constant(6.5) # 입력(input)\n",
    "Y = tf.constant(5.2) # 정답(output)\n",
    "\n",
    "print(\"최초 기울기(a)와 절편(b)\")\n",
    "print(\"a = {}, b = {}\".format(a.numpy(),b.numpy()))\n",
    "\n",
    "print(\"y_true = {}, \\n y_pred = {}\".format(Y.numpy(),linear_model(X).numpy()))\n",
    "print(\"model error= \", model_err(X,Y).numpy())\n",
    "print(\"loss function= \",loss_function(X,Y).numpy())\n"
   ]
  },
  {
   "cell_type": "code",
   "execution_count": 5,
   "metadata": {
    "scrolled": true
   },
   "outputs": [
    {
     "name": "stdout",
     "output_type": "stream",
     "text": [
      "\n",
      " 2차 기울기, 절편 수정\n",
      "a=0.6000000238418579,b=1.2000000476837158\n",
      "y_true = 5.199999809265137, \n",
      " y_pred = 5.100000381469727\n",
      "model error=  0.09999943\n",
      "loss function=  0.009999885\n"
     ]
    }
   ],
   "source": [
    "# 2차 식 : a = 0.6, b = 1.2(기울기, 절편 수정)\n",
    "print(\"\\n 2차 기울기, 절편 수정\")\n",
    "a.assign(0.6)\n",
    "b.assign(1.2)\n",
    "print(\"a={},b={}\".format(a.numpy(),b.numpy()))\n",
    "\n",
    "print(\"y_true = {}, \\n y_pred = {}\".format(Y.numpy(),linear_model(X).numpy()))\n",
    "print(\"model error= \", model_err(X,Y).numpy())\n",
    "print(\"loss function= \",loss_function(X,Y).numpy())"
   ]
  },
  {
   "cell_type": "markdown",
   "metadata": {},
   "source": [
    "# 다중선형회귀방정식 : 행렬곱 이용\n",
    " - X(n) -> Y\n",
    " - y_pred = X1 * a1 + X2 * a2 + ... + b\n",
    " - y_pred = tf.matmul(X,a) + b"
   ]
  },
  {
   "cell_type": "code",
   "execution_count": 16,
   "metadata": {},
   "outputs": [
    {
     "name": "stdout",
     "output_type": "stream",
     "text": [
      "tf.Tensor([[4.4646406]], shape=(1, 1), dtype=float32)\n"
     ]
    }
   ],
   "source": [
    "\n",
    "import tensorflow as tf\n",
    "\n",
    "# X,Y 변수 정의\n",
    "X = [[1.0,2.0]] # [1,2] : 입력 1x2 -> 2\n",
    "Y = 2.5 # 정답\n",
    "\n",
    "\n",
    "# a,b 변수 정의\n",
    "a = tf.Variable(tf.random.normal([2,1])) # 기울기 : 2x1 -> 2\n",
    "b = tf.Variable(tf.random.normal([1])) # 상수 : 1\n",
    "\n",
    "# model 식 정의\n",
    "y_pred = tf.matmul(X,a) + b\n",
    "# tf.math.add(tf.matmul(X,a),b)\n",
    "print(y_pred) \n",
    "# tf.Tensor([[-1.7444857]], shape=(1, 1), dtype=float32)"
   ]
  },
  {
   "cell_type": "markdown",
   "metadata": {},
   "source": [
    "# 1차 실행"
   ]
  },
  {
   "cell_type": "code",
   "execution_count": 7,
   "metadata": {
    "scrolled": false
   },
   "outputs": [
    {
     "name": "stdout",
     "output_type": "stream",
     "text": [
      "a=[[ 1.6132649]\n",
      " [-0.5662578]],b=[2.099459]\n",
      "model error=  [[-0.0802083]]\n",
      "loss function=  0.0064333715\n"
     ]
    }
   ],
   "source": [
    "\n",
    "# model error\n",
    "err = Y - y_pred\n",
    "\n",
    "# loss function : 손실반환\n",
    "loss = tf.reduce_mean(tf.square(err))\n",
    "\n",
    "print(\"a={},b={}\".format(a.numpy(),b.numpy()))\n",
    "print(\"model error= \", err.numpy())\n",
    "print(\"loss function= \",loss.numpy())"
   ]
  },
  {
   "cell_type": "markdown",
   "metadata": {},
   "source": [
    "# 2차 실행"
   ]
  },
  {
   "cell_type": "code",
   "execution_count": 17,
   "metadata": {},
   "outputs": [
    {
     "name": "stdout",
     "output_type": "stream",
     "text": [
      "a=[[1.073534 ]\n",
      " [1.1027893]],b=[1.185528]\n",
      "model error=  [[-1.9646406]]\n",
      "loss function=  3.8598127\n"
     ]
    }
   ],
   "source": [
    "# model error\n",
    "err = Y - y_pred\n",
    "\n",
    "# loss function : 손실반환\n",
    "loss = tf.reduce_mean(tf.square(err))\n",
    "\n",
    "print(\"a={},b={}\".format(a.numpy(),b.numpy()))\n",
    "print(\"model error= \", err.numpy())\n",
    "print(\"loss function= \",loss.numpy())"
   ]
  }
 ],
 "metadata": {
  "kernelspec": {
   "display_name": "Python 3",
   "language": "python",
   "name": "python3"
  },
  "language_info": {
   "codemirror_mode": {
    "name": "ipython",
    "version": 3
   },
   "file_extension": ".py",
   "mimetype": "text/x-python",
   "name": "python",
   "nbconvert_exporter": "python",
   "pygments_lexer": "ipython3",
   "version": "3.7.7"
  }
 },
 "nbformat": 4,
 "nbformat_minor": 4
}
