{
 "cells": [
  {
   "cell_type": "markdown",
   "metadata": {},
   "source": [
    "Tensorflow2.0 특징\n",
    " 3. @tf.function 함수 장식자(데코레이터)\n",
    "    - 함수 장식자 이점:\n",
    "        -> python code -> tensorflow code 변환 (auto graph)\n",
    "        -> logic 처리 : 쉬운 코드 대체\n",
    "        -> 속도 향상"
   ]
  },
  {
   "cell_type": "code",
   "execution_count": 1,
   "metadata": {},
   "outputs": [],
   "source": [
    "import tensorflow as tf"
   ]
  },
  {
   "cell_type": "code",
   "execution_count": 2,
   "metadata": {
    "scrolled": true
   },
   "outputs": [
    {
     "name": "stdout",
     "output_type": "stream",
     "text": [
      "y= 20\n",
      "loop= 100\n"
     ]
    }
   ],
   "source": [
    "\n",
    "\n",
    "@tf.function\n",
    "def if_func(x):\n",
    "    # python code -> tensorflow code\n",
    "    if x > 100 :\n",
    "        y = x * 10\n",
    "    else :\n",
    "        y = x + 10\n",
    "    return y\n",
    "\n",
    "x = tf.constant(10)\n",
    "\n",
    "print(\"y=\",if_func(x).numpy()) # y = 20\n",
    "\n",
    "\n",
    "\n",
    "\n",
    "@tf.function\n",
    "def while_func(i):\n",
    "    while i < 100:\n",
    "        i += 1 \n",
    "    return i \n",
    "\n",
    "i = tf.constant(0)\n",
    "\n",
    "print(\"loop=\",while_func(i).numpy()) # loop= 100\n",
    "\n",
    "\n"
   ]
  },
  {
   "cell_type": "code",
   "execution_count": 3,
   "metadata": {},
   "outputs": [
    {
     "name": "stdout",
     "output_type": "stream",
     "text": [
      "mse= 0.039999954\n"
     ]
    }
   ],
   "source": [
    "# model 생성 함수\n",
    "def linear_model(x):\n",
    "    return x * 2 + 0.2 # 회귀방정식\n",
    "\n",
    "# model 오차 함수\n",
    "def model_err(y,y_pred):\n",
    "    return y-y_pred\n",
    "\n",
    "# model 평가 함수 : main\n",
    "@tf.function\n",
    "def model_evaluation(x,y):\n",
    "    y_pred = linear_model(x) # 함수 호출\n",
    "    err = model_err(y,y_pred)\n",
    "    return tf.reduce_mean(tf.square(err)) # mse\n",
    "\n",
    "# x,y data 생성\n",
    "x = tf.constant([1,2,3], dtype=tf.float32)\n",
    "y = tf.constant([2,4,6], dtype=tf.float32)\n",
    "\n",
    "print(\"mse=\", model_evaluation(x,y).numpy()) \n",
    "# mse= 0.039999954\n"
   ]
  }
 ],
 "metadata": {
  "kernelspec": {
   "display_name": "Python 3",
   "language": "python",
   "name": "python3"
  },
  "language_info": {
   "codemirror_mode": {
    "name": "ipython",
    "version": 3
   },
   "file_extension": ".py",
   "mimetype": "text/x-python",
   "name": "python",
   "nbconvert_exporter": "python",
   "pygments_lexer": "ipython3",
   "version": "3.7.7"
  }
 },
 "nbformat": 4,
 "nbformat_minor": 4
}
