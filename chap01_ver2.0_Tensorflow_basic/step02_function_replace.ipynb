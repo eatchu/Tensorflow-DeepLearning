{
 "cells": [
  {
   "cell_type": "markdown",
   "metadata": {},
   "source": [
    "Tensorflow 2.0특징\n",
    " 2. 세션 대신 함수\n",
    "    - ver2.0 : python 함수 사용 권장\n",
    "    - API 정리 : tf.placeholder() 삭제 : 함수 인수 대체"
   ]
  },
  {
   "cell_type": "code",
   "execution_count": 1,
   "metadata": {},
   "outputs": [],
   "source": [
    "\n",
    "import tensorflow as tf\n"
   ]
  },
  {
   "cell_type": "code",
   "execution_count": 2,
   "metadata": {},
   "outputs": [
    {
     "name": "stdout",
     "output_type": "stream",
     "text": [
      "mul =  tf.Tensor([ 2.   7.5 14. ], shape=(3,), dtype=float32)\n",
      "add =  tf.Tensor([12.  17.5 24. ], shape=(3,), dtype=float32)\n",
      "tf.Tensor(\n",
      "[[0.64588046 0.3653301  0.35647416 0.6289197 ]\n",
      " [0.8636452  0.09238279 0.5951079  0.53832734]\n",
      " [0.6258371  0.6316359  0.76384115 0.5962119 ]], shape=(3, 4), dtype=float32)\n",
      "c_cala= tf.Tensor(\n",
      "[[0.32294023 0.18266505 0.17823708 0.31445986]\n",
      " [0.4318226  0.04619139 0.29755396 0.26916367]\n",
      " [0.31291854 0.31581795 0.38192058 0.29810596]], shape=(3, 4), dtype=float32)\n"
     ]
    }
   ],
   "source": [
    "\n",
    "def mul_fn(a,b): # tf.placeholder() -> 인수 대체\n",
    "    return tf.multiply(a,b)\n",
    "\n",
    "def add_fn(mul):\n",
    "    return tf.add(mul,10)\n",
    "\n",
    "def c_cala_fn(c):\n",
    "    return tf.multiply(c,0.5)\n",
    "\n",
    "# data 생성\n",
    "a_data = [1.0,2.5,3.5]\n",
    "b_data = [2.0,3.0,4.0]\n",
    "\n",
    "mul_re = mul_fn(a_data,b_data)\n",
    "print(\"mul = \",mul_re) # [ 2.   7.5 14. ]\n",
    "\n",
    "print(\"add = \",add_fn(mul_re)) # [12.  17.5 24. ]\n",
    "\n",
    "# c_data = tf.random.uniform()\n",
    "c_data = tf.random.uniform([3,4])\n",
    "print(c_data)\n",
    "\n",
    "print(\"c_cala=\",c_cala_fn(c_data))\n",
    "\n"
   ]
  }
 ],
 "metadata": {
  "kernelspec": {
   "display_name": "Python 3",
   "language": "python",
   "name": "python3"
  },
  "language_info": {
   "codemirror_mode": {
    "name": "ipython",
    "version": 3
   },
   "file_extension": ".py",
   "mimetype": "text/x-python",
   "name": "python",
   "nbconvert_exporter": "python",
   "pygments_lexer": "ipython3",
   "version": "3.7.7"
  }
 },
 "nbformat": 4,
 "nbformat_minor": 4
}
