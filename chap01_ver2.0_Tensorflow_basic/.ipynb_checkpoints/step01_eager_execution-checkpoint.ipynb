{
 "cells": [
  {
   "cell_type": "markdown",
   "metadata": {},
   "source": [
    "Tensorflow2.0 특징\n",
    "1. 즉시 실행(eager execution) 모드\n",
    "   - session object없이 즉시 실행 환경(auto graph)\n",
    "   - python 실행 환경과 동일함\n",
    "   - API 정리 : tf.global_variables_initializer() 삭제"
   ]
  },
  {
   "cell_type": "code",
   "execution_count": 1,
   "metadata": {},
   "outputs": [
    {
     "name": "stdout",
     "output_type": "stream",
     "text": [
      "2.0.0\n"
     ]
    }
   ],
   "source": [
    "\n",
    "import tensorflow as tf\n",
    "print(tf.__version__)\n"
   ]
  },
  {
   "cell_type": "code",
   "execution_count": 2,
   "metadata": {
    "scrolled": true
   },
   "outputs": [
    {
     "name": "stdout",
     "output_type": "stream",
     "text": [
      "a: tf.Tensor(\n",
      "[[1.  2.  3. ]\n",
      " [1.  2.5 3.5]], shape=(2, 3), dtype=float32)\n",
      "[[1.  2.  3. ]\n",
      " [1.  2.5 3.5]]\n",
      "b: tf.Tensor(\n",
      "[[1.5 2.5 3.5]\n",
      " [1.5 3.  4. ]], shape=(2, 3), dtype=float32)\n",
      "x= [10 20 30]\n",
      "y= [1 2 3]\n",
      "multiply: tf.Tensor([10 40 90], shape=(3,), dtype=int32)\n",
      "multiply: [10 40 90]\n",
      "matrix multiply = [[6.5]]\n"
     ]
    }
   ],
   "source": [
    "\n",
    "# 상수 정의\n",
    "a = tf.constant([[1,2,3],[1.0,2.5,3.5]]) # shape(2,3)\n",
    "print(\"a:\",a)\n",
    "print(a.numpy()) # 실제 data 추출\n",
    "\n",
    "\n",
    "# 식 정의 : 상수 참조 -> 즉시 연산\n",
    "b = tf.add(a, 0.5)\n",
    "print(\"b:\",b)\n",
    "\n",
    "\n",
    "# 변수 정의\n",
    "x = tf.Variable([10,20,30])\n",
    "y = tf.Variable([1,2,3])\n",
    "print(\"x=\",x.numpy()) # x= [10 20 30]\n",
    "print(\"y=\",y.numpy()) # y= [1 2 3]\n",
    "\n",
    "\n",
    "mul = tf.multiply(x,y)\n",
    "print(\"multiply:\",mul)\n",
    "# multiply: tf.Tensor([10 40 90], shape=(3,), dtype=int32)\n",
    "print(\"multiply:\",mul.numpy()) # multiply: [10 40 90]\n",
    "\n",
    "\n",
    "# python code -> tensorflow 즉시 실행\n",
    "x = [[2.0,3.0]] # (1,2)\n",
    "a = [[1.0],[1.5]] # (2,1)\n",
    "\n",
    "# 행렬곱 연산\n",
    "mat = tf.matmul(x,a)\n",
    "print(\"matrix multiply = {}\".format(mat)) # matrix multiply = [[6.5]]\n"
   ]
  },
  {
   "cell_type": "code",
   "execution_count": 3,
   "metadata": {},
   "outputs": [
    {
     "name": "stdout",
     "output_type": "stream",
     "text": [
      "~~~ 즉시 실행 ~~~\n",
      "x= [1.5 2.5 3.5]\n",
      "y= [1. 2. 3.]\n",
      "mul= [ 1.5  5.  10.5]\n"
     ]
    }
   ],
   "source": [
    "\n",
    "''' step02_tf_variable_init -> ver2.0 '''\n",
    "print(\"~~~ 즉시 실행 ~~~\")\n",
    "''' 프로그램 정의 '''\n",
    "# 상수 정의\n",
    "x = tf.constant([1.5,2.5,3.5], name='x') # 1차원 : 수정 불가\n",
    "\n",
    "# 변수 정의\n",
    "y = tf.Variable([1.0,2.0,3.0], name='y') # 1차원 : 수정 가능\n",
    "\n",
    "# 식 정의\n",
    "mul = x * y # 상수 * 변수 \n",
    "\n",
    "''' 프로그램 실행 '''\n",
    "print(\"x=\",x.numpy()) # x= [1.5 2.5 3.5]\n",
    "print(\"y=\",y.numpy()) # y= [1. 2. 3.]\n",
    "\n",
    "# 식 할당\n",
    "print(\"mul=\",mul.numpy()) # mul= [ 1.5  5.  10.5]\n",
    "\n"
   ]
  }
 ],
 "metadata": {
  "kernelspec": {
   "display_name": "Python 3",
   "language": "python",
   "name": "python3"
  },
  "language_info": {
   "codemirror_mode": {
    "name": "ipython",
    "version": 3
   },
   "file_extension": ".py",
   "mimetype": "text/x-python",
   "name": "python",
   "nbconvert_exporter": "python",
   "pygments_lexer": "ipython3",
   "version": "3.7.7"
  }
 },
 "nbformat": 4,
 "nbformat_minor": 4
}
