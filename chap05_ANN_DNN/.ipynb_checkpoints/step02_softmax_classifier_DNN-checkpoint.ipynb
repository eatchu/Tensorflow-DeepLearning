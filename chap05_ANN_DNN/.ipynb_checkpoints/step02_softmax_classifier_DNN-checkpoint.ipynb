{
 "cells": [
  {
   "cell_type": "markdown",
   "metadata": {},
   "source": [
    "# DNN model\n",
    "\n",
    " - hidden layer : relu 활성함수 \n",
    " - output layer : softmax 활성함수\n",
    " - 2개 은닉층을 갖는 분류기\n",
    " - hidden1_node : 12개\n",
    " - hidden2_node : 6개\n",
    " - dataset : iris"
   ]
  },
  {
   "cell_type": "code",
   "execution_count": 1,
   "metadata": {
    "scrolled": true
   },
   "outputs": [
    {
     "name": "stdout",
     "output_type": "stream",
     "text": [
      "WARNING:tensorflow:From C:\\Users\\user\\anaconda3\\lib\\site-packages\\tensorflow_core\\python\\compat\\v2_compat.py:65: disable_resource_variables (from tensorflow.python.ops.variable_scope) is deprecated and will be removed in a future version.\n",
      "Instructions for updating:\n",
      "non-resource variables are not supported in the long term\n"
     ]
    }
   ],
   "source": [
    "\n",
    "import tensorflow.compat.v1 as tf \n",
    "tf.disable_v2_behavior() \n",
    "from sklearn.datasets import load_iris\n",
    "from sklearn.model_selection import train_test_split\n",
    "from sklearn.preprocessing import OneHotEncoder\n",
    "from sklearn.metrics import accuracy_score\n"
   ]
  },
  {
   "cell_type": "code",
   "execution_count": 2,
   "metadata": {},
   "outputs": [],
   "source": [
    "\n",
    "# 1. x,y data\n",
    "iris = load_iris()\n",
    "\n",
    "# x : 1 ~ 4\n",
    "x_data = iris.data\n",
    "x_data.shape # (150,4)\n",
    "\n",
    "# y : 5\n",
    "y_data = iris.target\n",
    "y_data.shape # (150,)\n",
    "\n",
    "# reshape\n",
    "y_data = y_data.reshape(-1,1)\n",
    "y_data.shape # (150,1)\n",
    "\n",
    "\n",
    "obj = OneHotEncoder()\n",
    "\n",
    "\n",
    "# sparse -> numpy\n",
    "y_data = obj.fit_transform(y_data).toarray()\n",
    "y_data.shape # (150,3)\n",
    "\n",
    "\n",
    "x_train, x_test, y_train, y_test = train_test_split(x_data,y_data) # 75% 25%\n",
    "\n",
    "\n",
    "\n",
    "# 2. X, Y 변수 정의\n",
    "X = tf.placeholder(dtype=tf.float32, shape = [None, 4])  # [관측치, 입력수]\n",
    "Y = tf.placeholder(dtype=tf.float32, shape = [None, 3])  # [관측치, 출력수]\n",
    "\n"
   ]
  },
  {
   "cell_type": "code",
   "execution_count": 3,
   "metadata": {},
   "outputs": [],
   "source": [
    "########### DNN network ######################\n",
    "\n",
    "\n",
    "# 3. 가중치(w), 편향(b) 변수 정의\n",
    "\n",
    "hidden1_node = 12\n",
    "hidden2_node = 6\n",
    "\n",
    "\n",
    "# hidden layer 1층\n",
    "w1 = tf.Variable(tf.random_normal([4,hidden1_node])) # [input, output] : [x, hidden]\n",
    "b1 = tf.Variable(tf.random_normal([hidden1_node])) # [output] : [hidden]\n",
    "hidden1_output = tf.nn.relu(tf.matmul(X,w1)+b1)\n",
    "\n",
    "\n",
    "# hidden layer 2층\n",
    "w2 = tf.Variable(tf.random_normal([hidden1_node,hidden2_node])) # [input, output] : [x, hidden]\n",
    "b2 = tf.Variable(tf.random_normal([hidden2_node])) # [output] : [hidden]\n",
    "hidden2_output = tf.nn.relu(tf.matmul(hidden1_output,w2)+b2)\n",
    "\n",
    "\n",
    "# output layer 3층\n",
    "w3 = tf.Variable(tf.random_normal([hidden2_node,3])) \n",
    "b3 = tf.Variable(tf.random_normal([3])) \n",
    "model = tf.matmul(hidden2_output,w3)+b3\n",
    "\n",
    "\n",
    "# 4. softmax분류기\n",
    "# 1) softmax(예측치)\n",
    "softmax = tf.nn.softmax(model)  # 이항분류라면 sigmoid 사용\n",
    "\n",
    "# 2) loss function : cross Entropy 이용 : -sum(Y * log(model)) \n",
    "loss = tf.reduce_mean(tf.nn.softmax_cross_entropy_with_logits_v2(\n",
    "        labels=Y, logits=model))\n",
    "\n",
    "\n",
    "# 3) optimizer : 오차최소화­(w, b update) \n",
    "train = tf.train.AdamOptimizer(0.05).minimize(loss) \n",
    "\n",
    "# 4) argmax() : encoding(2) -> decoding(10)\n",
    "y_pred = tf.argmax(softmax, axis=1)\n",
    "y_true = tf.argmax(Y, axis=1)\n",
    " \n"
   ]
  },
  {
   "cell_type": "code",
   "execution_count": 4,
   "metadata": {},
   "outputs": [
    {
     "name": "stdout",
     "output_type": "stream",
     "text": [
      "step = 50, loss = 0.4095774292945862\n",
      "step = 100, loss = 0.2198403924703598\n",
      "step = 150, loss = 0.12525899708271027\n",
      "step = 200, loss = 0.08967357128858566\n",
      "step = 250, loss = 0.07380630820989609\n",
      "step = 300, loss = 0.06430718302726746\n",
      "step = 350, loss = 0.05815098434686661\n",
      "step = 400, loss = 0.054084256291389465\n",
      "step = 450, loss = 0.05129820480942726\n",
      "step = 500, loss = 0.04932168871164322\n",
      "y pred = [0 0 0 0 0 0 0 0 0 0 0 0 0 0 0 0 0 0 0 0 0 0 0 0 0 0 0 0 0 0 0 0 0 0 0 0 0\n",
      " 0 0 0 0 0 0 0 0 0 0 0 0 0 1 1 1 1 1 1 1 1 1 1 1 1 1 1 1 1 1 1 1 1 1 1 1 1\n",
      " 1 1 1 1 1 1 1 1 1 2 1 1 1 1 1 1 1 1 1 1 1 1 1 1 1 1 2 2 2 2 2 2 2 2 2 2 2\n",
      " 2 2 2 2 2 2 2 2 2 2 2 2 2 2 2 2 2 2 2 2 2 2 1 2 2 2 2 2 2 2 2 2 2 2 2 2 2\n",
      " 2 2],\n",
      " y_true = [0 0 0 0 0 0 0 0 0 0 0 0 0 0 0 0 0 0 0 0 0 0 0 0 0 0 0 0 0 0 0 0 0 0 0 0 0\n",
      " 0 0 0 0 0 0 0 0 0 0 0 0 0 1 1 1 1 1 1 1 1 1 1 1 1 1 1 1 1 1 1 1 1 1 1 1 1\n",
      " 1 1 1 1 1 1 1 1 1 1 1 1 1 1 1 1 1 1 1 1 1 1 1 1 1 1 2 2 2 2 2 2 2 2 2 2 2\n",
      " 2 2 2 2 2 2 2 2 2 2 2 2 2 2 2 2 2 2 2 2 2 2 2 2 2 2 2 2 2 2 2 2 2 2 2 2 2\n",
      " 2 2]\n",
      "acc= 0.9866666666666667\n"
     ]
    },
    {
     "data": {
      "image/png": "[encoded data removed]",
      "text/plain": [
       "<Figure size 432x288 with 1 Axes>"
      ]
     },
     "metadata": {
      "needs_background": "light"
     },
     "output_type": "display_data"
    }
   ],
   "source": [
    "\n",
    "# 5. model 학습\n",
    "with tf.Session() as sess:\n",
    "    sess.run(tf.global_variables_initializer())\n",
    "    \n",
    "    feed_data = {X:x_data, Y:y_data}\n",
    "    \n",
    "    # 반복학습 : 500회\n",
    "    for step in range(500):\n",
    "        _, loss_val = sess.run([train,loss], feed_dict = feed_data)\n",
    "        \n",
    "        if (step+1)%50==0:\n",
    "            print(\"step = {}, loss = {}\".format(step+1, loss_val))\n",
    "            \n",
    "    # model result            \n",
    "    y_pred_re = sess.run(y_pred,feed_dict={X:x_data})\n",
    "    y_true_re = sess.run(y_true,feed_dict={Y:y_data})\n",
    "    print(\"y pred = {},\\n y_true = {}\".format(y_pred_re,y_true_re))\n",
    "    acc = accuracy_score(y_true_re,y_pred_re)\n",
    "    print(\"acc=\",acc)\n",
    "    \n",
    "    import matplotlib.pyplot as plt\n",
    "    plt.plot(y_pred_re, c='r', marker='*')\n",
    "    plt.plot(y_true_re, c='b')\n",
    "    plt.show()\n"
   ]
  }
 ],
 "metadata": {
  "kernelspec": {
   "display_name": "Python 3",
   "language": "python",
   "name": "python3"
  },
  "language_info": {
   "codemirror_mode": {
    "name": "ipython",
    "version": 3
   },
   "file_extension": ".py",
   "mimetype": "text/x-python",
   "name": "python",
   "nbconvert_exporter": "python",
   "pygments_lexer": "ipython3",
   "version": "3.7.7"
  }
 },
 "nbformat": 4,
 "nbformat_minor": 4
}
