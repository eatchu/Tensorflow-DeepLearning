{
 "cells": [
  {
   "cell_type": "markdown",
   "metadata": {},
   "source": [
    "1. Tfidf 가중치 기법 : sparse matrix\n",
    "2. Sigmoid 활성함수 : ham(0) / spam(1)\n",
    "3. Hyper parameters\n",
    "  - max festures = 4000(input node)\n",
    "  - batch size = 500\n",
    "  - iter size = 5000\n",
    "  - learning rate = 0.01\n",
    "     - 1epoch = 500 * 10 = 5000"
   ]
  },
  {
   "cell_type": "code",
   "execution_count": 1,
   "metadata": {},
   "outputs": [
    {
     "name": "stdout",
     "output_type": "stream",
     "text": [
      "WARNING:tensorflow:From C:\\Users\\user\\anaconda3\\lib\\site-packages\\tensorflow_core\\python\\compat\\v2_compat.py:65: disable_resource_variables (from tensorflow.python.ops.variable_scope) is deprecated and will be removed in a future version.\n",
      "Instructions for updating:\n",
      "non-resource variables are not supported in the long term\n"
     ]
    }
   ],
   "source": [
    "\n",
    "import tensorflow.compat.v1 as tf\n",
    "tf.disable_v2_behavior()\n",
    "from sklearn.preprocessing import OneHotEncoder\n",
    "from sklearn.metrics import accuracy_score\n",
    "import matplotlib.pyplot as plt\n",
    "import numpy as np"
   ]
  },
  {
   "cell_type": "code",
   "execution_count": 2,
   "metadata": {},
   "outputs": [
    {
     "name": "stdout",
     "output_type": "stream",
     "text": [
      "(3901, 4000)\n",
      "(1673, 4000)\n"
     ]
    },
    {
     "data": {
      "text/plain": [
       "list"
      ]
     },
     "execution_count": 2,
     "metadata": {},
     "output_type": "execute_result"
    }
   ],
   "source": [
    "# file load\n",
    "x_train, x_test, y_train, y_test = np.load('C:/IITT/6_Tensorflow/data/spam_data.npy',allow_pickle=True)\n",
    "\n",
    "print(x_train.shape) # (3901, 4000)\n",
    "print(x_test.shape) # (1673, 4000)\n",
    "\n",
    "type(x_train) # numpy.ndarray\n",
    "type(y_train) # list"
   ]
  },
  {
   "cell_type": "code",
   "execution_count": 3,
   "metadata": {},
   "outputs": [],
   "source": [
    "# list -> numpy -> reshape\n",
    "y_train = np.array(y_train)\n",
    "y_train = y_train.reshape(-1,1)\n",
    "\n",
    "y_test = np.array(y_test)\n",
    "y_test = y_test.reshape(-1,1)\n",
    "\n",
    "\n",
    "# Hyper parameters\n",
    "max_features = 4000\n",
    "batch_size = 500\n",
    "iter_size = 10\n",
    "learning_rate = 0.01\n",
    "epochs = 50\n",
    "\n",
    "\n",
    "# X,Y 변수 정의 \n",
    "X = tf.placeholder(dtype=tf.float32, shape=[None,max_features])\n",
    "Y = tf.placeholder(dtype=tf.float32, shape=[None,1]) # ham/spam\n"
   ]
  },
  {
   "cell_type": "code",
   "execution_count": 4,
   "metadata": {},
   "outputs": [],
   "source": [
    "##############################################\n",
    "########### DNN network ######################\n",
    "##############################################\n",
    "\n",
    "\n",
    "# node 정의\n",
    "hidden_node1 = 6\n",
    "hidden_node2 = 3\n",
    "\n",
    "# hidden_layer 1층\n",
    "w1 = tf.Variable(tf.random_normal([max_features,hidden_node1]))\n",
    "b1 = tf.Variable(tf.random_normal([hidden_node1])) \n",
    "hidden1_output = tf.nn.relu(tf.matmul(X,w1)+b1)\n",
    "\n",
    "# hidden_layer 2층\n",
    "w2 = tf.Variable(tf.random_normal([hidden_node1,hidden_node2])) \n",
    "b2 = tf.Variable(tf.random_normal([hidden_node2]))\n",
    "hidden2_output = tf.nn.relu(tf.matmul(hidden1_output,w2)+b2)                 \n",
    "\n",
    "# output layer\n",
    "w3 = tf.Variable(tf.random_normal([hidden_node2,1]))\n",
    "b3 = tf.Variable(tf.random_normal([1]))\n",
    "model = tf.matmul(hidden2_output,w3)+b3\n",
    "\n",
    "# sigmoid\n",
    "sigmoid = tf.sigmoid(model)\n",
    "\n",
    "# loss function : cross entropy\n",
    "loss = tf.reduce_mean(tf.nn.sigmoid_cross_entropy_with_logits(labels=Y,logits=model))\n",
    "\n",
    "# optimizer\n",
    "train = tf.train.AdamOptimizer(learning_rate).minimize(loss)\n",
    "\n",
    "# cut off\n",
    "y_pred = tf.cast(sigmoid>0.5, tf.float32)\n",
    "\n",
    "\n",
    "    "
   ]
  },
  {
   "cell_type": "code",
   "execution_count": 5,
   "metadata": {},
   "outputs": [
    {
     "name": "stdout",
     "output_type": "stream",
     "text": [
      "epoch1 : loss = 0.7835736513137818\n",
      "epoch2 : loss = 0.5032910585403443\n",
      "epoch3 : loss = 0.3800388514995575\n",
      "epoch4 : loss = 0.3109119951725006\n",
      "epoch5 : loss = 0.25675250589847565\n",
      "epoch6 : loss = 0.21551683843135833\n",
      "epoch7 : loss = 0.18353977799415588\n",
      "epoch8 : loss = 0.15598160177469253\n",
      "epoch9 : loss = 0.11307105422019958\n",
      "epoch10 : loss = 0.07898417301476002\n",
      "epoch11 : loss = 0.05459275469183922\n",
      "epoch12 : loss = 0.04420842863619327\n",
      "epoch13 : loss = 0.029921691119670867\n",
      "epoch14 : loss = 0.0269027853384614\n",
      "epoch15 : loss = 0.018147525563836097\n",
      "epoch16 : loss = 0.016780350310727953\n",
      "epoch17 : loss = 0.011958444537594915\n",
      "epoch18 : loss = 0.010597055871039629\n",
      "epoch19 : loss = 0.009694104036316275\n",
      "epoch20 : loss = 0.0059285445837304\n",
      "epoch21 : loss = 0.006114359828643501\n",
      "epoch22 : loss = 0.0058907765662297605\n",
      "epoch23 : loss = 0.0037377001135610044\n",
      "epoch24 : loss = 0.003989719424862414\n",
      "epoch25 : loss = 0.003971975832246244\n",
      "epoch26 : loss = 0.0027243927121162414\n",
      "epoch27 : loss = 0.0035927109769545496\n",
      "epoch28 : loss = 0.0032559909857809545\n",
      "epoch29 : loss = 0.0022151812736410648\n",
      "epoch30 : loss = 0.0021844073198735714\n",
      "epoch31 : loss = 0.0020517800759989767\n",
      "epoch32 : loss = 0.0021040734252892436\n",
      "epoch33 : loss = 0.001065858983201906\n",
      "epoch34 : loss = 0.003729387035127729\n",
      "epoch35 : loss = 0.0019177902751835064\n",
      "epoch36 : loss = 0.0010024600953329355\n",
      "epoch37 : loss = 0.003798522247234359\n",
      "epoch38 : loss = 0.0008641389984404668\n",
      "epoch39 : loss = 0.002863674523541704\n",
      "epoch40 : loss = 0.0007521161052864045\n",
      "epoch41 : loss = 0.0016012262785807252\n",
      "epoch42 : loss = 0.0015339363628299907\n",
      "epoch43 : loss = 0.0015992851986084133\n",
      "epoch44 : loss = 0.0025461262121098116\n",
      "epoch45 : loss = 0.00072573269426357\n",
      "epoch46 : loss = 0.0006040274223778397\n",
      "epoch47 : loss = 0.002647876355331391\n",
      "epoch48 : loss = 0.002479195114574395\n",
      "epoch49 : loss = 0.000524856717674993\n",
      "epoch50 : loss = 0.002460185601375997\n",
      "accuracy= 0.972504482964734\n"
     ]
    }
   ],
   "source": [
    "# model training\n",
    "\n",
    "with tf.Session() as sess:\n",
    "    sess.run(tf.global_variables_initializer())\n",
    "       \n",
    "    for epoch in range(epochs):\n",
    "        tot_loss = 0\n",
    "        \n",
    "        for step in range(iter_size):\n",
    "            idx = np.random.choice(a=x_train.shape[0], size=batch_size, replace=False)\n",
    "            \n",
    "            feed = {X:x_train[idx],Y:y_train[idx]}\n",
    "            \n",
    "            _, loss_val = sess.run([train,loss], feed_dict=feed)\n",
    "            \n",
    "            tot_loss += loss_val\n",
    "        avg_loss = tot_loss / iter_size\n",
    "        print(\"epoch{} : loss = {}\".format(epoch+1, avg_loss))\n",
    "        \n",
    "\n",
    "    # model test\n",
    "    feed2 = {X:x_test, Y:y_test}\n",
    "\n",
    "    y_pred_re = sess.run(y_pred, feed_dict=feed2)\n",
    "    y_true_re = sess.run(Y, feed_dict=feed2)\n",
    "    \n",
    "    acc = accuracy_score(y_true_re, y_pred_re)\n",
    "    print(\"accuracy=\",acc)"
   ]
  }
 ],
 "metadata": {
  "kernelspec": {
   "display_name": "Python 3",
   "language": "python",
   "name": "python3"
  },
  "language_info": {
   "codemirror_mode": {
    "name": "ipython",
    "version": 3
   },
   "file_extension": ".py",
   "mimetype": "text/x-python",
   "name": "python",
   "nbconvert_exporter": "python",
   "pygments_lexer": "ipython3",
   "version": "3.7.7"
  }
 },
 "nbformat": 4,
 "nbformat_minor": 4
}
