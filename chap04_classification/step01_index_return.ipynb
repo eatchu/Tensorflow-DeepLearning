{
 "cells": [
  {
   "cell_type": "markdown",
   "metadata": {},
   "source": [
    "# index 리턴\n",
    "  1. arg_min/arg_max\n",
    "     - 축 별 최소/최대 값의 index 반환 \n",
    "  2. unique/setdiff1d\n",
    "     - 중복제거/차집합 결과 index 반환  "
   ]
  },
  {
   "cell_type": "code",
   "execution_count": 1,
   "metadata": {},
   "outputs": [
    {
     "name": "stdout",
     "output_type": "stream",
     "text": [
      "WARNING:tensorflow:From C:\\Users\\user\\anaconda3\\lib\\site-packages\\tensorflow_core\\python\\compat\\v2_compat.py:65: disable_resource_variables (from tensorflow.python.ops.variable_scope) is deprecated and will be removed in a future version.\n",
      "Instructions for updating:\n",
      "non-resource variables are not supported in the long term\n",
      "2\n",
      "1\n",
      "[0 2]\n",
      "[b'a' b'b' b'c']\n",
      "[0 1 0 2 1]\n",
      "WARNING:tensorflow:From <ipython-input-1-810dd37e32c6>:30: setdiff1d (from tensorflow.python.ops.array_ops) is deprecated and will be removed after 2018-11-30.\n",
      "Instructions for updating:\n",
      "This op will be removed after the deprecation date. Please switch to tf.sets.difference().\n",
      "[5 4]\n",
      "[0 3]\n"
     ]
    }
   ],
   "source": [
    "\n",
    "import tensorflow.compat.v1 as tf # ver1.x\n",
    "tf.disable_v2_behavior() # ver2.0 사용안함\n",
    "\n",
    "# 1. argmin/argmax\n",
    "a = tf.constant([5,2,1,4,3], dtype=tf.int32)\n",
    "b = tf.constant([4,5,1,3,2])\n",
    "c = tf.constant([[5,4,2], [3,2,4]]) # 2차원 \n",
    "\n",
    "# dimension : reduce 차원(vector = 0) \n",
    "min_index = tf.arg_min(a, dimension=0) # 1차원 대상\n",
    "max_index = tf.arg_max(b, dimension=0) # 1차원 대상 \n",
    "max_index2 = tf.arg_max(c, dimension=1) # 2차원 대상\n",
    "#\n",
    "sess = tf.Session()\n",
    "print(sess.run(min_index)) # [2] -> 1\n",
    "print(sess.run(max_index)) # [1] -> 5\n",
    "print(sess.run(max_index2)) # [0 2] -> 5,4\n",
    "\n",
    "\n",
    "# 2. unique/setdiff1d\n",
    "\n",
    "c = tf.constant(['a','b','a','c','b'])\n",
    "# unique \n",
    "cstr, cidx = tf.unique(c)\n",
    "print(sess.run(cstr)) # [b'a' b'b' b'c']\n",
    "print(sess.run(cidx)) # [0 1 0 2 1]\n",
    "\n",
    "# setdiff1d : [5,2,1,4,3] - [1,3,2]\n",
    "d = tf.constant([1,3,2], dtype=tf.int32)\n",
    "set_result, set_idx = tf.setdiff1d(a, d)\n",
    "print(sess.run(set_result)) # [5 4]\n",
    "print(sess.run(set_idx)) # [0 3]\n",
    "\n"
   ]
  }
 ],
 "metadata": {
  "kernelspec": {
   "display_name": "Python 3",
   "language": "python",
   "name": "python3"
  },
  "language_info": {
   "codemirror_mode": {
    "name": "ipython",
    "version": 3
   },
   "file_extension": ".py",
   "mimetype": "text/x-python",
   "name": "python",
   "nbconvert_exporter": "python",
   "pygments_lexer": "ipython3",
   "version": "3.7.7"
  }
 },
 "nbformat": 4,
 "nbformat_minor": 4
}
