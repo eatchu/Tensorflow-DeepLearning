{
 "cells": [
  {
   "cell_type": "code",
   "execution_count": 1,
   "metadata": {},
   "outputs": [
    {
     "data": {
      "text/plain": [
       "True"
      ]
     },
     "execution_count": 1,
     "metadata": {},
     "output_type": "execute_result"
    }
   ],
   "source": [
    "import tensorflow as tf # ver2.x\n",
    "tf.executing_eagerly() # True\n"
   ]
  },
  {
   "cell_type": "code",
   "execution_count": 8,
   "metadata": {},
   "outputs": [
    {
     "name": "stdout",
     "output_type": "stream",
     "text": [
      "최초 손실값  : 3.806472\n",
      "w : [[-0.97275704]\n",
      " [-0.5353048 ]], b : [-1.3041213]\n"
     ]
    }
   ],
   "source": [
    "\n",
    "# 1. input/output 변수 정의 \n",
    "inputs = tf.Variable([[1., 2.], [2, 3], [3, 1], [4, 3], [5, 3], [6, 2]]) # [6,2]\n",
    "outputs = tf.Variable([[0.], [0], [0], [1], [1], [1]]) # [6, 1] \n",
    "  \n",
    "\n",
    "# 2. model : Model 클래스 \n",
    "class Model(tf.keras.Model) : # 자식클래스(부모클래스)\n",
    "    def __init__(self) : # 생성자 \n",
    "        super().__init__() # 부모생성자 호출 \n",
    "        self.W = tf.Variable(tf.random.normal([2, 1])) # 기울기[입력,출력]\n",
    "        self.B = tf.Variable(tf.random.normal([1])) # 절편[출력]\n",
    "    def call(self, inputs) : # 메서드 재정의 \n",
    "        return tf.matmul(inputs, self.W) + self.B # 회귀방정식(예측치) \n",
    "\n",
    "# 3. 손실 함수 : 오차 반환 \n",
    "def loss(model, inputs, outputs):\n",
    "    sigmoid = tf.sigmoid(model(inputs))  \n",
    "    return -tf.reduce_mean(outputs * tf.math.log(sigmoid) + (1-outputs) * tf.math.log(1-sigmoid)) # Cross Entropy \n",
    "\n",
    "# 4. 미분계수(기울기) 계산 \n",
    "def gardient(model, inputs, outputs) :  \n",
    "    with tf.GradientTape() as tape:\n",
    "        loss_value = loss(model, inputs, outputs) # 손실함수 호출 \n",
    "        grad = tape.gradient(loss_value, [model.W, model.B])\n",
    "    return grad # 업데이터 결과 반환 \n",
    "\n",
    "# 5. model 생성 \n",
    "model = Model() # 생성자    \n",
    "\n",
    "# 6. model 최적화 객체 \n",
    "opt = tf.keras.optimizers.Adam(learning_rate=0.1)\n",
    "\n",
    "print(\"최초 손실값  : {:.6f}\".format(loss(model, inputs, outputs)))\n",
    "print(\"w : {}, b : {}\".format(model.W.numpy(), model.B.numpy()))\n"
   ]
  },
  {
   "cell_type": "code",
   "execution_count": 11,
   "metadata": {},
   "outputs": [
    {
     "name": "stdout",
     "output_type": "stream",
     "text": [
      "step = 100, loss = 0.065368\n",
      "step = 200, loss = 0.048914\n",
      "step = 300, loss = 0.038207\n",
      "최종 손실값  : 0.038207\n",
      "w : [[2.5892305]\n",
      " [1.2099023]], b : [-11.556329]\n",
      "acc= 1.0\n",
      "y pred :  [0. 0. 0. 1. 1. 1.]\n",
      "y true :  [0. 0. 0. 1. 1. 1.]\n"
     ]
    }
   ],
   "source": [
    "# 7. 반복학습 \n",
    "for step in range(300) :\n",
    "    grad = gardient(model, inputs, outputs) #  기울기 계산 \n",
    "    # 기울기 -> 최적화 객체 반영 \n",
    "    opt.apply_gradients(zip(grad, [model.W, model.B]))\n",
    "    \n",
    "    if (step+1) % 100 == 0 :\n",
    "        print(\"step = {}, loss = {:.6f}\".format((step+1), \n",
    "                                            loss(model, inputs, outputs)))\n",
    "\n",
    "\n",
    "# model 최적화 \n",
    "print(\"최종 손실값  : {:.6f}\".format(loss(model, inputs, outputs)))\n",
    "print(\"w : {}, b : {}\".format(model.W.numpy(), model.B.numpy()))\n",
    "    \n",
    "# model test \n",
    "sigmoid = tf.sigmoid(model.call(inputs)) # 0~1 확률 \n",
    "pred = tf.cast(sigmoid > 0.5, tf.float32) # 관계식 -> 1 or 0\n",
    "\n",
    "y_true = tf.squeeze(outputs) # 2차원 -> 1차원 \n",
    "y_pred = tf.squeeze(pred)  # 2차원 -> 1차원 \n",
    "\n",
    "from sklearn.metrics import accuracy_score\n",
    "acc = accuracy_score(y_true, y_pred)\n",
    "\n",
    "print(\"acc=\",acc)\n",
    "\n",
    "print(\"y pred : \", y_pred.numpy())\n",
    "print(\"y true : \", y_true.numpy())"
   ]
  }
 ],
 "metadata": {
  "kernelspec": {
   "display_name": "Python 3",
   "language": "python",
   "name": "python3"
  },
  "language_info": {
   "codemirror_mode": {
    "name": "ipython",
    "version": 3
   },
   "file_extension": ".py",
   "mimetype": "text/x-python",
   "name": "python",
   "nbconvert_exporter": "python",
   "pygments_lexer": "ipython3",
   "version": "3.7.7"
  }
 },
 "nbformat": 4,
 "nbformat_minor": 4
}
