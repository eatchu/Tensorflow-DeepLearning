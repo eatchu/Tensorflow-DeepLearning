{
 "cells": [
  {
   "cell_type": "code",
   "execution_count": 1,
   "metadata": {},
   "outputs": [
    {
     "name": "stdout",
     "output_type": "stream",
     "text": [
      "WARNING:tensorflow:From C:\\Users\\user\\anaconda3\\lib\\site-packages\\tensorflow_core\\python\\compat\\v2_compat.py:65: disable_resource_variables (from tensorflow.python.ops.variable_scope) is deprecated and will be removed in a future version.\n",
      "Instructions for updating:\n",
      "non-resource variables are not supported in the long term\n"
     ]
    }
   ],
   "source": [
    "import tensorflow.compat.v1 as tf # ver1.x\n",
    "tf.disable_v2_behavior() # ver2.0 사용안함\n",
    "from sklearn.datasets import load_iris\n",
    "from sklearn.preprocessing import OneHotEncoder\n",
    "from sklearn.metrics import accuracy_score\n"
   ]
  },
  {
   "cell_type": "code",
   "execution_count": 2,
   "metadata": {},
   "outputs": [],
   "source": [
    "\n",
    "# 1. x,y data\n",
    "iris = load_iris()\n",
    "\n",
    "# x : 1 ~ 4\n",
    "x_data = iris.data\n",
    "x_data.shape # (150,4)\n",
    "\n",
    "# y : 5\n",
    "y_data = iris.target\n",
    "y_data.shape # (150,)\n",
    "\n",
    "# reshape\n",
    "y_data = y_data.reshape(-1,1)\n",
    "y_data.shape # (150,1)\n",
    "'''\n",
    "0 -> 1 0 0\n",
    "1 -> 0 1 0\n",
    "2 -> 0 0 1\n",
    "'''\n",
    "\n",
    "obj = OneHotEncoder()\n",
    "# sparse -> numpy\n",
    "y_data = obj.fit_transform(y_data).toarray()\n",
    "y_data.shape # (150,3)\n",
    "\n",
    "\n",
    "\n",
    "# 2. X, Y 변수 정의\n",
    "X = tf.placeholder(dtype=tf.float32, shape = [None, 4])  # [관측치, 입력수]\n",
    "Y = tf.placeholder(dtype=tf.float32, shape = [None, 3])  # [관측치, 출력수]\n",
    "\n",
    "# 3. w, b 변수 정의 : 초기값 난수 이용\n",
    "w = tf.Variable(tf.random_normal([4, 3]))  # [입력수, 출력수]\n",
    "b = tf.Variable(tf.random_normal([3]))  # 출력수\n",
    "\n",
    "\n",
    "# 4. softmax분류기\n",
    "# 1) 회귀방정식 : 예측치\n",
    "model = tf.matmul(X, w) + b\n",
    "\n",
    "# softmax(예측치)\n",
    "softmax = tf.nn.softmax(model) \n",
    "\n",
    "# (2) loss function : cross Entropy 이용 : -sum(Y * log(model)) \n",
    "'''\n",
    "# 1차 방법\n",
    "loss = -tf.reduce_mean(Y * tf.log(softmax) + (1 - Y) * tf.log(1 - softmax))\n",
    "'''\n",
    "# 2차 방법 : softmax + crossEntropy\n",
    "loss = tf.reduce_mean(tf.nn.softmax_cross_entropy_with_logits_v2(\n",
    "        labels=Y, logits=model))\n",
    "\n",
    "\n",
    "# 3) optimizer : 오차최소화­(w, b update) \n",
    "train = tf.train.AdamOptimizer(0.1).minimize(loss) \n",
    "\n",
    "# 4) argmax() : encoding(2) -> decoding(10)\n",
    "y_pred = tf.argmax(softmax, axis=1)\n",
    "y_true = tf.argmax(Y, axis=1)\n",
    " \n"
   ]
  },
  {
   "cell_type": "code",
   "execution_count": 3,
   "metadata": {},
   "outputs": [
    {
     "name": "stdout",
     "output_type": "stream",
     "text": [
      "step = 50, loss = 0.4032759964466095\n",
      "step = 100, loss = 0.26317936182022095\n",
      "step = 150, loss = 0.20367562770843506\n",
      "step = 200, loss = 0.16708402335643768\n",
      "step = 250, loss = 0.1427597999572754\n",
      "step = 300, loss = 0.12566228210926056\n",
      "step = 350, loss = 0.11308299750089645\n",
      "step = 400, loss = 0.10348283499479294\n",
      "step = 450, loss = 0.09593705832958221\n",
      "step = 500, loss = 0.08986178785562515\n",
      "y pred = [0 0 0 0 0 0 0 0 0 0 0 0 0 0 0 0 0 0 0 0 0 0 0 0 0 0 0 0 0 0 0 0 0 0 0 0 0\n",
      " 0 0 0 0 0 0 0 0 0 0 0 0 0 1 1 1 1 1 1 1 1 1 1 1 1 1 1 1 1 1 1 1 1 2 1 1 1\n",
      " 1 1 1 1 1 1 1 1 1 2 1 1 1 1 1 1 1 1 1 1 1 1 1 1 1 1 2 2 2 2 2 2 2 2 2 2 2\n",
      " 2 2 2 2 2 2 2 2 2 2 2 2 2 2 2 2 2 2 2 2 2 2 1 2 2 2 2 2 2 2 2 2 2 2 2 2 2\n",
      " 2 2],\n",
      " y_true = [0 0 0 0 0 0 0 0 0 0 0 0 0 0 0 0 0 0 0 0 0 0 0 0 0 0 0 0 0 0 0 0 0 0 0 0 0\n",
      " 0 0 0 0 0 0 0 0 0 0 0 0 0 1 1 1 1 1 1 1 1 1 1 1 1 1 1 1 1 1 1 1 1 1 1 1 1\n",
      " 1 1 1 1 1 1 1 1 1 1 1 1 1 1 1 1 1 1 1 1 1 1 1 1 1 1 2 2 2 2 2 2 2 2 2 2 2\n",
      " 2 2 2 2 2 2 2 2 2 2 2 2 2 2 2 2 2 2 2 2 2 2 2 2 2 2 2 2 2 2 2 2 2 2 2 2 2\n",
      " 2 2]\n",
      "acc= 0.98\n"
     ]
    },
    {
     "data": {
      "image/png": "[encoded data removed]",
      "text/plain": [
       "<Figure size 432x288 with 1 Axes>"
      ]
     },
     "metadata": {
      "needs_background": "light"
     },
     "output_type": "display_data"
    }
   ],
   "source": [
    "# 5. model 학습\n",
    "with tf.Session() as sess:\n",
    "    sess.run(tf.global_variables_initializer())\n",
    "    \n",
    "    feed_data = {X:x_data, Y:y_data}\n",
    "    \n",
    "    # 반복학습 : 500회\n",
    "    for step in range(500):\n",
    "        _, loss_val = sess.run([train,loss], feed_dict = feed_data)\n",
    "        \n",
    "        if (step+1)%50==0:\n",
    "            print(\"step = {}, loss = {}\".format(step+1, loss_val))\n",
    "            \n",
    "    # model result            \n",
    "    y_pred_re = sess.run(y_pred,feed_dict={X:x_data})\n",
    "    y_true_re = sess.run(y_true,feed_dict={Y:y_data})\n",
    "    print(\"y pred = {},\\n y_true = {}\".format(y_pred_re,y_true_re))\n",
    "    acc = accuracy_score(y_true_re,y_pred_re)\n",
    "    print(\"acc=\",acc)\n",
    "    \n",
    "    import matplotlib.pyplot as plt\n",
    "    plt.plot(y_pred_re, c='r', marker='*')\n",
    "    plt.plot(y_true_re, c='b')\n",
    "    plt.show()\n",
    "\n"
   ]
  }
 ],
 "metadata": {
  "kernelspec": {
   "display_name": "Python 3",
   "language": "python",
   "name": "python3"
  },
  "language_info": {
   "codemirror_mode": {
    "name": "ipython",
    "version": 3
   },
   "file_extension": ".py",
   "mimetype": "text/x-python",
   "name": "python",
   "nbconvert_exporter": "python",
   "pygments_lexer": "ipython3",
   "version": "3.7.7"
  }
 },
 "nbformat": 4,
 "nbformat_minor": 4
}
