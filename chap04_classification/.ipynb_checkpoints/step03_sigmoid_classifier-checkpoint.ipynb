{
 "cells": [
  {
   "cell_type": "markdown",
   "metadata": {},
   "source": [
    " # sigmoid classifier\n",
    " - 활성함수(activatio function) : sigmoid\n",
    " - 손실함수(loss function) : cross entropy"
   ]
  },
  {
   "cell_type": "code",
   "execution_count": 2,
   "metadata": {},
   "outputs": [
    {
     "name": "stdout",
     "output_type": "stream",
     "text": [
      "WARNING:tensorflow:From C:\\Users\\user\\anaconda3\\lib\\site-packages\\tensorflow_core\\python\\compat\\v2_compat.py:65: disable_resource_variables (from tensorflow.python.ops.variable_scope) is deprecated and will be removed in a future version.\n",
      "Instructions for updating:\n",
      "non-resource variables are not supported in the long term\n"
     ]
    }
   ],
   "source": [
    "\n",
    "import tensorflow.compat.v1 as tf\n",
    "tf.disable_v2_behavior()\n",
    "\n",
    "from sklearn.metrics import accuracy_score # model 평가\n"
   ]
  },
  {
   "cell_type": "code",
   "execution_count": 3,
   "metadata": {},
   "outputs": [],
   "source": [
    "\n",
    "# 1. x,y 공금 data\n",
    "# x변수 : [hours, video]\n",
    "x_data = [[1,2],[2,3],[3,1],[4,3],[5,3],[6,2]] # (6,2)\n",
    "\n",
    "# y변수 : binary data (fail or pass)\n",
    "y_data = [[0],[0],[0],[1],[1],[1]] # (6.1)\n",
    "\n",
    "\n",
    "# 2. x,y 변수 정의\n",
    "x = tf.placeholder(dtype=tf.float32, shape=[None,2])\n",
    "y = tf.placeholder(dtype=tf.float32, shape=[None,1])\n",
    "\n",
    "# 3. w,b 변수 정의\n",
    "w = tf.Variable(tf.random_normal([2,1]))\n",
    "b = tf.Variable(tf.random_normal([1]))\n",
    "\n",
    "\n",
    "# 4. sigmoid 분류기\n",
    "# (1) model : 예측치\n",
    "model = tf.matmul(x, w) + b # 회귀방정식\n",
    "sigmoid = tf.sigmoid(model) # 활성함수 적용 (0 ~ 1 확률)\n",
    "\n",
    "# (2) loss function : Entropy 수식 = -sum(Y * log(model)) \n",
    "loss = -tf.reduce_mean(y * tf.log(sigmoid) + (1-y) * tf.log(1-sigmoid))\n",
    "\n",
    "\n",
    "# (3) optimizer \n",
    "'''\n",
    "opt = tf.train.GradientDescentOptimizer(0.1)\n",
    "train = opt.minimize(loss)\n",
    "'''\n",
    "train = tf.train.GradientDescentOptimizer(0.1).minimize(loss) # 최적화객체\n",
    "\n",
    "# (4) cut-off : 0.5\n",
    "# tf.cast(조건) : 참 -> 1 , 거짓 -> 0\n",
    "cut_off = tf.cast(sigmoid>0.5,tf.float32) # T/F -> 1.0/0.0\n",
    "\n"
   ]
  },
  {
   "cell_type": "code",
   "execution_count": 4,
   "metadata": {},
   "outputs": [
    {
     "name": "stdout",
     "output_type": "stream",
     "text": [
      "loss=0.2176055759191513\n",
      "acc= 1.0\n",
      "y_true [[0.]\n",
      " [0.]\n",
      " [0.]\n",
      " [1.]\n",
      " [1.]\n",
      " [1.]]\n",
      "y_pred [[0.]\n",
      " [0.]\n",
      " [0.]\n",
      " [1.]\n",
      " [1.]\n",
      " [1.]]\n"
     ]
    }
   ],
   "source": [
    "\n",
    "# 5. model training\n",
    "with tf.Session() as sess:\n",
    "    sess.run(tf.global_variables_initializer())\n",
    "\n",
    "    # 반복학습 : 500회\n",
    "    for step in range(500):\n",
    "        _, loss_val = sess.run([train,loss],feed_dict={x:x_data,y:y_data})\n",
    "\n",
    "    print(\"loss={}\".format(loss_val))\n",
    "    \n",
    "    # model 최적화\n",
    "    y_true = sess.run(y, feed_dict={y:y_data})\n",
    "    y_pred = sess.run(cut_off, feed_dict={x:x_data})\n",
    "    \n",
    "    acc = accuracy_score(y_true, y_pred)\n",
    "    print(\"acc=\",acc)\n",
    "    print(\"y_true\",y_true)\n",
    "    print(\"y_pred\",y_pred)"
   ]
  }
 ],
 "metadata": {
  "kernelspec": {
   "display_name": "Python 3",
   "language": "python",
   "name": "python3"
  },
  "language_info": {
   "codemirror_mode": {
    "name": "ipython",
    "version": 3
   },
   "file_extension": ".py",
   "mimetype": "text/x-python",
   "name": "python",
   "nbconvert_exporter": "python",
   "pygments_lexer": "ipython3",
   "version": "3.7.7"
  }
 },
 "nbformat": 4,
 "nbformat_minor": 4
}
