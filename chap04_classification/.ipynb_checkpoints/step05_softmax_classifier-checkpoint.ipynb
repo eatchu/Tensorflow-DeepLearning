{
 "cells": [
  {
   "cell_type": "markdown",
   "metadata": {},
   "source": [
    "# softmax classifier\n",
    "\n",
    " - 활성함수 : Softmax(model)\n",
    " - 손실함수 : Cross Entropy"
   ]
  },
  {
   "cell_type": "code",
   "execution_count": 1,
   "metadata": {},
   "outputs": [
    {
     "name": "stdout",
     "output_type": "stream",
     "text": [
      "WARNING:tensorflow:From C:\\Users\\user\\anaconda3\\lib\\site-packages\\tensorflow_core\\python\\compat\\v2_compat.py:65: disable_resource_variables (from tensorflow.python.ops.variable_scope) is deprecated and will be removed in a future version.\n",
      "Instructions for updating:\n",
      "non-resource variables are not supported in the long term\n"
     ]
    }
   ],
   "source": [
    "import tensorflow.compat.v1 as tf # ver1.x\n",
    "tf.disable_v2_behavior() # ver2.0 사용안함\n",
    "import numpy as np\n",
    "from sklearn.metrics import accuracy_score\n"
   ]
  },
  {
   "cell_type": "code",
   "execution_count": 2,
   "metadata": {},
   "outputs": [],
   "source": [
    "\n",
    "# x, y 공급 data \n",
    "# [털, 날개]\n",
    "x_data = np.array(\n",
    "    [[0, 0], [1, 0], [1, 1], [0, 0], [0, 1], [1, 1]]) # [6, 2]\n",
    "\n",
    "# [기타, 포유류, 조류] : [6, 3] - one hot encoding\n",
    "y_data = np.array([\n",
    "    [1, 0, 0],  # 기타[0]\n",
    "    [0, 1, 0],  # 포유류[1]\n",
    "    [0, 0, 1],  # 조류[2]\n",
    "    [1, 0, 0],\n",
    "    [1, 0, 0],\n",
    "    [0, 0, 1]\n",
    "])\n",
    "\n",
    "\n",
    "# X, Y 변수 정의\n",
    "X = tf.placeholder(dtype=tf.float32, shape = [None, 2])  # [관측치, 입력수]\n",
    "Y = tf.placeholder(dtype=tf.float32, shape = [None, 3])  # [관측치, 출력수]\n",
    "\n",
    "\n",
    "# 3. w, b 변수 정의 : 초기값 난수 이용\n",
    "w = tf.Variable(tf.random_normal([2, 3]))  # [입력수, 출력수]\n",
    "b = tf.Variable(tf.random_normal([3]))  # 출력수\n",
    "\n",
    "\n",
    "\n",
    "# 4. softmax분류기\n",
    "# 1) 회귀방정식 : 예측치\n",
    "model = tf.matmul(X, w) + b \n",
    "\n",
    "# softmax(예측치)\n",
    "softmax = tf.nn.softmax(model) \n",
    "\n",
    "# (2) loss function : cross Entropy 이용 : -sum(Y * log(model)) \n",
    "loss = -tf.reduce_mean(Y * tf.log(softmax) + (1 - Y) * tf.log(1 - softmax))\n",
    "# loss = tf.reduce_mean(tf.nn.softmax_cross_entropy_with_logits_v2(labels=Y, logits=model))\n",
    "\n",
    "\n",
    "# 3) optimizer : 오차최소화­(w, b update) \n",
    "train = tf.train.AdamOptimizer(0.1).minimize(loss) \n",
    "\n",
    "# 4) argmax() : encoding(2) -> decoding(10)\n",
    "y_pred = tf.argmax(softmax, axis=1)\n",
    "y_true = tf.argmax(Y, axis=1)\n",
    "\n"
   ]
  },
  {
   "cell_type": "code",
   "execution_count": 3,
   "metadata": {},
   "outputs": [
    {
     "name": "stdout",
     "output_type": "stream",
     "text": [
      "step = 50, loss = 0.06070958077907562\n",
      "step = 100, loss = 0.02213645912706852\n",
      "step = 150, loss = 0.012803365476429462\n",
      "step = 200, loss = 0.00861271284520626\n",
      "step = 250, loss = 0.006292439065873623\n",
      "step = 300, loss = 0.004848032258450985\n",
      "step = 350, loss = 0.003876760136336088\n",
      "step = 400, loss = 0.0031866547651588917\n",
      "step = 450, loss = 0.002675638534128666\n",
      "step = 500, loss = 0.002284797839820385\n",
      "[[9.9829072e-01 1.6528863e-03 5.6393041e-05]\n",
      " [5.9066375e-04 9.9365306e-01 5.7562711e-03]\n",
      " [1.5175166e-03 1.9349285e-03 9.9654752e-01]\n",
      " [9.9829072e-01 1.6528863e-03 5.6393041e-05]\n",
      " [9.9620652e-01 1.2501794e-06 3.7921153e-03]\n",
      " [1.5175166e-03 1.9349285e-03 9.9654752e-01]]\n",
      "y pred = [0 1 2 0 0 2],\n",
      " y_true = [0 1 2 0 0 2]\n",
      "acc= 1.0\n"
     ]
    }
   ],
   "source": [
    "\n",
    "# 5. model 학습\n",
    "with tf.Session() as sess:\n",
    "    sess.run(tf.global_variables_initializer())\n",
    "    \n",
    "    feed_data = {X:x_data, Y:y_data}\n",
    "    \n",
    "    # 반복학습 : 500회\n",
    "    for step in range(500):\n",
    "        _, loss_val = sess.run([train,loss], feed_dict = feed_data)\n",
    "        \n",
    "        if (step+1)%50==0:\n",
    "            print(\"step = {}, loss = {}\".format(step+1, loss_val))\n",
    "            \n",
    "    # model result\n",
    "    print(sess.run(softmax, feed_dict = {X:x_data}))\n",
    "    y_pred_re = sess.run(y_pred,feed_dict={X:x_data})\n",
    "    y_true_re = sess.run(y_true,feed_dict={Y:y_data})\n",
    "    print(\"y pred = {},\\n y_true = {}\".format(y_pred_re,y_true_re))\n",
    "    acc = accuracy_score(y_true_re,y_pred_re)\n",
    "    print(\"acc=\",acc)\n",
    "    \n"
   ]
  }
 ],
 "metadata": {
  "kernelspec": {
   "display_name": "Python 3",
   "language": "python",
   "name": "python3"
  },
  "language_info": {
   "codemirror_mode": {
    "name": "ipython",
    "version": 3
   },
   "file_extension": ".py",
   "mimetype": "text/x-python",
   "name": "python",
   "nbconvert_exporter": "python",
   "pygments_lexer": "ipython3",
   "version": "3.7.7"
  }
 },
 "nbformat": 4,
 "nbformat_minor": 4
}
