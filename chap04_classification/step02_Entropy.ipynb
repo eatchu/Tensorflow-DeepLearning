{
 "cells": [
  {
   "cell_type": "markdown",
   "metadata": {},
   "source": [
    "# Entropy : 일반용어\n",
    " - 확률분포에 p에 대한 불확실성의 측정 지수 \n",
    " - 이 값이 클 수록 일정한 방향성과 규칙성이 없는 무질서(chaos)를 의미\n",
    "\n",
    "# Cross Entropy : 통계용어\n",
    " - 두 확률변수 x, y에서 x를 관찰한 후 y에 대한 불확실성을 줄인다.\n",
    "    - 역전파 알고리즘에서 가중치(w)와 상수(b) 조정 -> 오차(cost) 줄임  \n",
    " - 분류기에서 cost 함수로 이용(정답과 예측치의 오차 계산)  \n",
    " - Entropy = -sum(Y * log(model))"
   ]
  },
  {
   "cell_type": "code",
   "execution_count": 1,
   "metadata": {},
   "outputs": [
    {
     "name": "stdout",
     "output_type": "stream",
     "text": [
      "entropy = 1.0\n",
      "entropy = 1.0\n",
      "entropy = 0.4689955935892812\n",
      "entropy = 0.4689955935892812\n"
     ]
    }
   ],
   "source": [
    "\n",
    "import numpy as np\n",
    "\n",
    "# 1. 불확실성이 큰 경우(p1: 앞면, p2: 뒷면)\n",
    "p1 = 0.5; p2 = 0.5\n",
    "\n",
    "entropy = -p1 * np.log2(p1) + -p2 * np.log2(p2)\n",
    "print('entropy =', entropy) # entropy = 1.0\n",
    "\n",
    "# p1 -> Y, p2 -> model \n",
    "Y = p1; model = p2\n",
    "entropy = -(Y * np.log2(Y) + model * np.log2(model)) # 공통부호 정리\n",
    "print('entropy =', entropy) # entropy = 1.0\n",
    "\n",
    "\n",
    "\n",
    "# 2. 불확실성이 작은 경우(x1: 앞면, x2: 뒷면) \n",
    "p1 = 0.9; p2 = 0.1\n",
    "\n",
    "entropy = -p1 * np.log2(p1) + -p2 * np.log2(p2)\n",
    "print('entropy =', entropy) # entropy = 0.4689955935892812\n",
    "\n",
    "# p1 -> Y, p2 -> model \n",
    "Y = p1; model = p2\n",
    "entropy = -(Y * np.log2(Y) + model * np.log2(model)) # 공통부호 정리\n",
    "print('entropy =', entropy) # entropy = 0.4689955935892812\n",
    "\n"
   ]
  }
 ],
 "metadata": {
  "kernelspec": {
   "display_name": "Python 3",
   "language": "python",
   "name": "python3"
  },
  "language_info": {
   "codemirror_mode": {
    "name": "ipython",
    "version": 3
   },
   "file_extension": ".py",
   "mimetype": "text/x-python",
   "name": "python",
   "nbconvert_exporter": "python",
   "pygments_lexer": "ipython3",
   "version": "3.7.7"
  }
 },
 "nbformat": 4,
 "nbformat_minor": 4
}
