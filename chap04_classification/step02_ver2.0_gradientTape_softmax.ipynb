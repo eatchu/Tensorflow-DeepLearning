{
 "cells": [
  {
   "cell_type": "code",
   "execution_count": 1,
   "metadata": {},
   "outputs": [
    {
     "data": {
      "text/plain": [
       "True"
      ]
     },
     "execution_count": 1,
     "metadata": {},
     "output_type": "execute_result"
    }
   ],
   "source": [
    "import tensorflow as tf # ver2.x\n",
    "tf.executing_eagerly() # True"
   ]
  },
  {
   "cell_type": "code",
   "execution_count": 2,
   "metadata": {
    "scrolled": true
   },
   "outputs": [
    {
     "name": "stdout",
     "output_type": "stream",
     "text": [
      "최초 손실값  : 0.741606\n",
      "w : [[ 0.61096877  0.29506168  0.02500454]\n",
      " [ 0.7288772  -0.8890389  -0.26007625]], b : [-0.04134237 -0.544135    0.24362575]\n"
     ]
    }
   ],
   "source": [
    "\n",
    "# 1. input/output 변수 정의 \n",
    "# [털, 날개]\n",
    "inputs = tf.Variable(\n",
    "    [[0., 0.], [1, 0], [1, 1], [0, 0], [0, 1], [1, 1]]) # [6, 2]\n",
    "\n",
    "# [기타, 포유류, 조류] : [6, 3] -> one hot encoding\n",
    "outputs = tf.Variable([\n",
    "    [1., 0., 0.],  # 기타[0]\n",
    "    [0, 1, 0],  # 포유류[1]\n",
    "    [0, 0, 1],  # 조류[2]\n",
    "    [1, 0, 0],\n",
    "    [1, 0, 0],\n",
    "    [0, 0, 1]\n",
    "])\n",
    "\n",
    "\n",
    "# 2. model : Model 클래스 \n",
    "class Model(tf.keras.Model) : # 자식클래스(부모클래스)\n",
    "    def __init__(self) : # 생성자 \n",
    "        super().__init__() # 부모생성자 호출 \n",
    "        self.W = tf.Variable(tf.random.normal([2, 3])) # 기울기[입력,출력]\n",
    "        self.B = tf.Variable(tf.random.normal([3])) # 절편[출력]\n",
    "    def call(self, inputs) : # 메서드 재정의 \n",
    "        return tf.matmul(inputs, self.W) + self.B # 회귀방정식(예측치) \n",
    "\n",
    "# 3. 손실 함수 : 오차 반환 \n",
    "def loss(model, inputs, outputs):\n",
    "    softmax = tf.nn.softmax(model(inputs)) # 활성함수 변경  \n",
    "    return -tf.reduce_mean(outputs * tf.math.log(softmax) + (1-outputs) * tf.math.log(1-softmax)) # Cross Entropy \n",
    "\n",
    "# 4. 미분계수(기울기) 계산 \n",
    "def gardient(model, inputs, outputs) :  \n",
    "    with tf.GradientTape() as tape:\n",
    "        loss_value = loss(model, inputs, outputs) # 손실함수 호출 \n",
    "        grad = tape.gradient(loss_value, [model.W, model.B])\n",
    "    return grad # 업데이터 결과 반환 \n",
    "\n",
    "# 5. model 생성 \n",
    "model = Model() # 생성자    \n",
    "\n",
    "# 6. model 최적화 객체 \n",
    "opt = tf.keras.optimizers.Adam(learning_rate=0.1)\n",
    "\n",
    "print(\"최초 손실값  : {:.6f}\".format(loss(model, inputs, outputs)))\n",
    "print(\"w : {}, b : {}\".format(model.W.numpy(), model.B.numpy()))\n"
   ]
  },
  {
   "cell_type": "code",
   "execution_count": 3,
   "metadata": {},
   "outputs": [
    {
     "name": "stdout",
     "output_type": "stream",
     "text": [
      "step = 100, loss = 0.016249\n",
      "step = 200, loss = 0.006610\n",
      "step = 300, loss = 0.003773\n",
      "최종 손실값  : 0.003773\n",
      "w : [[-5.192684    7.0760345   5.005445  ]\n",
      " [-0.48385787 -8.065312    3.5881357 ]], b : [ 4.1441445 -1.7021573 -4.682519 ]\n",
      "정답 :  [0 1 2 0 0 2]\n",
      "예측치 :  [0 1 2 0 0 2]\n"
     ]
    }
   ],
   "source": [
    "\n",
    "# 7. 반복학습 \n",
    "for step in range(300) :\n",
    "    grad = gardient(model, inputs, outputs) #  기울기 계산 \n",
    "    # 기울기 -> 최적화 객체 반영 \n",
    "    opt.apply_gradients(zip(grad, [model.W, model.B]))\n",
    "    \n",
    "    if (step+1) % 100 == 0 :\n",
    "        print(\"step = {}, loss = {:.6f}\".format((step+1), \n",
    "                                            loss(model, inputs, outputs)))\n",
    "    \n",
    "# model 최적화 \n",
    "print(\"최종 손실값  : {:.6f}\".format(loss(model, inputs, outputs)))\n",
    "print(\"w : {}, b : {}\".format(model.W.numpy(), model.B.numpy()))\n",
    "    \n",
    "# model test \n",
    "y_true = tf.argmax(outputs, axis=1) # 정답 -> decoding\n",
    "y_pred = tf.argmax(tf.nn.softmax(model.call(inputs)), axis=1) # 확률값 -> decoding\n",
    "\n",
    "print(\"정답 : \", y_true.numpy())\n",
    "print(\"예측치 : \", y_pred.numpy())\n"
   ]
  }
 ],
 "metadata": {
  "kernelspec": {
   "display_name": "Python 3",
   "language": "python",
   "name": "python3"
  },
  "language_info": {
   "codemirror_mode": {
    "name": "ipython",
    "version": 3
   },
   "file_extension": ".py",
   "mimetype": "text/x-python",
   "name": "python",
   "nbconvert_exporter": "python",
   "pygments_lexer": "ipython3",
   "version": "3.7.7"
  }
 },
 "nbformat": 4,
 "nbformat_minor": 4
}
