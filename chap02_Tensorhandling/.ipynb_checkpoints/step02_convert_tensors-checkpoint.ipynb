{
 "cells": [
  {
   "cell_type": "markdown",
   "metadata": {},
   "source": [
    "# python -> tensor"
   ]
  },
  {
   "cell_type": "code",
   "execution_count": 1,
   "metadata": {},
   "outputs": [
    {
     "name": "stdout",
     "output_type": "stream",
     "text": [
      "tf.Tensor([ 1.3   1.    4.   23.99], shape=(4,), dtype=float64)\n",
      "tf.Tensor(4.0, shape=(), dtype=float64)\n",
      "tf.Tensor(\n",
      "[[ 1  2  3  4]\n",
      " [ 4  5  6  7]\n",
      " [ 8  9 10 11]], shape=(3, 4), dtype=int32)\n",
      "tf.Tensor(11, shape=(), dtype=int32)\n",
      "tf.Tensor(\n",
      "[[ 5  6]\n",
      " [ 9 10]], shape=(2, 2), dtype=int32)\n"
     ]
    }
   ],
   "source": [
    "import numpy as np\n",
    "import tensorflow as tf\n",
    "\n",
    "# 1. numpy(1차) -> tensor 변환 \n",
    "np_1d = np.array([1.3,1,4.0,23.99])\n",
    "\n",
    "# 2. tensor 형식으로 변환 \n",
    "tensor_np1 = tf.convert_to_tensor(np_1d, dtype=tf.float64)\n",
    "\n",
    "print( tensor_np1 )\n",
    "print( tensor_np1[2] )\n",
    "    \n",
    "# 1. numpy(2차) -> tensor 변환\n",
    "np_2d=np.array([[1,2,3,4],[4,5,6,7],[8,9,10,11]])\n",
    "\n",
    "# 2. tensor 형식으로 변환 \n",
    "tensor_np2 = tf.convert_to_tensor(np_2d, dtype=tf.int32)\n",
    "\n",
    "print(tensor_np2)\n",
    "print(tensor_np2[2, 3]) \n",
    "print(tensor_np2[1:3, 1:3])  \n",
    "  "
   ]
  }
 ],
 "metadata": {
  "kernelspec": {
   "display_name": "Python 3",
   "language": "python",
   "name": "python3"
  },
  "language_info": {
   "codemirror_mode": {
    "name": "ipython",
    "version": 3
   },
   "file_extension": ".py",
   "mimetype": "text/x-python",
   "name": "python",
   "nbconvert_exporter": "python",
   "pygments_lexer": "ipython3",
   "version": "3.7.7"
  }
 },
 "nbformat": 4,
 "nbformat_minor": 4
}
