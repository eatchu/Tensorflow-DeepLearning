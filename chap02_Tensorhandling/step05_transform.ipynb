{
 "cells": [
  {
   "cell_type": "markdown",
   "metadata": {},
   "source": [
    "# 1. reshape\n",
    " - tensor의 모양변경"
   ]
  },
  {
   "cell_type": "code",
   "execution_count": 1,
   "metadata": {},
   "outputs": [],
   "source": [
    "import tensorflow as tf\n",
    "import numpy as np"
   ]
  },
  {
   "cell_type": "code",
   "execution_count": 7,
   "metadata": {
    "scrolled": true
   },
   "outputs": [
    {
     "name": "stdout",
     "output_type": "stream",
     "text": [
      "numpy\n",
      "a.shape = 2x3 \n",
      " [[0. 0. 0.]\n",
      " [0. 0. 0.]]\n",
      "a.shape = 1x6 \n",
      " [[0. 0. 0. 0. 0. 0.]]\n",
      "\n",
      "tensorflow\n",
      "tf.Tensor(\n",
      "[[0. 0. 0.]\n",
      " [0. 0. 0.]], shape=(2, 3), dtype=float32)\n",
      "\n",
      "\n",
      "tf.Tensor([[0. 0. 0. 0. 0. 0.]], shape=(1, 6), dtype=float32)\n",
      "\n",
      "\n",
      "tf.Tensor(\n",
      "[[0. 0.]\n",
      " [0. 0.]\n",
      " [0. 0.]], shape=(3, 2), dtype=float32)\n",
      "\n",
      "\n",
      "tf.Tensor(\n",
      "[[[0. 0. 0.]]\n",
      "\n",
      " [[0. 0. 0.]]], shape=(2, 1, 3), dtype=float32)\n"
     ]
    }
   ],
   "source": [
    "print(\"numpy\")\n",
    "a = np.zeros([2,3])\n",
    "print(\"a.shape = 2x3 \\n\",a)\n",
    "print(\"a.shape = 1x6 \\n\",a.reshape([1,6]))\n",
    "# [[0. 0. 0. 0. 0. 0.]]\n",
    "\n",
    "\n",
    "print(\"\\ntensorflow\")\n",
    "t = tf.zeros([2,3])\n",
    "print(t)\n",
    "print(\"\\n\")\n",
    "print(tf.reshape(t, [1,6])) # 2 -> 1\n",
    "print(\"\\n\")\n",
    "print(tf.reshape(t, [3,2])) # 2 -> 2\n",
    "print(\"\\n\")\n",
    "print(tf.reshape(t, [2,1,3])) # 2 -> 3\n"
   ]
  },
  {
   "cell_type": "markdown",
   "metadata": {},
   "source": [
    "# 2. squeeze\n",
    " - 1차원인 경우 제거"
   ]
  },
  {
   "cell_type": "code",
   "execution_count": 12,
   "metadata": {
    "scrolled": true
   },
   "outputs": [
    {
     "name": "stdout",
     "output_type": "stream",
     "text": [
      "2차원 [[0. 0.]]\n",
      "1차원 [0. 0.]\n",
      "\n",
      "\n",
      "3차원 [[[0.]\n",
      "  [0.]]]\n",
      "1차원 [0. 0.]\n",
      "(2,)\n",
      "\n",
      "\n",
      "4차원 [[[[0. 0. 0.]]\n",
      "\n",
      "  [[0. 0. 0.]]]]\n",
      "2차원 [[0. 0. 0.]\n",
      " [0. 0. 0.]]\n",
      "\n",
      "tensorflow\n",
      "(1, 2, 1, 3)\n",
      "tf.Tensor(\n",
      "[[0. 0. 0.]\n",
      " [0. 0. 0.]], shape=(2, 3), dtype=float32)\n",
      "(2, 3)\n"
     ]
    }
   ],
   "source": [
    "a = np.zeros( (1,2) ) # 2차:행/열\n",
    "print(\"2차원\",a)\n",
    "print(\"1차원\",np.squeeze(a)) # 1개 차원 삭제\n",
    "np.squeeze(a).shape # (2,)\n",
    "a.shape # (1,2)\n",
    "\n",
    "print(\"\\n\")\n",
    "b = np.zeros( (1,2,1) ) # 3차:면/행/열\n",
    "print(\"3차원\",b)\n",
    "print(\"1차원\",np.squeeze(b)) # 2개 차원 삭제\n",
    "print(np.squeeze(b).shape)\n",
    "\n",
    "print(\"\\n\")\n",
    "c = np.zeros( (1,2,1,3) ) # 4차원 \n",
    "print(\"4차원\",c)\n",
    "print(\"2차원\",np.squeeze(c)) # 2개 차원 삭제 \n",
    "\n",
    "\n",
    "\n",
    "print(\"\\ntensorflow\")\n",
    "t = tf.zeros( (1,2,1,3) )\n",
    "print(t.shape)\n",
    "\n",
    "print(tf.squeeze(t)) # shape=(2, 3)\n",
    "\n",
    "print(tf.squeeze(t).shape) # (2, 3)\n"
   ]
  },
  {
   "cell_type": "markdown",
   "metadata": {},
   "source": [
    "# 3. slice\n",
    " - tensor를 slice하여 새로운 tensor 생성\n",
    " \n",
    " - slice(input_, begin, size, name=None)\n",
    "   - input_ : tensor\n",
    "   - begin : sllice 위치(0 base)\n",
    "   - size : slice 크기(1 base)"
   ]
  },
  {
   "cell_type": "code",
   "execution_count": 14,
   "metadata": {},
   "outputs": [
    {
     "name": "stdout",
     "output_type": "stream",
     "text": [
      "arr1d slice\n",
      "tf.Tensor([3 4 5 6], shape=(4,), dtype=int32)\n",
      "tf.Tensor([4 5 6 7 8], shape=(5,), dtype=int32)\n",
      "tf.Tensor([ 7  8  9 10], shape=(4,), dtype=int32)\n"
     ]
    }
   ],
   "source": [
    "# 1차원 : [10] -> a = [1,2,3,4,5,6,8,9,10]\n",
    "print('arr1d slice')\n",
    "arr1d = tf.constant([1,2,3,4,5,6,7,8,9,10])\n",
    "\n",
    "print(tf.slice(arr1d, [2], [4])) # [2]위치~[4]사이즈 -> [3 4 5 6]\n",
    "print(tf.slice(arr1d, [3], [5])) # [4 5 6 7 8]\n",
    "print(tf.slice(arr1d, [6], [-1])) # [-1]나머지 전체 -> [ 7  8  9 10]"
   ]
  },
  {
   "cell_type": "code",
   "execution_count": 15,
   "metadata": {},
   "outputs": [
    {
     "name": "stdout",
     "output_type": "stream",
     "text": [
      "arr2d slice\n",
      "tf.Tensor(\n",
      "[[ 1  2  3  4  5]\n",
      " [ 6  7  8  9 10]], shape=(2, 5), dtype=int32)\n",
      "tf.Tensor(\n",
      "[[ 1  2  3  4  5]\n",
      " [ 6  7  8  9 10]], shape=(2, 5), dtype=int32)\n",
      "tf.Tensor(\n",
      "[[ 3  4  5]\n",
      " [ 8  9 10]], shape=(2, 3), dtype=int32)\n"
     ]
    }
   ],
   "source": [
    "\n",
    "# 2차원 : [2,5] -> b = [[1,2,3,4,5],[6,7,8,9,10]]\n",
    "arr2d = tf.constant([[1,2,3,4,5],[6,7,8,9,10]])\n",
    "\n",
    "print('arr2d slice')\n",
    "print(tf.slice(arr2d, [0,0], [2,5])) # [0,0]:1행1열-> [2,5] slice \n",
    "print(tf.slice(arr2d, [0,0], [-1,-1])) # [0,0]:1행1열-> [2,5] slice \n",
    "print(tf.slice(arr2d, [0,2], [2,3])) # [0,2]:1행3열 -> 2행에서 3개씩 slice \n",
    "\n"
   ]
  },
  {
   "cell_type": "code",
   "execution_count": 16,
   "metadata": {},
   "outputs": [
    {
     "name": "stdout",
     "output_type": "stream",
     "text": [
      "arr3d slice\n",
      "tf.Tensor(\n",
      "[[[1 1 1]\n",
      "  [2 2 2]]\n",
      "\n",
      " [[3 3 3]\n",
      "  [4 4 4]]\n",
      "\n",
      " [[5 5 5]\n",
      "  [6 6 6]]], shape=(3, 2, 3), dtype=int32)\n",
      "tf.Tensor([[[1]]], shape=(1, 1, 1), dtype=int32)\n",
      "tf.Tensor([[[3 3]]], shape=(1, 1, 2), dtype=int32)\n",
      "tf.Tensor([[[3 3 3]]], shape=(1, 1, 3), dtype=int32)\n"
     ]
    }
   ],
   "source": [
    "# 3차원 : [3,2,3]\n",
    "print('arr3d slice')\n",
    "arr3d = tf.constant([[[1, 1, 1], [2, 2, 2]],\n",
    "                     [[3, 3, 3], [4, 4, 4]],\n",
    "                     [[5, 5, 5], [6, 6, 6]]])\n",
    "\n",
    "print(tf.slice(arr3d, [0,0,0], [3,2,3])) # 3차원 전체 원소 슬라이스\n",
    "print(tf.slice(arr3d, [0,0,0], [1,1,1])) # [[[1]]] : 3차원 전체에서 첫번째 원소 \n",
    "print(tf.slice(arr3d, [1,0,0], [1,1,2])) # [[[3 3]]] : 2면에서 2개 원소 \n",
    "print(tf.slice(arr3d, [1,0,0], [1,1,3])) # [[[3 3 3]]] : 2면에서 3개 원소\n"
   ]
  },
  {
   "cell_type": "code",
   "execution_count": 17,
   "metadata": {
    "scrolled": true
   },
   "outputs": [
    {
     "name": "stdout",
     "output_type": "stream",
     "text": [
      "tf.Tensor(\n",
      "[[[3 3 3]\n",
      "  [4 4 4]]], shape=(1, 2, 3), dtype=int32)\n",
      "tf.Tensor([[[6 6 6]]], shape=(1, 1, 3), dtype=int32)\n"
     ]
    }
   ],
   "source": [
    "\n",
    "# 문1) 2면 전체 : [[3,3,3],[4,4,4]]\n",
    "print(tf.slice(arr3d,[1,0,0],[1,-1,-1]))\n",
    "\n",
    "# 문2) 3면 2행 전체 : [[[6,6,6]]]\n",
    "print(tf.slice(arr3d,[2,1,0], [1,1,-1]))\n"
   ]
  },
  {
   "cell_type": "markdown",
   "metadata": {},
   "source": [
    "# 4. expand\n",
    " - tensor에 축 단위로 차원을 추가하는 함수"
   ]
  },
  {
   "cell_type": "code",
   "execution_count": 18,
   "metadata": {},
   "outputs": [
    {
     "name": "stdout",
     "output_type": "stream",
     "text": [
      "tf.Tensor([1 2 3 4 5], shape=(5,), dtype=int32)\n",
      "(5,)\n",
      "tf.Tensor([1 5], shape=(2,), dtype=int32)\n",
      "tf.Tensor([[1 2 3 4 5]], shape=(1, 5), dtype=int32)\n",
      "tf.Tensor([5 1], shape=(2,), dtype=int32)\n",
      "tf.Tensor(\n",
      "[[1]\n",
      " [2]\n",
      " [3]\n",
      " [4]\n",
      " [5]], shape=(5, 1), dtype=int32)\n"
     ]
    },
    {
     "ename": "AttributeError",
     "evalue": "module 'tensorflow' has no attribute 'extend'",
     "output_type": "error",
     "traceback": [
      "\u001b[1;31m---------------------------------------------------------------------------\u001b[0m",
      "\u001b[1;31mAttributeError\u001b[0m                            Traceback (most recent call last)",
      "\u001b[1;32m<ipython-input-18-33413ed79dfd>\u001b[0m in \u001b[0;36m<module>\u001b[1;34m\u001b[0m\n\u001b[0;32m     23\u001b[0m \u001b[0mx_data\u001b[0m\u001b[1;33m.\u001b[0m\u001b[0mshape\u001b[0m \u001b[1;31m# [2]\u001b[0m\u001b[1;33m\u001b[0m\u001b[1;33m\u001b[0m\u001b[0m\n\u001b[0;32m     24\u001b[0m \u001b[1;33m\u001b[0m\u001b[0m\n\u001b[1;32m---> 25\u001b[1;33m \u001b[0mx_data_dim\u001b[0m \u001b[1;33m=\u001b[0m \u001b[0mtf\u001b[0m\u001b[1;33m.\u001b[0m\u001b[0mextend\u001b[0m\u001b[1;33m(\u001b[0m\u001b[0mx_data\u001b[0m\u001b[1;33m,\u001b[0m \u001b[0maxis\u001b[0m\u001b[1;33m=\u001b[0m\u001b[1;36m0\u001b[0m\u001b[1;33m)\u001b[0m\u001b[1;33m\u001b[0m\u001b[1;33m\u001b[0m\u001b[0m\n\u001b[0m\u001b[0;32m     26\u001b[0m \u001b[0mx_data_dim\u001b[0m\u001b[1;33m.\u001b[0m\u001b[0mshape\u001b[0m \u001b[1;31m# [1,2]\u001b[0m\u001b[1;33m\u001b[0m\u001b[1;33m\u001b[0m\u001b[0m\n\u001b[0;32m     27\u001b[0m \u001b[0mx_data_dim\u001b[0m \u001b[1;31m# [[10,20]]\u001b[0m\u001b[1;33m\u001b[0m\u001b[1;33m\u001b[0m\u001b[0m\n",
      "\u001b[1;31mAttributeError\u001b[0m: module 'tensorflow' has no attribute 'extend'"
     ]
    }
   ],
   "source": [
    "const = tf.constant([1,2,3,4,5]) # 1차원 \n",
    "\n",
    "print(const)\n",
    "print(const.shape) # (5,)\n",
    "\n",
    "d0 = tf.expand_dims(const, axis=0) # 행 축 2차원 \n",
    "print(tf.shape(d0)) # [1 5]\n",
    "print(d0) # [[1 2 3 4 5]], shape=(1, 5)\n",
    "    \n",
    "d1 = tf.expand_dims(const, axis=1) # 열 축 2차원 \n",
    "print(tf.shape(d1)) # [5 1]\n",
    "print(d1)\n",
    "'''\n",
    "[[1]\n",
    " [2]\n",
    " [3]\n",
    " [4]\n",
    " [5]], shape=(5, 1)\n",
    "'''\n",
    "    \n",
    "# 행렬곱에서 차수 불일치 문제 해결\n",
    "x_data = tf.constant([10,20])\n",
    "x_data.shape # [2]\n",
    "\n",
    "x_data_dim = tf.extend(x_data, axis=0)\n",
    "x_data_dim.shape # [1,2]\n",
    "x_data_dim # [[10,20]]\n",
    "\n",
    "y_data = tf.constant([[1,2,3],[4,5,6]])\n",
    "y_data.shape # [2,3]\n",
    "\n",
    "mat = tf.matmul(x_data_dim,y_data)\n",
    "mat # [[90,12,150]]\n",
    "\n"
   ]
  }
 ],
 "metadata": {
  "kernelspec": {
   "display_name": "Python 3",
   "language": "python",
   "name": "python3"
  },
  "language_info": {
   "codemirror_mode": {
    "name": "ipython",
    "version": 3
   },
   "file_extension": ".py",
   "mimetype": "text/x-python",
   "name": "python",
   "nbconvert_exporter": "python",
   "pygments_lexer": "ipython3",
   "version": "3.7.7"
  }
 },
 "nbformat": 4,
 "nbformat_minor": 4
}
