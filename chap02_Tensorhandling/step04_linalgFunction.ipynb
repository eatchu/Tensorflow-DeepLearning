{
 "cells": [
  {
   "cell_type": "markdown",
   "metadata": {},
   "source": [
    "# 선형대수 연산 함수\n",
    "- tf.transpose : 전치행렬   \n",
    "- tf.diag : 대각행렬 -> tf.linalg.diag(x)  \n",
    "- tf.matrix_determinant : 정방행렬의 행렬식 -> tf.linalg.det(x)\n",
    "- tf.matrix_inverse : 정방행렬의 역행렬 -> tf.linalg.inv(x)\n",
    "- tf.matmul : 두 텐서의 행렬곱 -> tf.linalg.matmul(x, y)\n"
   ]
  },
  {
   "cell_type": "code",
   "execution_count": 1,
   "metadata": {},
   "outputs": [
    {
     "name": "stdout",
     "output_type": "stream",
     "text": [
      "[[0.1286266  0.53241635]\n",
      " [0.80475214 0.60889881]]\n",
      "tf.Tensor(\n",
      "[[0.1286266  0.80475214]\n",
      " [0.53241635 0.60889881]], shape=(2, 2), dtype=float64)\n",
      "tf.Tensor(\n",
      "[[[0.1286266  0.        ]\n",
      "  [0.         0.53241635]]\n",
      "\n",
      " [[0.80475214 0.        ]\n",
      "  [0.         0.60889881]]], shape=(2, 2, 2), dtype=float64)\n",
      "tf.Tensor(-0.35014261479350606, shape=(), dtype=float64)\n",
      "tf.Tensor(\n",
      "[[-1.73900228  1.52056998]\n",
      " [ 2.29835533 -0.36735489]], shape=(2, 2), dtype=float64)\n",
      "tf.Tensor(\n",
      "[[0.2431796  0.47456609]\n",
      " [0.33374677 0.70509011]], shape=(2, 2), dtype=float64)\n",
      "tf.Tensor(\n",
      "[[1. 0. 0.]\n",
      " [0. 1. 0.]\n",
      " [0. 0. 1.]], shape=(3, 3), dtype=float32)\n",
      "[[1. 0. 0.]\n",
      " [0. 1. 0.]\n",
      " [0. 0. 1.]]\n"
     ]
    }
   ],
   "source": [
    "import tensorflow as tf\n",
    "import numpy as np\n",
    "\n",
    "# 정방행렬 데이터 생성 \n",
    "x = np.random.rand(2, 2) # 지정한 shape에 따라서  0~1 난수 \n",
    "y = np.random.rand(2, 2) # 지정한 shape에 따라서  0~1 난수 \n",
    "\n",
    "tran = tf.transpose(x) # 전치행렬\n",
    "dia = tf.linalg.diag(x) # 대각행렬 \n",
    "mat_deter = tf.linalg.det(x) # 정방행렬의 행렬식  \n",
    "mat_inver = tf.linalg.inv(x) # 정방행렬의 역행렬\n",
    "mat = tf.linalg.matmul(x, y) # 행렬곱 반환 \n",
    "eye = tf.linalg.eye(3) # 단위행렬\n",
    "\n",
    "\n",
    "print(x)\n",
    "print(tran)  \n",
    "print(dia) \n",
    "print(mat_deter)\n",
    "print(mat_inver)\n",
    "print(mat)\n",
    "print(eye)\n",
    "\n",
    "\n",
    "\n",
    "# 단위행렬 -> one-hot encoding\n",
    "a = [0,1,2]\n",
    "encoding = np.eye(len(a))[a]\n",
    "print(encoding)\n",
    "\n"
   ]
  }
 ],
 "metadata": {
  "kernelspec": {
   "display_name": "Python 3",
   "language": "python",
   "name": "python3"
  },
  "language_info": {
   "codemirror_mode": {
    "name": "ipython",
    "version": 3
   },
   "file_extension": ".py",
   "mimetype": "text/x-python",
   "name": "python",
   "nbconvert_exporter": "python",
   "pygments_lexer": "ipython3",
   "version": "3.7.7"
  }
 },
 "nbformat": 4,
 "nbformat_minor": 4
}
