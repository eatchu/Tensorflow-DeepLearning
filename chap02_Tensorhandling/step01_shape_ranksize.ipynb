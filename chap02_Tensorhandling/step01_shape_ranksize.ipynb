{
 "cells": [
  {
   "cell_type": "markdown",
   "metadata": {},
   "source": [
    "# Tensor의 rank와 shape의 이해\n",
    " 1. tensor shape\n",
    " 2. tensor rank\n",
    " 3. tensor size\n",
    " 4. tensor reshape "
   ]
  },
  {
   "cell_type": "code",
   "execution_count": 1,
   "metadata": {},
   "outputs": [
    {
     "name": "stdout",
     "output_type": "stream",
     "text": [
      "2.0.0\n"
     ]
    }
   ],
   "source": [
    "import tensorflow as tf\n",
    "print(tf.__version__) # 2.0.0"
   ]
  },
  {
   "cell_type": "code",
   "execution_count": 2,
   "metadata": {},
   "outputs": [],
   "source": [
    "scalar = tf.constant(1234) \n",
    "vector = tf.constant([1,2,3,4,5])\n",
    "matrix = tf.constant([ [1,2,3], [4,5,6] ])\n",
    "cube = tf.constant([[ [1,2,3], [4,5,6], [7,8,9] ]])\n"
   ]
  },
  {
   "cell_type": "code",
   "execution_count": 3,
   "metadata": {
    "scrolled": true
   },
   "outputs": [
    {
     "name": "stdout",
     "output_type": "stream",
     "text": [
      "()\n",
      "(5,)\n",
      "(2, 3)\n",
      "(1, 3, 3)\n",
      "tf.Tensor(1234, shape=(), dtype=int32)\n",
      "tf.Tensor([1 2 3 4 5], shape=(5,), dtype=int32)\n",
      "tf.Tensor(\n",
      "[[1 2 3]\n",
      " [4 5 6]], shape=(2, 3), dtype=int32)\n",
      "tf.Tensor(\n",
      "[[[1 2 3]\n",
      "  [4 5 6]\n",
      "  [7 8 9]]], shape=(1, 3, 3), dtype=int32)\n"
     ]
    }
   ],
   "source": [
    "\n",
    "# 1. tensor shape \n",
    "print(scalar.get_shape()) # ()\n",
    "print(vector.get_shape()) # (5,)\n",
    "print(matrix.get_shape()) # (2,3)\n",
    "print(cube.get_shape()) # (1,3,3)\n",
    "\n",
    "print(scalar)\n",
    "print(vector)\n",
    "print(matrix)\n",
    "print(cube)\n",
    "  "
   ]
  },
  {
   "cell_type": "code",
   "execution_count": 4,
   "metadata": {},
   "outputs": [
    {
     "name": "stdout",
     "output_type": "stream",
     "text": [
      "\n",
      "tensor rank\n",
      "tf.Tensor(0, shape=(), dtype=int32)\n",
      "tf.Tensor(1, shape=(), dtype=int32)\n",
      "tf.Tensor(2, shape=(), dtype=int32)\n",
      "tf.Tensor(3, shape=(), dtype=int32)\n"
     ]
    }
   ],
   "source": [
    "# 2. tensor rank : 차원\n",
    "print('\\ntensor rank')\n",
    "print(tf.rank(scalar)) # 0차원\n",
    "print(tf.rank(vector)) # 1차원\n",
    "print(tf.rank(matrix)) # 2차원\n",
    "print(tf.rank(cube)) # 3차원\n"
   ]
  },
  {
   "cell_type": "code",
   "execution_count": 5,
   "metadata": {},
   "outputs": [
    {
     "name": "stdout",
     "output_type": "stream",
     "text": [
      "\n",
      "tensor size\n",
      "tf.Tensor(1, shape=(), dtype=int32)\n",
      "tf.Tensor(5, shape=(), dtype=int32)\n",
      "tf.Tensor(6, shape=(), dtype=int32)\n",
      "tf.Tensor(9, shape=(), dtype=int32)\n"
     ]
    }
   ],
   "source": [
    "# 3. tensor size : 갯수\n",
    "print('\\ntensor size')\n",
    "print(tf.size(scalar)) # 1\n",
    "print(tf.size(vector)) # 5\n",
    "print(tf.size(matrix)) # 6\n",
    "print(tf.size(cube)) # 9"
   ]
  },
  {
   "cell_type": "code",
   "execution_count": 6,
   "metadata": {},
   "outputs": [
    {
     "name": "stdout",
     "output_type": "stream",
     "text": [
      "tf.Tensor(\n",
      "[[1 2 3]\n",
      " [4 5 6]\n",
      " [7 8 9]], shape=(3, 3), dtype=int32)\n",
      "tf.Tensor(2, shape=(), dtype=int32)\n"
     ]
    }
   ],
   "source": [
    "\n",
    "\n",
    "# 4. tensor reshape \n",
    "# print('\\ntensor reshape')\n",
    "cube_2d = tf.reshape(cube, (3, 3)) # 모양 변경 : 3d -> 2d \n",
    "print(cube_2d) # shape(3,3)\n",
    "print(tf.rank(cube_2d)) # 2차원\n"
   ]
  }
 ],
 "metadata": {
  "kernelspec": {
   "display_name": "Python 3",
   "language": "python",
   "name": "python3"
  },
  "language_info": {
   "codemirror_mode": {
    "name": "ipython",
    "version": 3
   },
   "file_extension": ".py",
   "mimetype": "text/x-python",
   "name": "python",
   "nbconvert_exporter": "python",
   "pygments_lexer": "ipython3",
   "version": "3.7.7"
  }
 },
 "nbformat": 4,
 "nbformat_minor": 4
}
