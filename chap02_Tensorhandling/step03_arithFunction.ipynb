{
 "cells": [
  {
   "cell_type": "markdown",
   "metadata": {},
   "source": [
    "# 주요 수학 관련 함수\n",
    "- tf.add() -> tf.math.add() 변경 \n",
    "- tf.subtract() -> tf.math.subtract() 변경 \n",
    "- tf.multiply() -> tf.math.multiply() 변경 \n",
    "- tf.div() -> tf.math.divide() 변경 \n",
    "- tf.mod() : 나머지 -> tf.math.mod() 변경 \n",
    "- tf.abs() : 절대값 -> tf.math.abs() 변경 \n",
    "- tf.square() : 제곱  -> tf.math.square() 변경\n",
    "- tf.sqrt() : 제곱근  -> tf.math.sqrt() 변경\n",
    "- tf.round() : 반올림  -> tf.math.round() 변경\n",
    "- tf.pow() : 거듭제곱 -> tf.math.pow() 변경\n",
    "- tf.exp() : 지수값 -> tf.math.exp() 변경\n",
    "- tf.log() : 로그값 -> tf.math.log() 변경"
   ]
  },
  {
   "cell_type": "code",
   "execution_count": 1,
   "metadata": {},
   "outputs": [
    {
     "name": "stdout",
     "output_type": "stream",
     "text": [
      "tf.Tensor([ 6  8  4 12], shape=(4,), dtype=int32)\n",
      "tf.Tensor([ -4  -4 -10  -4], shape=(4,), dtype=int32)\n",
      "tf.Tensor([  5  12 -21  32], shape=(4,), dtype=int32)\n",
      "tf.Tensor([ 0.2         0.33333333 -0.42857143  0.5       ], shape=(4,), dtype=float64)\n",
      "tf.Tensor([1 2 4 4], shape=(4,), dtype=int32)\n",
      "tf.neg= tf.Tensor([-1 -2  3 -4], shape=(4,), dtype=int32)\n",
      "tf.sign= tf.Tensor([ 1  1 -1  1], shape=(4,), dtype=int32)\n",
      "tf.Tensor([1 2 3 4], shape=(4,), dtype=int32)\n",
      "tf.Tensor([ 1  4  9 16], shape=(4,), dtype=int32)\n",
      "tf.Tensor([2.        3.        2.4494898], shape=(3,), dtype=float32)\n",
      "tf.Tensor(2.7182817, shape=(), dtype=float32)\n",
      "tf.Tensor(7.389056, shape=(), dtype=float32)\n",
      "tf.Tensor(2.0794415, shape=(), dtype=float32)\n"
     ]
    }
   ],
   "source": [
    "import tensorflow as tf\n",
    "\n",
    "x = tf.constant([1,2,-3,4])\n",
    "y = tf.constant([5,6,7,8])\n",
    "\n",
    "\n",
    "# 덧셈/뺄샘/나눗셈/곱셈\n",
    "print(tf.math.add(x, y, name='adder'))\n",
    "print(tf.math.subtract(x, y, name='sub'))\n",
    "print(tf.math.multiply(x, y, name='mul'))\n",
    "print(tf.math.divide(x, y, name='divide'))\n",
    "print(tf.math.mod(x, y, name='mod')) # [1 2 4 4]\n",
    "\n",
    "\n",
    "# 음수, 부호 반환 \n",
    "print('tf.neg=', tf.math.negative(x)) # 양수 -> 음수, 음수 -> 양수\n",
    "print('tf.sign=', tf.math.sign(x)) # 부호 반환\n",
    "\n",
    "# 제곱/제곱근\n",
    "print(tf.math.abs(x)) # [1 2 3 4]\n",
    "print(tf.math.square(x))\n",
    "print(tf.math.sqrt([4.0, 9.0, 6.0]))\n",
    "\n",
    "# 지수와 로그 \n",
    "print(tf.math.exp(1.0)) # e = 2.7182817\n",
    "print(tf.math.exp(2.0)) # tf.exp()\n",
    "print(tf.math.log(8.0)) # tf.log()\n"
   ]
  }
 ],
 "metadata": {
  "kernelspec": {
   "display_name": "Python 3",
   "language": "python",
   "name": "python3"
  },
  "language_info": {
   "codemirror_mode": {
    "name": "ipython",
    "version": 3
   },
   "file_extension": ".py",
   "mimetype": "text/x-python",
   "name": "python",
   "nbconvert_exporter": "python",
   "pygments_lexer": "ipython3",
   "version": "3.7.7"
  }
 },
 "nbformat": 4,
 "nbformat_minor": 4
}
