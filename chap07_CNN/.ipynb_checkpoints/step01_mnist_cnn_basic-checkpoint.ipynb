{
 "cells": [
  {
   "cell_type": "markdown",
   "metadata": {},
   "source": [
    "# MNIST + CNN basic\n",
    " - Convolution layer : 특징맵(feature mat)\n",
    " - Pooling layer : 픽셀 축소(down sampling), 특징 강조 "
   ]
  },
  {
   "cell_type": "code",
   "execution_count": 1,
   "metadata": {},
   "outputs": [
    {
     "name": "stdout",
     "output_type": "stream",
     "text": [
      "WARNING:tensorflow:From C:\\Users\\user\\anaconda3\\lib\\site-packages\\tensorflow_core\\python\\compat\\v2_compat.py:65: disable_resource_variables (from tensorflow.python.ops.variable_scope) is deprecated and will be removed in a future version.\n",
      "Instructions for updating:\n",
      "non-resource variables are not supported in the long term\n"
     ]
    }
   ],
   "source": [
    "import tensorflow.compat.v1 as tf # ver1.x\n",
    "tf.disable_v2_behavior() # ver2.0 사용안함\n",
    "\n",
    "from tensorflow.keras.datasets.mnist import load_data # dataset load\n",
    "import numpy as np\n",
    "import matplotlib.pyplot as plt"
   ]
  },
  {
   "cell_type": "code",
   "execution_count": 3,
   "metadata": {},
   "outputs": [
    {
     "name": "stdout",
     "output_type": "stream",
     "text": [
      "(60000, 28, 28)\n",
      "(60000,)\n",
      "(10000, 28, 28)\n",
      "(10000,)\n"
     ]
    },
    {
     "data": {
      "image/png": "[encoded data removed]",
      "text/plain": [
       "<Figure size 432x288 with 1 Axes>"
      ]
     },
     "metadata": {
      "needs_background": "light"
     },
     "output_type": "display_data"
    }
   ],
   "source": [
    "\n",
    "# 1. image read \n",
    "(x_train, y_train), (x_test, y_test) = load_data()\n",
    "print(x_train.shape) # (60000, 28, 28)\n",
    "print(y_train.shape) # (60000,) : 10진수 \n",
    "print(x_test.shape) # (10000, 28, 28)\n",
    "print(y_test.shape) # (10000,) : 10진수 \n",
    "\n",
    "\n",
    "\n",
    "# 2. 실수형 변환 : int -> float32\n",
    "x_train = x_train.astype('float32') \n",
    "x_test = x_test.astype('float32')\n",
    "\n",
    "# 3. 정규화 \n",
    "x_train = x_train / 255 # x_train = x_train / 255\n",
    "x_test = x_test / 255\n",
    "\n",
    "\n",
    "# first image \n",
    "img = x_train[0]\n",
    "plt.imshow(img, cmap='gray') # cmap='gray' : xray func\n",
    "\n",
    "# input image reshape  \n",
    "img.shape # (28,28)\n",
    "firstImg = img.reshape(1,28,28,1) # 합성곱을 위해 reshape : (size, h, w, color)\n",
    "\n",
    "# Filter 변수 정의 : 사용자 지정\n",
    "Filter = tf.Variable(tf.random_normal([3,3,1,5])) # 난수 (row, col, color, fmap)\n",
    "\n"
   ]
  },
  {
   "cell_type": "code",
   "execution_count": 4,
   "metadata": {},
   "outputs": [
    {
     "name": "stdout",
     "output_type": "stream",
     "text": [
      "Tensor(\"Conv2D:0\", shape=(1, 28, 28, 5), dtype=float32)\n",
      "Tensor(\"MaxPool:0\", shape=(1, 14, 14, 5), dtype=float32)\n",
      "(5, 28, 28, 1)\n"
     ]
    },
    {
     "data": {
      "image/png": "[encoded data removed]",
      "text/plain": [
       "<Figure size 432x288 with 5 Axes>"
      ]
     },
     "metadata": {
      "needs_background": "light"
     },
     "output_type": "display_data"
    },
    {
     "data": {
      "image/png": "[encoded data removed]",
      "text/plain": [
       "<Figure size 432x288 with 5 Axes>"
      ]
     },
     "metadata": {
      "needs_background": "light"
     },
     "output_type": "display_data"
    }
   ],
   "source": [
    "\n",
    "# 1. Convolution layer : 특징 추출\n",
    "conv2d = tf.nn.conv2d(firstImg, Filter, strides=[1,1,1,1], padding='SAME')\n",
    "print(conv2d) # shape=(1, 28, 28, 5)\n",
    "\n",
    "# 2. Pool layer : down samplint\n",
    "pool = tf.nn.max_pool(conv2d, ksize=[1,2,2,1],strides=[1,2,2,1],\n",
    "            padding = 'SAME')\n",
    "print(pool) # shape=(1, 14, 14, 5)\n",
    "\n",
    "\n",
    "with tf.Session() as sess :\n",
    "    sess.run(tf.global_variables_initializer()) # filter 초기화 \n",
    "    \n",
    "    # 합성곱 연산 \n",
    "    conv2d_img = sess.run(conv2d)    \n",
    "    conv2d_img = np.swapaxes(conv2d_img, 0, 3) # 축 교환 \n",
    "    print(conv2d_img.shape) # (5, 14, 14, 1)\n",
    "    \n",
    "    for i, img in enumerate(conv2d_img) :\n",
    "        plt.subplot(1, 5, i+1) # 1행5열,1~5 \n",
    "        plt.imshow(img.reshape(28,28), cmap='gray') # \n",
    "    plt.show()\n",
    "    \n",
    "    # 폴링 연산 \n",
    "    pool_img = sess.run(pool)\n",
    "    pool_img = np.swapaxes(pool_img, 0, 3)\n",
    "    \n",
    "    for i, img in enumerate(pool_img) :\n",
    "        plt.subplot(1,5, i+1) # 1행5열,1~5 \n",
    "        plt.imshow(img.reshape(14,14), cmap='gray') \n",
    "    plt.show()\n",
    "    "
   ]
  }
 ],
 "metadata": {
  "kernelspec": {
   "display_name": "Python 3",
   "language": "python",
   "name": "python3"
  },
  "language_info": {
   "codemirror_mode": {
    "name": "ipython",
    "version": 3
   },
   "file_extension": ".py",
   "mimetype": "text/x-python",
   "name": "python",
   "nbconvert_exporter": "python",
   "pygments_lexer": "ipython3",
   "version": "3.7.7"
  }
 },
 "nbformat": 4,
 "nbformat_minor": 4
}
