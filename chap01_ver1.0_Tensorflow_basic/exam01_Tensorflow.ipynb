{
 "cells": [
  {
   "cell_type": "markdown",
   "metadata": {},
   "source": [
    "\n",
    "# 문제) \n",
    "두 상수를 정의하고, 사칙연산(+,-,*,/)을 정의하여 결과를 출력하시오.\n",
    "  - 조건1> 두 상수 이름 : a, b\n",
    "  - 조건2> 변수 이름 : adder,subtract,multiply,divide\n",
    "  - 조건3> 출력 : 출력결과 예시 참고\n"
   ]
  },
  {
   "cell_type": "code",
   "execution_count": 1,
   "metadata": {},
   "outputs": [
    {
     "name": "stdout",
     "output_type": "stream",
     "text": [
      "WARNING:tensorflow:From C:\\Users\\user\\anaconda3\\lib\\site-packages\\tensorflow_core\\python\\compat\\v2_compat.py:65: disable_resource_variables (from tensorflow.python.ops.variable_scope) is deprecated and will be removed in a future version.\n",
      "Instructions for updating:\n",
      "non-resource variables are not supported in the long term\n"
     ]
    }
   ],
   "source": [
    "\n",
    "import tensorflow.compat.v1 as tf # ver1.x\n",
    "tf.disable_v2_behavior() # ver2.0 사용안함 "
   ]
  },
  {
   "cell_type": "code",
   "execution_count": 2,
   "metadata": {},
   "outputs": [],
   "source": [
    "# 프로그램 정의 영역\n",
    "\n",
    "a = tf.constant(100)\n",
    "b = tf.constant(20)\n",
    "\n",
    "adder = tf.Variable(a+b)\n",
    "subtract = tf.Variable(a-b)\n",
    "multiply = tf.Variable(a*b)\n",
    "divide = tf.Variable(a/b)\n"
   ]
  },
  {
   "cell_type": "code",
   "execution_count": 8,
   "metadata": {},
   "outputs": [
    {
     "name": "stdout",
     "output_type": "stream",
     "text": [
      "[100, 20]\n",
      "====================\n",
      "덧셈 = 120 \n",
      " 뺄셈 = 80 \n",
      " 곱셈 = 2000 \n",
      " 나눗셈 = 5.000000\n"
     ]
    }
   ],
   "source": [
    "# 프로그램 실행 영역\n",
    "with tf.Session() as sess:\n",
    "    print(sess.run([a,b]))\n",
    "    print(\"=\"*20)\n",
    "    sess.run(tf.global_variables_initializer())\n",
    "    print(\"덧셈 = %d \\n 뺄셈 = %d \\n 곱셈 = %d \\n 나눗셈 = %f\"\n",
    "          %(sess.run(adder),sess.run(subtract),sess.run(multiply),sess.run(divide)))\n",
    "        "
   ]
  }
 ],
 "metadata": {
  "kernelspec": {
   "display_name": "Python 3",
   "language": "python",
   "name": "python3"
  },
  "language_info": {
   "codemirror_mode": {
    "name": "ipython",
    "version": 3
   },
   "file_extension": ".py",
   "mimetype": "text/x-python",
   "name": "python",
   "nbconvert_exporter": "python",
   "pygments_lexer": "ipython3",
   "version": "3.7.7"
  }
 },
 "nbformat": 4,
 "nbformat_minor": 4
}
