{
 "cells": [
  {
   "cell_type": "markdown",
   "metadata": {},
   "source": [
    "난수 상수 생성 함수 : 정규분포난수, 균등분포난수\n",
    " - tf.Variable(난수,상수) -> 변수 값 수정"
   ]
  },
  {
   "cell_type": "code",
   "execution_count": 1,
   "metadata": {},
   "outputs": [
    {
     "name": "stdout",
     "output_type": "stream",
     "text": [
      "WARNING:tensorflow:From C:\\Users\\user\\anaconda3\\lib\\site-packages\\tensorflow_core\\python\\compat\\v2_compat.py:65: disable_resource_variables (from tensorflow.python.ops.variable_scope) is deprecated and will be removed in a future version.\n",
      "Instructions for updating:\n",
      "non-resource variables are not supported in the long term\n"
     ]
    }
   ],
   "source": [
    "\n",
    "import tensorflow.compat.v1 as tf\n",
    "tf.disable_v2_behavior()\n"
   ]
  },
  {
   "cell_type": "code",
   "execution_count": 2,
   "metadata": {},
   "outputs": [
    {
     "name": "stdout",
     "output_type": "stream",
     "text": [
      "var= <tf.Variable 'Variable:0' shape=() dtype=float32_ref>\n",
      "var1d= <tf.Variable 'Variable_1:0' shape=(3,) dtype=float32_ref>\n",
      "var2d= <tf.Variable 'Variable_2:0' shape=(3, 2) dtype=float32_ref>\n",
      "var3d= <tf.Variable 'Variable_3:0' shape=(3, 2, 4) dtype=float32_ref>\n"
     ]
    }
   ],
   "source": [
    "\n",
    "# 난수\n",
    "num = tf.constant(10.0)\n",
    "\n",
    "# 0차원(scala) 변수\n",
    "var = tf.Variable(num+20.0) # 상수 + 상수 = scala\n",
    "print(\"var=\",var) # shape=()\n",
    "\n",
    "# tf.random_normal \n",
    "# 1차원 변수\n",
    "var1d = tf.Variable(tf.random_normal([3]))\n",
    "print(\"var1d=\",var1d) # shape=(3,) -> 3개\n",
    "\n",
    "# tf.random_uniform : 0-1 사이의 random한 값\n",
    "# 2차원 변수\n",
    "var2d = tf.Variable(tf.random_uniform([3,2]))\n",
    "print(\"var2d=\",var2d) # shape=(3, 2) -> 6개\n",
    "\n",
    "# 3차원 변수\n",
    "var3d = tf.Variable(tf.random_normal([3,2,4])) # (면, 행, 열)\n",
    "print(\"var3d=\",var3d) # shape=(3, 2, 4)\n",
    "\n"
   ]
  },
  {
   "cell_type": "code",
   "execution_count": 3,
   "metadata": {},
   "outputs": [
    {
     "name": "stdout",
     "output_type": "stream",
     "text": [
      "var= 30.0\n",
      "var1d= [-0.23577464  1.2418805  -2.7572126 ]\n",
      "var2d= [[0.11111665 0.8793129 ]\n",
      " [0.25305104 0.99877036]\n",
      " [0.54748285 0.11216998]]\n",
      "var3d= [[[ 2.1593277  -1.039132    1.1667567  -0.35626736]\n",
      "  [ 2.1310298   0.4663425  -1.4239552   0.25801295]]\n",
      "\n",
      " [[-0.33624193 -1.1410277  -0.4356664   0.28739378]\n",
      "  [-0.6554656  -0.6428119   1.6367291  -1.1068252 ]]\n",
      "\n",
      " [[ 0.63528126 -0.8161369   1.0678734   0.7525923 ]\n",
      "  [ 0.5714586   0.1277468   0.44402865  0.03549178]]]\n",
      "var1d_add= [-0.13577464  1.4418806  -2.4572127 ]\n",
      "수정된 var1d= [0.1 0.2 0.3]\n",
      "3.3621154\n",
      "0.4826713\n"
     ]
    }
   ],
   "source": [
    "init = tf.global_variables_initializer()\n",
    "\n",
    "with tf.Session() as sess:\n",
    "    sess.run(init) # 변수 초기화(초기값 할당) : var, var1d, var2d\n",
    "    \n",
    "    print(\"var=\",sess.run(var))\n",
    "    print(\"var1d=\",sess.run(var1d))\n",
    "    print(\"var2d=\",sess.run(var2d))\n",
    "    print(\"var3d=\",sess.run(var3d))\n",
    "    \n",
    "    # 변수의 값 수정\n",
    "    var1d_data = [0.1,0.2,0.3]\n",
    "    print(\"var1d_add=\",sess.run(var1d.assign_add(var1d_data)))\n",
    "    print(\"수정된 var1d=\",sess.run(var1d.assign(var1d_data)))\n",
    "    \n",
    "    var3d_re = sess.run(var3d)\n",
    "    var3d_re[0] # 첫번째 면\n",
    "    var3d_re[0,0] # 첫번째 면의 첫번째 행\n",
    "    print(var3d_re[0].sum()) # -4.362883\n",
    "    print(var3d_re[0,0].mean()) # -1.2393973\n"
   ]
  }
 ],
 "metadata": {
  "kernelspec": {
   "display_name": "Python 3",
   "language": "python",
   "name": "python3"
  },
  "language_info": {
   "codemirror_mode": {
    "name": "ipython",
    "version": 3
   },
   "file_extension": ".py",
   "mimetype": "text/x-python",
   "name": "python",
   "nbconvert_exporter": "python",
   "pygments_lexer": "ipython3",
   "version": "3.7.7"
  }
 },
 "nbformat": 4,
 "nbformat_minor": 4
}
