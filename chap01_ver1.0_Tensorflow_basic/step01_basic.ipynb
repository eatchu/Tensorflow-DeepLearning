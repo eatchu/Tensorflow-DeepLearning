{
 "cells": [
  {
   "cell_type": "markdown",
   "metadata": {},
   "source": [
    "# python code vs tensorflow code"
   ]
  },
  {
   "cell_type": "code",
   "execution_count": 1,
   "metadata": {},
   "outputs": [
    {
     "name": "stdout",
     "output_type": "stream",
     "text": [
      "z= 30\n"
     ]
    }
   ],
   "source": [
    "# python :  직접 실행 환경\n",
    "x = 10\n",
    "y = 20\n",
    "z = x+y\n",
    "print(\"z=\",z) "
   ]
  },
  {
   "cell_type": "code",
   "execution_count": 2,
   "metadata": {
    "scrolled": true
   },
   "outputs": [
    {
     "name": "stdout",
     "output_type": "stream",
     "text": [
      "WARNING:tensorflow:From C:\\Users\\user\\anaconda3\\lib\\site-packages\\tensorflow_core\\python\\compat\\v2_compat.py:65: disable_resource_variables (from tensorflow.python.ops.variable_scope) is deprecated and will be removed in a future version.\n",
      "Instructions for updating:\n",
      "non-resource variables are not supported in the long term\n",
      "2.0.0\n"
     ]
    }
   ],
   "source": [
    "# import tensorflow as tf ver 2.0\n",
    "import tensorflow.compat.v1 as tf # ver2.x -> ver1.x\n",
    "tf.disable_v2_behavior() # ver2.x사용\n",
    "\n",
    "print(tf.__version__)"
   ]
  },
  {
   "cell_type": "code",
   "execution_count": 4,
   "metadata": {},
   "outputs": [
    {
     "name": "stdout",
     "output_type": "stream",
     "text": [
      "Tensor(\"Const_2:0\", shape=(), dtype=int32) Tensor(\"Const_3:0\", shape=(), dtype=int32)\n"
     ]
    }
   ],
   "source": [
    "''' 프로그램 정의 영역 '''\n",
    "x = tf.constant(10) # 상수 정의 : 아직 실제 상수는 아님\n",
    "y = tf.constant(20) # 상수 정의\n",
    "print(x,y) # 변수의 정보 출력\n"
   ]
  },
  {
   "cell_type": "code",
   "execution_count": 5,
   "metadata": {},
   "outputs": [
    {
     "name": "stdout",
     "output_type": "stream",
     "text": [
      "z= Tensor(\"add:0\", shape=(), dtype=int32)\n"
     ]
    }
   ],
   "source": [
    "# 식 정의\n",
    "z = x + y\n",
    "print(\"z=\",z)"
   ]
  },
  {
   "cell_type": "code",
   "execution_count": 7,
   "metadata": {},
   "outputs": [],
   "source": [
    "# session object 생성\n",
    "sess = tf.Session() # 상수,변수,식 -> device 할당\n"
   ]
  },
  {
   "cell_type": "code",
   "execution_count": 8,
   "metadata": {},
   "outputs": [
    {
     "name": "stdout",
     "output_type": "stream",
     "text": [
      "x= 10\n",
      "y= 20\n",
      "z= 30\n"
     ]
    }
   ],
   "source": [
    "''' 프로그램 실행 영역'''\n",
    "# sessoin_obj.run(변수) : 변수를 device에 할당\n",
    "print(\"x=\",sess.run(x)) # x= 10\n",
    "print(\"y=\",sess.run(y)) # y= 20\n",
    "print(\"z=\",sess.run(z)) # z= 30 -> (x+y)"
   ]
  },
  {
   "cell_type": "code",
   "execution_count": 9,
   "metadata": {},
   "outputs": [
    {
     "name": "stdout",
     "output_type": "stream",
     "text": [
      "10 20\n"
     ]
    }
   ],
   "source": [
    "# sess.run((x,y)) # (10, 20) -> type=tuple\n",
    "xx,yy = sess.run([x,y]) # [10, 20]\n",
    "print(xx,yy) # 10 20\n",
    "\n",
    "type(x) # tensorflow.python.framework.ops.Tensor\n",
    "type(xx) # numpy.int32\n",
    "\n",
    "sess.close()\n"
   ]
  }
 ],
 "metadata": {
  "kernelspec": {
   "display_name": "Python 3",
   "language": "python",
   "name": "python3"
  },
  "language_info": {
   "codemirror_mode": {
    "name": "ipython",
    "version": 3
   },
   "file_extension": ".py",
   "mimetype": "text/x-python",
   "name": "python",
   "nbconvert_exporter": "python",
   "pygments_lexer": "ipython3",
   "version": "3.7.7"
  }
 },
 "nbformat": 4,
 "nbformat_minor": 4
}
