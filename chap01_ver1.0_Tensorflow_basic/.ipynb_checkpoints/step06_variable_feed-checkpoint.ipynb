{
 "cells": [
  {
   "cell_type": "markdown",
   "metadata": {},
   "source": [
    "# 초기값이 없는 변수 : Feed 방식\n",
    " - 변수 = tf.placeholder(dtype, shape) : \n",
    "          들어오는 값에 따라 shape 자동 결정   \n",
    " - dtype : 자료형 (float32, int32, string)\n",
    " - shape : 자료구조([n] : 1차원, [r,c] : 2차원, 생략 : 공급data 결정)"
   ]
  },
  {
   "cell_type": "code",
   "execution_count": 1,
   "metadata": {},
   "outputs": [
    {
     "name": "stdout",
     "output_type": "stream",
     "text": [
      "WARNING:tensorflow:From C:\\Users\\user\\anaconda3\\lib\\site-packages\\tensorflow_core\\python\\compat\\v2_compat.py:65: disable_resource_variables (from tensorflow.python.ops.variable_scope) is deprecated and will be removed in a future version.\n",
      "Instructions for updating:\n",
      "non-resource variables are not supported in the long term\n"
     ]
    }
   ],
   "source": [
    "\n",
    "import tensorflow.compat.v1 as tf\n",
    "tf.disable_v2_behavior()\n",
    "\n",
    "\n",
    "# 변수 정의\n",
    "a = tf.placeholder(dtype=tf.float32) # shape 생략 : 가변형\n",
    "b = tf.placeholder(dtype=tf.float32) # shape 생략 : 가변형\n",
    "\n",
    "c = tf.placeholder(dtype = tf.float32, shape=[5]) # 고정형 : 1d\n",
    "d = tf.placeholder(dtype = tf.float32, shape=[None, 3]) # 고정형 : 2d [가변행, 열]\n",
    "\n",
    "c_data = tf.random_uniform([5])\n",
    "\n",
    "# 식 정의\n",
    "mul = tf.multiply(a,b)\n",
    "add = tf.add(mul,10)\n",
    "c_calc = c * 0.5 # vector * scala"
   ]
  },
  {
   "cell_type": "code",
   "execution_count": 2,
   "metadata": {},
   "outputs": [
    {
     "name": "stdout",
     "output_type": "stream",
     "text": [
      "mul= 6.25\n",
      "mul2= [0.5 0.6 1.4]\n",
      "add_re= [10.5 10.6 11.4]\n",
      "[0.57793725 0.00528741 0.8762995  0.73113465 0.25871754]\n",
      "c_calc= [0.28896862 0.0026437  0.43814975 0.36556733 0.12935877]\n"
     ]
    }
   ],
   "source": [
    "with tf.Session() as sess:\n",
    "    # 변수 초기화 생략\n",
    "    \n",
    "    # 식 실행\n",
    "    mul_re = sess.run(mul, feed_dict={a:2.5, b:2.5}) # data feed\n",
    "    print(\"mul=\", mul_re) # 6.25\n",
    "    \n",
    "    # 공급 data\n",
    "    a_data = [1.0,2.0,3.5]\n",
    "    b_data = [0.5,0.3,0.4]\n",
    "    feed_data = {a:a_data, b:b_data}    \n",
    "    \n",
    "    mul_re2 = sess.run(mul, feed_dict=feed_data)\n",
    "    print(\"mul2=\", mul_re2) # [0.5 0.6 1.4]\n",
    "    \n",
    "    # 식 실행 : 식 참조\n",
    "    add_re = sess.run(add,feed_dict={a:a_data, b:b_data}) # mul(a*b) + 10\n",
    "    print(\"add_re=\",add_re) # [10.5 10.6 11.4]\n",
    "    \n",
    "    c_data_re = sess.run(c_data) # 상수 생성\n",
    "    print(c_data_re)\n",
    "    print(\"c_calc=\", sess.run(c_calc, feed_dict={c:c_data_re}))\n",
    "    # [0.10019243 0.13678747 0.02176142 0.37680453 0.18358904]\n"
   ]
  },
  {
   "cell_type": "markdown",
   "metadata": {},
   "source": [
    "# variable Feed csv\n",
    " - csv(pandas object) -> tensorflow"
   ]
  },
  {
   "cell_type": "code",
   "execution_count": 3,
   "metadata": {},
   "outputs": [],
   "source": [
    "import tensorflow.compat.v1 as tf\n",
    "tf.disable_v2_behavior()\n",
    "\n",
    "import pandas as pd # csv file load\n",
    "from sklearn.model_selection import train_test_split # data split\n",
    "\n"
   ]
  },
  {
   "cell_type": "code",
   "execution_count": 4,
   "metadata": {},
   "outputs": [
    {
     "name": "stdout",
     "output_type": "stream",
     "text": [
      "<class 'pandas.core.frame.DataFrame'>\n",
      "RangeIndex: 150 entries, 0 to 149\n",
      "Data columns (total 5 columns):\n",
      " #   Column        Non-Null Count  Dtype  \n",
      "---  ------        --------------  -----  \n",
      " 0   Sepal.Length  150 non-null    float64\n",
      " 1   Sepal.Width   150 non-null    float64\n",
      " 2   Petal.Length  150 non-null    float64\n",
      " 3   Petal.Width   150 non-null    float64\n",
      " 4   Species       150 non-null    object \n",
      "dtypes: float64(4), object(1)\n",
      "memory usage: 6.0+ KB\n"
     ]
    },
    {
     "data": {
      "text/plain": [
       "(45, 4)"
      ]
     },
     "execution_count": 4,
     "metadata": {},
     "output_type": "execute_result"
    }
   ],
   "source": [
    "\n",
    "# data load\n",
    "iris = pd.read_csv(\"C:/IITT/6_Tensorflow/data/iris.csv\")\n",
    "iris.info()\n",
    "\n",
    "\n",
    "# 1. 공급 data 생성\n",
    "cols = list(iris.columns)\n",
    "x_data = iris[cols[:4]]\n",
    "y_data = iris[cols[-1]]\n",
    "\n",
    "x_data.shape # (150,4)\n",
    "y_data.shape # (150, )\n",
    "\n",
    "\n",
    "# 2. X,Y 변수 정의 : tensorflow 변수 정의\n",
    "X = tf.placeholder(dtype=tf.float32, shape=[None,4])\n",
    "Y = tf.placeholder(dtype=tf.string, shape=[None])\n",
    "\n",
    "\n",
    "# 3. train/test split\n",
    "x_train, x_test, y_train, y_test = train_test_split(\n",
    "    x_data,y_data,test_size=0.3)\n",
    " \n",
    "x_train.shape # (105,4)\n",
    "x_test.shape # (45,4)\n",
    "\n"
   ]
  },
  {
   "cell_type": "code",
   "execution_count": 10,
   "metadata": {},
   "outputs": [
    {
     "name": "stdout",
     "output_type": "stream",
     "text": [
      "x= [[4.7 3.2 1.3 0.2]\n",
      " [5.7 2.5 5.  2. ]\n",
      " [6.2 2.2 4.5 1.5]\n",
      " [4.8 3.4 1.9 0.2]\n",
      " [5.  3.5 1.3 0.3]\n",
      " [6.7 2.5 5.8 1.8]\n",
      " [5.4 3.  4.5 1.5]\n",
      " [5.4 3.4 1.5 0.4]\n",
      " [6.1 3.  4.6 1.4]\n",
      " [5.8 2.7 5.1 1.9]]\n",
      "y= ['setosa' 'virginica' 'versicolor' 'setosa' 'setosa' 'virginica'\n",
      " 'versicolor' 'setosa' 'versicolor' 'virginica']\n",
      "\n",
      " x= [[6.4 3.2 4.5 1.5]\n",
      " [6.4 3.1 5.5 1.8]\n",
      " [5.2 3.5 1.5 0.2]\n",
      " [5.9 3.2 4.8 1.8]\n",
      " [6.1 2.6 5.6 1.4]\n",
      " [5.6 2.8 4.9 2. ]\n",
      " [6.7 3.3 5.7 2.5]\n",
      " [7.  3.2 4.7 1.4]\n",
      " [5.9 3.  5.1 1.8]\n",
      " [5.8 4.  1.2 0.2]]\n",
      "y= ['versicolor' 'virginica' 'setosa' 'versicolor' 'virginica' 'virginica'\n",
      " 'virginica' 'versicolor' 'virginica' 'setosa']\n",
      "(45,)\n",
      "<class 'numpy.ndarray'>\n",
      "<class 'pandas.core.frame.DataFrame'>\n",
      "RangeIndex: 45 entries, 0 to 44\n",
      "Data columns (total 4 columns):\n",
      " #   Column  Non-Null Count  Dtype  \n",
      "---  ------  --------------  -----  \n",
      " 0   a       45 non-null     float32\n",
      " 1   b       45 non-null     float32\n",
      " 2   c       45 non-null     float32\n",
      " 3   d       45 non-null     float32\n",
      "dtypes: float32(4)\n",
      "memory usage: 848.0 bytes\n",
      "None\n",
      "a    5.808888\n",
      "b    3.075556\n",
      "c    3.695556\n",
      "d    1.197778\n",
      "dtype: float32\n",
      "setosa        17\n",
      "virginica     16\n",
      "versicolor    12\n",
      "dtype: int64\n"
     ]
    }
   ],
   "source": [
    "\n",
    "# 4. session object : data 공급 -> 변수\n",
    "with tf.Session() as sess :\n",
    "    # 훈련용 data 공급\n",
    "    feed_data = {X:x_train, Y:y_train}\n",
    "    x_re, y_re = sess.run([X,Y],feed_dict=feed_data)\n",
    "    print(\"x=\",x_re[:10])\n",
    "    print(\"y=\",y_re[:10])\n",
    "    \n",
    "    # 평가용 data 공급\n",
    "    test_feed_data = {X:x_test, Y:y_test}\n",
    "    x_re2, y_re2 = sess.run([X,Y],feed_dict=test_feed_data)\n",
    "    print(\"\\n x=\",x_re2[:10])\n",
    "    print(\"y=\",y_re2[:10])\n",
    "    print(y_re2.shape) # (45,)\n",
    "    print(type(y_re2)) # <class 'numpy.ndarray'>\n",
    "    \n",
    "    # numpy -> pandas 변경\n",
    "    x_df = pd.DataFrame(x_re2, columns=['a','b','c','d'])\n",
    "    print(x_df.info())\n",
    "    print(x_df.mean(axis=0))\n",
    "    \n",
    "    y_ser = pd.Series(y_re2)\n",
    "    print(y_ser.value_counts())\n",
    "    \n"
   ]
  }
 ],
 "metadata": {
  "kernelspec": {
   "display_name": "Python 3",
   "language": "python",
   "name": "python3"
  },
  "language_info": {
   "codemirror_mode": {
    "name": "ipython",
    "version": 3
   },
   "file_extension": ".py",
   "mimetype": "text/x-python",
   "name": "python",
   "nbconvert_exporter": "python",
   "pygments_lexer": "ipython3",
   "version": "3.7.7"
  }
 },
 "nbformat": 4,
 "nbformat_minor": 4
}
