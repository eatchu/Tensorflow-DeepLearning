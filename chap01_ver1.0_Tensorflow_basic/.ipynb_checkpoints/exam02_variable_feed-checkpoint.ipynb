{
 "cells": [
  {
   "cell_type": "markdown",
   "metadata": {},
   "source": [
    "# 문제1)\n",
    "정규분포를 따르는 난수 1,000개를 x변수에 저장하고, y변수는 x변수의 코사인 값을 저장하여 산점도 차트를 출력하시오.     \n",
    "   - <조건1> x, y 변수 : placeholder()함수 이용 \n",
    "   - <조건2> x변수 : x_data 공급\n",
    "   - <조건3> y변수 : y_data 공급 \n",
    "   - <조건4> 산점도 차트 : matplotlib.pyplot 함수 이용   "
   ]
  },
  {
   "cell_type": "code",
   "execution_count": 1,
   "metadata": {},
   "outputs": [
    {
     "name": "stdout",
     "output_type": "stream",
     "text": [
      "WARNING:tensorflow:From C:\\Users\\user\\anaconda3\\lib\\site-packages\\tensorflow_core\\python\\compat\\v2_compat.py:65: disable_resource_variables (from tensorflow.python.ops.variable_scope) is deprecated and will be removed in a future version.\n",
      "Instructions for updating:\n",
      "non-resource variables are not supported in the long term\n"
     ]
    }
   ],
   "source": [
    "import numpy as np # 공급 data 생성 \n",
    "import matplotlib.pyplot as plt # 산점도 : plt.scatter(x, y)\n",
    "import tensorflow.compat.v1 as tf # ver 1.x\n",
    "tf.disable_v2_behavior() # ver 2.x 사용안함 "
   ]
  },
  {
   "cell_type": "code",
   "execution_count": 2,
   "metadata": {},
   "outputs": [],
   "source": [
    "# 변수, data 정의\n",
    "x = tf.placeholder(dtype=tf.float32)\n",
    "y = tf.placeholder(dtype=tf.float32)\n",
    "\n",
    "x_data = np.random.randn(1000)\n",
    "y_data = np.cos(x_data)"
   ]
  },
  {
   "cell_type": "code",
   "execution_count": 3,
   "metadata": {},
   "outputs": [
    {
     "data": {
      "image/png": "[encoded data removed]",
      "text/plain": [
       "<Figure size 432x288 with 1 Axes>"
      ]
     },
     "metadata": {
      "needs_background": "light"
     },
     "output_type": "display_data"
    }
   ],
   "source": [
    "# 세션 생성 : <조건2> ~ <조건4>\n",
    "with tf.Session() as sess :\n",
    "    \n",
    "    # <조건2> : x변수 실행 \n",
    "    X = sess.run(x, feed_dict={x:x_data})\n",
    "    \n",
    "    # <조건3> : y변수 실행 \n",
    "    Y = sess.run(y, feed_dict={y:y_data})\n",
    "    \n",
    "    # <조건4> : 산점도 시각화 \n",
    "    plt.scatter(X,Y)\n",
    "    plt.show()"
   ]
  },
  {
   "cell_type": "markdown",
   "metadata": {},
   "source": [
    "# 문제2)\n",
    "다음과 같이 변수를 선언하여 회귀방정식을 계산하시오.\n",
    "  -  조건1> X변수 : placeholder()이용 [None행 3열] 배열 선언\n",
    "       -> X변수 값 할당 : [[1,2,3]]\n",
    "  -  조건2> a변수 : Variable()이용 정규분포를 따르는 난수 [3행1열]배열 선언\n",
    "  -  조건3> b변수 : Variable()이용 정규분포를 따르는 난수 [1행1열] 배열 선언    \n",
    "  -  조건4> 계산식 : expr = (X * a) + b (단, Tensorflow 함수 이용) "
   ]
  },
  {
   "cell_type": "code",
   "execution_count": 4,
   "metadata": {},
   "outputs": [],
   "source": [
    "import tensorflow.compat.v1 as tf # ver 1.x\n",
    "tf.disable_v2_behavior() # ver 2.x 사용안함 \n",
    "\n",
    "# X변수 정의\n",
    "X = tf.placeholder(dtype=tf.float32, shape=[None, 3])\n",
    "\n",
    "# a,b 변수 정의 \n",
    "a = tf.Variable(tf.random_normal([3, 1])) \n",
    "b = tf.Variable(tf.random_normal([1, 1]))"
   ]
  },
  {
   "cell_type": "code",
   "execution_count": 5,
   "metadata": {},
   "outputs": [
    {
     "name": "stdout",
     "output_type": "stream",
     "text": [
      "X: \n",
      " [[1. 2. 3.]]\n",
      "a: \n",
      " [[ 0.5767627 ]\n",
      " [ 0.22883917]\n",
      " [-2.2263572 ]]\n",
      "b: \n",
      " [[0.10976895]]\n",
      "expr: \n",
      " [[ 0.6865316   1.2632943   1.840057  ]\n",
      " [ 0.33860812  0.5674473   0.79628646]\n",
      " [-2.1165884  -4.3429456  -6.5693026 ]]\n"
     ]
    }
   ],
   "source": [
    "\n",
    "# session object\n",
    "with tf.Session() as sess :\n",
    "    init = tf.global_variables_initializer()\n",
    "    sess.run(init)\n",
    "    x_data = [[1,2,3]]\n",
    "    \n",
    "    print(\"X: \\n\",sess.run(X,feed_dict={X:x_data}))    \n",
    "    print(\"a: \\n\",sess.run(a))\n",
    "    print(\"b: \\n\",sess.run(b))\n",
    "    \n",
    "\n",
    "    exp = tf.add(tf.multiply(X,a),b)\n",
    "\n",
    "    expr = sess.run(exp, feed_dict={X:x_data})\n",
    "    print(\"expr: \\n\", expr)\n",
    "    "
   ]
  },
  {
   "cell_type": "markdown",
   "metadata": {},
   "source": [
    "# 문제3)\n",
    "bmi.csv 파일을 가져와서 1,2칼럼은 x변수에 3칼럼은 y변수에 저장하여 처리하시오.\n",
    "  - 조건1> x변수 : placeholder()이용 None행2열 배열 선언\n",
    "  - 조건2> y변수 : placeholder()이용 1차원 배열 선언\n",
    "  - 조건3> 칼럼 단위 평균 계산, label 빈도수 출력   \n"
   ]
  },
  {
   "cell_type": "code",
   "execution_count": 6,
   "metadata": {},
   "outputs": [],
   "source": [
    "import pandas as pd \n",
    "\n",
    "import tensorflow.compat.v1 as tf # ver 1.x\n",
    "tf.disable_v2_behavior() # ver 2.x 사용안함 \n"
   ]
  },
  {
   "cell_type": "code",
   "execution_count": 16,
   "metadata": {},
   "outputs": [
    {
     "name": "stdout",
     "output_type": "stream",
     "text": [
      "<class 'pandas.core.frame.DataFrame'>\n",
      "RangeIndex: 20000 entries, 0 to 19999\n",
      "Data columns (total 3 columns):\n",
      " #   Column  Non-Null Count  Dtype \n",
      "---  ------  --------------  ----- \n",
      " 0   height  20000 non-null  int64 \n",
      " 1   weight  20000 non-null  int64 \n",
      " 2   label   20000 non-null  object\n",
      "dtypes: int64(2), object(1)\n",
      "memory usage: 468.9+ KB\n"
     ]
    }
   ],
   "source": [
    "bmi = pd.read_csv(\"C:/IITT/6_Tensorflow/data/bmi.csv\")\n",
    "bmi.info()\n",
    "\n",
    "x_data = bmi.iloc[:,[0,1]]\n",
    "y_data = bmi.iloc[:,2]\n"
   ]
  },
  {
   "cell_type": "code",
   "execution_count": 18,
   "metadata": {},
   "outputs": [],
   "source": [
    "# 변수 정의\n",
    "X = tf.placeholder(dtype = tf.int32, shape = [None,2])\n",
    "Y = tf.placeholder(dtype = tf.string, shape = [None])"
   ]
  },
  {
   "cell_type": "code",
   "execution_count": 20,
   "metadata": {},
   "outputs": [
    {
     "name": "stdout",
     "output_type": "stream",
     "text": [
      "키 평균 : 164.938\n",
      "몸무게 평균 : 62.41\n",
      "\n",
      " label 빈도수 : \n",
      " normal    7677\n",
      "fat       7425\n",
      "thin      4898\n",
      "dtype: int64\n"
     ]
    }
   ],
   "source": [
    "with tf.Session() as sess:\n",
    "    x,y = sess.run([X,Y], feed_dict={X:x_data, Y:y_data})\n",
    "    pd_x = pd.DataFrame(x, columns=['height','weight'])\n",
    "    print(\"키 평균 : %.3f\"%(pd_x['height'].mean()))\n",
    "    print(\"몸무게 평균 : %.2f\"%(pd_x['weight'].mean()))\n",
    "    \n",
    "    pd_y = pd.Series(y)\n",
    "    print('\\n label 빈도수 : \\n', pd_y.value_counts())"
   ]
  }
 ],
 "metadata": {
  "kernelspec": {
   "display_name": "Python 3",
   "language": "python",
   "name": "python3"
  },
  "language_info": {
   "codemirror_mode": {
    "name": "ipython",
    "version": 3
   },
   "file_extension": ".py",
   "mimetype": "text/x-python",
   "name": "python",
   "nbconvert_exporter": "python",
   "pygments_lexer": "ipython3",
   "version": "3.7.7"
  }
 },
 "nbformat": 4,
 "nbformat_minor": 4
}
