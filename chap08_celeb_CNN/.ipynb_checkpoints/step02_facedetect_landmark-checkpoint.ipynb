{
 "cells": [
  {
   "cell_type": "markdown",
   "metadata": {},
   "source": [
    "# image 얼굴인식과 68 point landmark 인식 \n",
    "\n",
    "1. Anaconda python 3.7 설치 : git hub API 이용\n",
    "   - 1) dlib 설치\n",
    "          - > conda install -c conda-forge dlib \n",
    "   - 2) 68 point landmark 학습 data 다운로드\n"
   ]
  },
  {
   "cell_type": "code",
   "execution_count": null,
   "metadata": {},
   "outputs": [],
   "source": [
    "\n",
    "import dlib # face detection/face landmark\n",
    "from skimage import io # image read/save\n",
    "import os # dir 생성/이동/경로 \n",
    "from glob import glob # dir 패턴검색(*jpg)\n",
    "\n",
    "# 현재 경로 기준  \n",
    "fpath = os.getcwd() + \"/\" + \"images\" # raw image 위치 \n",
    "fpath2 = os.getcwd() + \"/\"+ \"croped_images\" # croped image 저장 위치\n",
    "\n",
    "# 68 landmark 학습 data \n",
    "predictor = \"shape_predictor_68_face_landmarks.dat\"\n",
    "\n",
    "# hog 얼굴 인식기(알고리즘)\n",
    "face_detector = dlib.get_frontal_face_detector()\n",
    "# 68 landmark 인식기 \n",
    "face_68_landmark = dlib.shape_predictor(predictor)\n",
    "\n",
    "\n",
    "i = 0\n",
    "for file in glob(fpath+\"/*.jpg\") :   \n",
    "    image = io.imread(file)\n",
    "    print(image.shape) \n",
    "    \n",
    "    # image 출력장 표시 \n",
    "    win = dlib.image_window()\n",
    "    win.set_image(image)\n",
    "        \n",
    "    detected = face_detector(image)\n",
    "    print('인식한 face size =', len(detected))\n",
    "    \n",
    "    i += 1\n",
    "    for face in detected : \n",
    "        # 감지된 image 사각점 좌표 \n",
    "        print(face) # [(141, 171) : 왼쪽 위  (409, 439) : 오른쪽 아래]\n",
    "        \n",
    "        print(f'왼쪽 : {face.left()}, 위 : {face.top()}, 오른쪽 : {face.right()}, 아래 : {face.bottom()}')\n",
    "        # 왼쪽 : 141, 위 : 171, 오른쪽 : 409, 아래 : 439\n",
    "        \n",
    "        \n",
    "        # 이미지 출력장에 face 사각점 좌표 겹치기 \n",
    "        win.add_overlay(face)\n",
    "        \n",
    "        # 이미지 face 사각점안에 68 point 겹치기\n",
    "        face_landmark = face_68_landmark(image, face)\n",
    "        win.add_overlay(face_landmark)\n",
    "        \n",
    "        # 크롭(crop) : 얼굴 부분만 자르기 : image[h, w]\n",
    "        crop = image[face.top():face.bottom(), face.left():face.right()]\n",
    "        \n",
    "        # croped image save\n",
    "        io.imsave(fpath2 + \"/croped\"+str(i)+\".jpg\", crop)\n"
   ]
  }
 ],
 "metadata": {
  "kernelspec": {
   "display_name": "Python 3",
   "language": "python",
   "name": "python3"
  },
  "language_info": {
   "codemirror_mode": {
    "name": "ipython",
    "version": 3
   },
   "file_extension": ".py",
   "mimetype": "text/x-python",
   "name": "python",
   "nbconvert_exporter": "python",
   "pygments_lexer": "ipython3",
   "version": "3.7.7"
  }
 },
 "nbformat": 4,
 "nbformat_minor": 4
}
