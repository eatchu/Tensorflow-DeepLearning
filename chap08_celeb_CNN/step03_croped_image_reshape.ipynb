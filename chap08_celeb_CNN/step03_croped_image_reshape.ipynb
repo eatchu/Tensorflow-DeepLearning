{
 "cells": [
  {
   "cell_type": "markdown",
   "metadata": {},
   "source": [
    "# croped image reshape(150x150)"
   ]
  },
  {
   "cell_type": "code",
   "execution_count": null,
   "metadata": {},
   "outputs": [],
   "source": [
    "\n",
    "from glob import glob # (*.jpg)\n",
    "from PIL import Image # image file read\n",
    "from skimage import io # image save\n",
    "import numpy as np\n",
    "import os\n",
    "\n",
    "fpath = os.getcwd() + \"/croped_images\"\n",
    "print(fpath)\n",
    "\n",
    "# croped image -> 150x150\n",
    "def imageReshape() : \n",
    "    img_h = img_w = 150\n",
    "    \n",
    "    image_reshape = [] # image save \n",
    "    \n",
    "    for file in glob(fpath + \"/*.jpg\") :\n",
    "        img = Image.open(file) \n",
    "        \n",
    "        # image 규격화 \n",
    "        img = img.resize( (img_h, img_w) )\n",
    "        # PIL -> numpy\n",
    "        img_data = np.array(img)\n",
    "        print(img_data.shape)\n",
    "        \n",
    "        image_reshape.append(img_data)\n",
    "    \n",
    "    return np.array(image_reshape) # list -> numpy\n",
    "        \n",
    "image_reshape = imageReshape()    \n",
    "\n",
    "print(image_reshape.shape) # (5, 150, 150, 3)\n",
    "\n",
    "import matplotlib.pyplot as plt\n",
    "    \n",
    "for i in range(image_reshape.shape[0]) :\n",
    "    img = image_reshape[i]\n",
    "    plt.imshow(img)\n",
    "    plt.show()\n",
    "    \n",
    "    io.imsave(fpath+\"/croped\" + str(i+1) + \"_reshape\" + \".jpg\", img)\n",
    "    \n",
    "    "
   ]
  }
 ],
 "metadata": {
  "kernelspec": {
   "display_name": "Python 3",
   "language": "python",
   "name": "python3"
  },
  "language_info": {
   "codemirror_mode": {
    "name": "ipython",
    "version": 3
   },
   "file_extension": ".py",
   "mimetype": "text/x-python",
   "name": "python",
   "nbconvert_exporter": "python",
   "pygments_lexer": "ipython3",
   "version": "3.7.7"
  }
 },
 "nbformat": 4,
 "nbformat_minor": 4
}
