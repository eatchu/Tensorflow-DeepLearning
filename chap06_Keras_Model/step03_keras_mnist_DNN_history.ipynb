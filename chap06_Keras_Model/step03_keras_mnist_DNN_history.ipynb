{
 "cells": [
  {
   "cell_type": "markdown",
   "metadata": {},
   "source": [
    "# Tensorflow2.0 keras + MNIST(0~9) \n",
    "# + Flatten layer + history\n",
    "\n"
   ]
  },
  {
   "cell_type": "code",
   "execution_count": 1,
   "metadata": {},
   "outputs": [],
   "source": [
    "\n",
    "import tensorflow as tf # ver2.x\n",
    "from tensorflow.keras.datasets.mnist import load_data # ver2.x dataset\n",
    "from sklearn.datasets import load_iris\n",
    "from sklearn.model_selection import train_test_split\n",
    "from sklearn.preprocessing import minmax_scale # x변수 전처리\n",
    "from tensorflow.keras.utils import to_categorical # 원핫코딩과 비슷한것, y변수 전처리\n",
    "from tensorflow.keras import Sequential # model 생성\n",
    "from tensorflow.keras.layers import Dense, Flatten# , Flatten # layer 생성\n",
    "from tensorflow.keras.models import load_model # model save/load\n",
    "from sklearn.metrics import accuracy_score\n"
   ]
  },
  {
   "cell_type": "code",
   "execution_count": 2,
   "metadata": {},
   "outputs": [
    {
     "name": "stdout",
     "output_type": "stream",
     "text": [
      "Model: \"sequential\"\n",
      "_________________________________________________________________\n",
      "Layer (type)                 Output Shape              Param #   \n",
      "=================================================================\n",
      "flatten (Flatten)            (None, 784)               0         \n",
      "_________________________________________________________________\n",
      "dense (Dense)                (None, 128)               100480    \n",
      "_________________________________________________________________\n",
      "dense_1 (Dense)              (None, 64)                8256      \n",
      "_________________________________________________________________\n",
      "dense_2 (Dense)              (None, 32)                2080      \n",
      "_________________________________________________________________\n",
      "dense_3 (Dense)              (None, 10)                330       \n",
      "=================================================================\n",
      "Total params: 111,146\n",
      "Trainable params: 111,146\n",
      "Non-trainable params: 0\n",
      "_________________________________________________________________\n"
     ]
    }
   ],
   "source": [
    "\n",
    "# 1. x, y 공급 data \n",
    "(x_train, y_train), (x_val, y_val) = load_data()\n",
    "x_train.shape # image # (60000, 28, 28) # 3없음:색깔없음\n",
    "y_train.shape # labels # (60000,)\n",
    "\n",
    "# x변수 전처리 : 정규화\n",
    "x_train[0] # 0~255숫자가 28x28행렬형태\n",
    "x_train = x_train/255.  # 255. 으로 나누어줌으로써 실수로 변경\n",
    "x_val = x_val/255.\n",
    "\n",
    "'''\n",
    "# 2d -> 1d\n",
    "x_train = x_train.reshape(-1, 784)\n",
    "x_val = x_val.reshape(-1, 784)\n",
    "'''\n",
    "\n",
    "# y변수 : one hot encoding\n",
    "y_train = to_categorical(y_train) # y변수 전처리 : one hot encoding\n",
    "y_val = to_categorical(y_val)\n",
    "y_train.shape # (60000, 10)\n",
    "\n",
    "# 2. keras model 생성\n",
    "model = Sequential()\n",
    "model # object info\n",
    "\n",
    "# 3. model layer\n",
    "'''\n",
    "model.add(Dense(node수, input_shape, activation)) # hidden layer1\n",
    "model.add(Dense(node수, activation)) # hidden layer1 ~ n\n",
    "'''\n",
    "\n",
    "input_shape = (28, 28)\n",
    "\n",
    "# Flatten layer  2d(28,28) -> 1d(784)\n",
    "model.add(Flatten(input_shape = input_shape)) # 0층\n",
    "\n",
    "# hidden layer1 = [784,128] \n",
    "model.add(Dense(128, input_shape = (784,), activation = 'relu')) # 1층\n",
    "# hidden layer2 = [128,64]\n",
    "model.add(Dense(64, activation = 'relu')) # 2층\n",
    "# hidden layer3 = [64,32]\n",
    "model.add(Dense(32, activation = 'relu')) # 2층\n",
    "# output layer2 = [32,10]\n",
    "model.add(Dense(10, activation = 'softmax')) # 3층\n",
    "\n",
    "# 4. model compile : 학습환경 설정\n",
    "model.compile(optimizer = 'adam', # 최적화 알고리즘(lr 생략)\n",
    "              loss = 'categorical_crossentropy', # 손실\n",
    "              metrics=['accuracy']) # 평가 방법\n",
    "\n",
    "# layer 확인\n",
    "model.summary()"
   ]
  },
  {
   "cell_type": "code",
   "execution_count": 3,
   "metadata": {
    "scrolled": true
   },
   "outputs": [
    {
     "name": "stdout",
     "output_type": "stream",
     "text": [
      "Train on 60000 samples, validate on 10000 samples\n",
      "Epoch 1/15\n",
      "60000/60000 [==============================] - 4s 64us/sample - loss: 0.2506 - accuracy: 0.9246 - val_loss: 0.1287 - val_accuracy: 0.9600\n",
      "Epoch 2/15\n",
      "60000/60000 [==============================] - 3s 53us/sample - loss: 0.1049 - accuracy: 0.9680 - val_loss: 0.1451 - val_accuracy: 0.9542\n",
      "Epoch 3/15\n",
      "60000/60000 [==============================] - 3s 54us/sample - loss: 0.0752 - accuracy: 0.9765 - val_loss: 0.0757 - val_accuracy: 0.9767\n",
      "Epoch 4/15\n",
      "60000/60000 [==============================] - 3s 54us/sample - loss: 0.0598 - accuracy: 0.9811 - val_loss: 0.0786 - val_accuracy: 0.9767\n",
      "Epoch 5/15\n",
      "60000/60000 [==============================] - 3s 55us/sample - loss: 0.0482 - accuracy: 0.9847 - val_loss: 0.0897 - val_accuracy: 0.9743\n",
      "Epoch 6/15\n",
      "60000/60000 [==============================] - 3s 54us/sample - loss: 0.0390 - accuracy: 0.9874 - val_loss: 0.0886 - val_accuracy: 0.9772\n",
      "Epoch 7/15\n",
      "60000/60000 [==============================] - 3s 54us/sample - loss: 0.0333 - accuracy: 0.9888 - val_loss: 0.0820 - val_accuracy: 0.9776\n",
      "Epoch 8/15\n",
      "60000/60000 [==============================] - 3s 55us/sample - loss: 0.0276 - accuracy: 0.9911 - val_loss: 0.0855 - val_accuracy: 0.9776\n",
      "Epoch 9/15\n",
      "60000/60000 [==============================] - 3s 55us/sample - loss: 0.0278 - accuracy: 0.9905 - val_loss: 0.0884 - val_accuracy: 0.9784\n",
      "Epoch 10/15\n",
      "60000/60000 [==============================] - 3s 55us/sample - loss: 0.0238 - accuracy: 0.9925 - val_loss: 0.0892 - val_accuracy: 0.9791\n",
      "Epoch 11/15\n",
      "60000/60000 [==============================] - 3s 54us/sample - loss: 0.0205 - accuracy: 0.9933 - val_loss: 0.0851 - val_accuracy: 0.9805\n",
      "Epoch 12/15\n",
      "60000/60000 [==============================] - 3s 54us/sample - loss: 0.0189 - accuracy: 0.9936 - val_loss: 0.1114 - val_accuracy: 0.9757\n",
      "Epoch 13/15\n",
      "60000/60000 [==============================] - 3s 54us/sample - loss: 0.0164 - accuracy: 0.9947 - val_loss: 0.1079 - val_accuracy: 0.9785\n",
      "Epoch 14/15\n",
      "60000/60000 [==============================] - 3s 54us/sample - loss: 0.0162 - accuracy: 0.9948 - val_loss: 0.1071 - val_accuracy: 0.9769\n",
      "Epoch 15/15\n",
      "60000/60000 [==============================] - 3s 57us/sample - loss: 0.0159 - accuracy: 0.9948 - val_loss: 0.1166 - val_accuracy: 0.9770\n"
     ]
    }
   ],
   "source": [
    "# 5. model training : train vs val\n",
    "model_fit = model.fit(x_train, y_train, epochs=15, verbose=1, validation_data=(x_val, y_val))"
   ]
  },
  {
   "cell_type": "code",
   "execution_count": null,
   "metadata": {},
   "outputs": [],
   "source": [
    "# "
   ]
  }
 ],
 "metadata": {
  "kernelspec": {
   "display_name": "Python 3",
   "language": "python",
   "name": "python3"
  },
  "language_info": {
   "codemirror_mode": {
    "name": "ipython",
    "version": 3
   },
   "file_extension": ".py",
   "mimetype": "text/x-python",
   "name": "python",
   "nbconvert_exporter": "python",
   "pygments_lexer": "ipython3",
   "version": "3.7.7"
  }
 },
 "nbformat": 4,
 "nbformat_minor": 4
}
