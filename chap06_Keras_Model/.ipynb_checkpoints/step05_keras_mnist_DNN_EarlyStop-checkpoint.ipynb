{
 "cells": [
  {
   "cell_type": "markdown",
   "metadata": {},
   "source": [
    "# Tensorflow2.0 keras + MNIST(0~9) + Flatten layer + history + Dropout + EarlyStopping"
   ]
  },
  {
   "cell_type": "code",
   "execution_count": 1,
   "metadata": {},
   "outputs": [],
   "source": [
    "import tensorflow as tf # ver2.x\n",
    "from tensorflow.keras.datasets.mnist import load_data # ver2.x dataset\n",
    "from sklearn.datasets import load_iris\n",
    "from sklearn.model_selection import train_test_split\n",
    "from sklearn.preprocessing import minmax_scale # x변수 전처리\n",
    "from tensorflow.keras.utils import to_categorical # 원핫코딩과 비슷한것, y변수 전처리\n",
    "from tensorflow.keras import Sequential # model 생성\n",
    "from tensorflow.keras.layers import Dense, Flatten, Dropout# , Flatten # layer 생성\n",
    "from tensorflow.keras.models import load_model # model save/load\n",
    "from sklearn.metrics import accuracy_score\n",
    "from tensorflow.keras.callbacks import EarlyStopping\n"
   ]
  },
  {
   "cell_type": "code",
   "execution_count": 2,
   "metadata": {},
   "outputs": [
    {
     "name": "stdout",
     "output_type": "stream",
     "text": [
      "Model: \"sequential\"\n",
      "_________________________________________________________________\n",
      "Layer (type)                 Output Shape              Param #   \n",
      "=================================================================\n",
      "flatten (Flatten)            (None, 784)               0         \n",
      "_________________________________________________________________\n",
      "dense (Dense)                (None, 128)               100480    \n",
      "_________________________________________________________________\n",
      "dense_1 (Dense)              (None, 64)                8256      \n",
      "_________________________________________________________________\n",
      "dense_2 (Dense)              (None, 32)                2080      \n",
      "_________________________________________________________________\n",
      "dense_3 (Dense)              (None, 10)                330       \n",
      "=================================================================\n",
      "Total params: 111,146\n",
      "Trainable params: 111,146\n",
      "Non-trainable params: 0\n",
      "_________________________________________________________________\n"
     ]
    }
   ],
   "source": [
    "\n",
    "# 1. x, y 공급 data \n",
    "(x_train, y_train), (x_val, y_val) = load_data()\n",
    "x_train.shape # image # (60000, 28, 28) # 3없음:색깔없음\n",
    "y_train.shape # labels # (60000,)\n",
    "\n",
    "# x변수 전처리 : 정규화\n",
    "x_train[0] # 0~255숫자가 28x28행렬형태\n",
    "x_train = x_train/255.  # 255. 으로 나누어줌으로써 실수로 변경\n",
    "x_val = x_val/255.\n",
    "\n",
    "'''\n",
    "# 2d -> 1d\n",
    "x_train = x_train.reshape(-1, 784)\n",
    "x_val = x_val.reshape(-1, 784)\n",
    "'''\n",
    "\n",
    "# y변수 : one hot encoding\n",
    "y_train = to_categorical(y_train) # y변수 전처리 : one hot encoding\n",
    "y_val = to_categorical(y_val)\n",
    "y_train.shape # (60000, 10)\n",
    "\n",
    "# 2. keras model 생성\n",
    "model = Sequential()\n",
    "model # object info\n",
    "\n",
    "# 3. model layer\n",
    "'''\n",
    "model.add(Dense(node수, input_shape, activation)) # hidden layer1\n",
    "model.add(Dense(node수, activation)) # hidden layer1 ~ n\n",
    "'''\n",
    "\n",
    "input_shape = (28, 28)\n",
    "\n",
    "# Flatten layer  2d(28,28) -> 1d(784)\n",
    "model.add(Flatten(input_shape = input_shape)) # 0층\n",
    "\n",
    "# hidden layer1 = [784,128] \n",
    "model.add(Dense(128, input_shape = (784,), activation = 'relu')) # 1층\n",
    "Dropout(rate=0.5) # node 50% 제거\n",
    "# hidden layer2 = [128,64]\n",
    "model.add(Dense(64, activation = 'relu')) # 2층\n",
    "Dropout(rate=0.3)\n",
    "# hidden layer3 = [64,32]\n",
    "model.add(Dense(32, activation = 'relu')) # 3층\n",
    "Dropout(rate=0.3)\n",
    "# output layer2 = [32,10]\n",
    "model.add(Dense(10, activation = 'softmax')) # 4층 : Dropout(x)\n",
    "\n",
    "\n",
    "# 4. model compile : 학습환경 설정\n",
    "model.compile(optimizer = 'adam', # 최적화 알고리즘(lr 생략)\n",
    "              loss = 'categorical_crossentropy', # 손실\n",
    "              metrics=['accuracy']) # 평가 방법\n",
    "\n",
    "# layer 확인\n",
    "model.summary()\n"
   ]
  },
  {
   "cell_type": "code",
   "execution_count": 3,
   "metadata": {
    "scrolled": true
   },
   "outputs": [
    {
     "name": "stdout",
     "output_type": "stream",
     "text": [
      "Train on 60000 samples, validate on 10000 samples\n",
      "Epoch 1/15\n",
      "60000/60000 [==============================] - 4s 63us/sample - loss: 0.2557 - accuracy: 0.9245 - val_loss: 0.1532 - val_accuracy: 0.9525\n",
      "Epoch 2/15\n",
      "60000/60000 [==============================] - 3s 54us/sample - loss: 0.1093 - accuracy: 0.9664 - val_loss: 0.1027 - val_accuracy: 0.9678\n",
      "Epoch 3/15\n",
      "60000/60000 [==============================] - 3s 54us/sample - loss: 0.0774 - accuracy: 0.9755 - val_loss: 0.1190 - val_accuracy: 0.9613\n",
      "Epoch 4/15\n",
      "60000/60000 [==============================] - 3s 53us/sample - loss: 0.0609 - accuracy: 0.9805 - val_loss: 0.0877 - val_accuracy: 0.9727\n",
      "Epoch 5/15\n",
      "60000/60000 [==============================] - 3s 53us/sample - loss: 0.0483 - accuracy: 0.9844 - val_loss: 0.0816 - val_accuracy: 0.9755\n",
      "Epoch 6/15\n",
      "60000/60000 [==============================] - 3s 53us/sample - loss: 0.0411 - accuracy: 0.9863 - val_loss: 0.0947 - val_accuracy: 0.9758\n",
      "Epoch 7/15\n",
      "60000/60000 [==============================] - 3s 54us/sample - loss: 0.0334 - accuracy: 0.9891 - val_loss: 0.0885 - val_accuracy: 0.9760\n"
     ]
    }
   ],
   "source": [
    "\n",
    "# 5. model training : train(112) vs val(38)\n",
    "callback = EarlyStopping(monitor='val_loss', patience=2)\n",
    "\n",
    "model_fit = model.fit(x=x_train, y=y_train,  # 학습용\n",
    "          epochs=15,\n",
    "          verbose=1, # 학습과정 횟수\n",
    "          validation_data=(x_val, y_val), # 평가용\n",
    "          callbacks=[callback]) # model 조기종료\n",
    "# callback : 특정 method -> 또 다른 method 호출기법\n",
    "\n"
   ]
  },
  {
   "cell_type": "code",
   "execution_count": 4,
   "metadata": {},
   "outputs": [
    {
     "name": "stdout",
     "output_type": "stream",
     "text": [
      "dict_keys(['loss', 'accuracy', 'val_loss', 'val_accuracy'])\n"
     ]
    },
    {
     "data": {
      "image/png": "[encoded data removed]",
      "text/plain": [
       "<Figure size 432x288 with 1 Axes>"
      ]
     },
     "metadata": {
      "needs_background": "light"
     },
     "output_type": "display_data"
    },
    {
     "data": {
      "image/png": "[encoded data removed]",
      "text/plain": [
       "<Figure size 432x288 with 1 Axes>"
      ]
     },
     "metadata": {
      "needs_background": "light"
     },
     "output_type": "display_data"
    }
   ],
   "source": [
    "\n",
    "# 6. model history\n",
    "print(model_fit.history.keys()) \n",
    "# dict_keys(['loss','accuracy','val_loss','val_accuracy'])\n",
    "train_loss = model_fit.history['loss']\n",
    "train_acc = model_fit.history['accuracy']\n",
    "val_loss = model_fit.history['val_loss']\n",
    "val_acc = model_fit.history['val_accuracy']\n",
    "\n",
    "\n",
    "import matplotlib.pyplot as plt\n",
    "\n",
    "# train vs val loss\n",
    "plt.plot(train_loss, c='y', label='train loss')\n",
    "plt.plot(val_loss, c='r', label='val loss')\n",
    "plt.legend(loc='best')\n",
    "plt.xlabel('epochs')\n",
    "plt.show()\n",
    "\n",
    "# train vs val accuracy\n",
    "plt.plot(train_acc, c='y', label='train accuracy')\n",
    "plt.plot(val_acc, c='r', label='val accuracy')\n",
    "plt.legend(loc='best')\n",
    "plt.xlabel('epochs')\n",
    "plt.show()\n",
    "\n"
   ]
  }
 ],
 "metadata": {
  "kernelspec": {
   "display_name": "Python 3",
   "language": "python",
   "name": "python3"
  },
  "language_info": {
   "codemirror_mode": {
    "name": "ipython",
    "version": 3
   },
   "file_extension": ".py",
   "mimetype": "text/x-python",
   "name": "python",
   "nbconvert_exporter": "python",
   "pygments_lexer": "ipython3",
   "version": "3.7.7"
  }
 },
 "nbformat": 4,
 "nbformat_minor": 4
}
